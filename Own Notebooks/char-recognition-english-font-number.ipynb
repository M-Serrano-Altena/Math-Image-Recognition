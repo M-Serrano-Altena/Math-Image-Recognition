{
 "cells": [
  {
   "cell_type": "markdown",
   "id": "6ed4a9ae",
   "metadata": {
    "papermill": {
     "duration": 0.00505,
     "end_time": "2024-12-01T19:47:45.656840",
     "exception": false,
     "start_time": "2024-12-01T19:47:45.651790",
     "status": "completed"
    },
    "tags": []
   },
   "source": [
    "## Character Image Recognition - English Font-Number"
   ]
  },
  {
   "cell_type": "markdown",
   "id": "64ed3451",
   "metadata": {
    "papermill": {
     "duration": 0.004078,
     "end_time": "2024-12-01T19:47:45.665332",
     "exception": false,
     "start_time": "2024-12-01T19:47:45.661254",
     "status": "completed"
    },
    "tags": []
   },
   "source": [
    "In this notebook a model is created to make a prediction about which character the image is supposed to display"
   ]
  },
  {
   "cell_type": "code",
   "execution_count": 1,
   "id": "6767feb2",
   "metadata": {
    "execution": {
     "iopub.execute_input": "2024-12-01T19:47:45.675670Z",
     "iopub.status.busy": "2024-12-01T19:47:45.674918Z",
     "iopub.status.idle": "2024-12-01T19:47:45.683112Z",
     "shell.execute_reply": "2024-12-01T19:47:45.682246Z"
    },
    "papermill": {
     "duration": 0.015515,
     "end_time": "2024-12-01T19:47:45.684991",
     "exception": false,
     "start_time": "2024-12-01T19:47:45.669476",
     "status": "completed"
    },
    "tags": []
   },
   "outputs": [
    {
     "name": "stdout",
     "output_type": "stream",
     "text": [
      "start\n"
     ]
    }
   ],
   "source": [
    "print(\"start\")"
   ]
  },
  {
   "cell_type": "code",
   "execution_count": 2,
   "id": "ff9f8878",
   "metadata": {
    "_cell_guid": "b1076dfc-b9ad-4769-8c92-a6c4dae69d19",
    "_uuid": "8f2839f25d086af736a60e9eeb907d3b93b6e0e5",
    "execution": {
     "iopub.execute_input": "2024-12-01T19:47:45.695625Z",
     "iopub.status.busy": "2024-12-01T19:47:45.695375Z",
     "iopub.status.idle": "2024-12-01T19:47:57.416438Z",
     "shell.execute_reply": "2024-12-01T19:47:57.415733Z"
    },
    "papermill": {
     "duration": 11.728167,
     "end_time": "2024-12-01T19:47:57.418531",
     "exception": false,
     "start_time": "2024-12-01T19:47:45.690364",
     "status": "completed"
    },
    "tags": []
   },
   "outputs": [],
   "source": [
    "import pandas as pd\n",
    "import numpy as np\n",
    "import tensorflow as tf\n",
    "from tensorflow import keras\n",
    "from tensorflow.keras import layers\n",
    "from tensorflow.keras.preprocessing import image_dataset_from_directory\n",
    "from tensorflow.keras.preprocessing import image\n",
    "\n",
    "import matplotlib.pyplot as plt\n",
    "import os"
   ]
  },
  {
   "cell_type": "code",
   "execution_count": 3,
   "id": "fbf44bd1",
   "metadata": {
    "execution": {
     "iopub.execute_input": "2024-12-01T19:47:57.429279Z",
     "iopub.status.busy": "2024-12-01T19:47:57.428787Z",
     "iopub.status.idle": "2024-12-01T19:47:57.583073Z",
     "shell.execute_reply": "2024-12-01T19:47:57.582234Z"
    },
    "papermill": {
     "duration": 0.161592,
     "end_time": "2024-12-01T19:47:57.584944",
     "exception": false,
     "start_time": "2024-12-01T19:47:57.423352",
     "status": "completed"
    },
    "tags": []
   },
   "outputs": [
    {
     "data": {
      "text/html": [
       "<div>\n",
       "<style scoped>\n",
       "    .dataframe tbody tr th:only-of-type {\n",
       "        vertical-align: middle;\n",
       "    }\n",
       "\n",
       "    .dataframe tbody tr th {\n",
       "        vertical-align: top;\n",
       "    }\n",
       "\n",
       "    .dataframe thead th {\n",
       "        text-align: right;\n",
       "    }\n",
       "</style>\n",
       "<table border=\"1\" class=\"dataframe\">\n",
       "  <thead>\n",
       "    <tr style=\"text-align: right;\">\n",
       "      <th></th>\n",
       "      <th>filepaths</th>\n",
       "      <th>Font</th>\n",
       "    </tr>\n",
       "  </thead>\n",
       "  <tbody>\n",
       "    <tr>\n",
       "      <th>0</th>\n",
       "      <td>../input/english-fontnumber-recognition/Font/F...</td>\n",
       "      <td>x</td>\n",
       "    </tr>\n",
       "    <tr>\n",
       "      <th>1</th>\n",
       "      <td>../input/english-fontnumber-recognition/Font/F...</td>\n",
       "      <td>x</td>\n",
       "    </tr>\n",
       "    <tr>\n",
       "      <th>2</th>\n",
       "      <td>../input/english-fontnumber-recognition/Font/F...</td>\n",
       "      <td>x</td>\n",
       "    </tr>\n",
       "    <tr>\n",
       "      <th>3</th>\n",
       "      <td>../input/english-fontnumber-recognition/Font/F...</td>\n",
       "      <td>x</td>\n",
       "    </tr>\n",
       "    <tr>\n",
       "      <th>4</th>\n",
       "      <td>../input/english-fontnumber-recognition/Font/F...</td>\n",
       "      <td>x</td>\n",
       "    </tr>\n",
       "    <tr>\n",
       "      <th>...</th>\n",
       "      <td>...</td>\n",
       "      <td>...</td>\n",
       "    </tr>\n",
       "    <tr>\n",
       "      <th>62987</th>\n",
       "      <td>../input/english-fontnumber-recognition/Font/F...</td>\n",
       "      <td>n</td>\n",
       "    </tr>\n",
       "    <tr>\n",
       "      <th>62988</th>\n",
       "      <td>../input/english-fontnumber-recognition/Font/F...</td>\n",
       "      <td>n</td>\n",
       "    </tr>\n",
       "    <tr>\n",
       "      <th>62989</th>\n",
       "      <td>../input/english-fontnumber-recognition/Font/F...</td>\n",
       "      <td>n</td>\n",
       "    </tr>\n",
       "    <tr>\n",
       "      <th>62990</th>\n",
       "      <td>../input/english-fontnumber-recognition/Font/F...</td>\n",
       "      <td>n</td>\n",
       "    </tr>\n",
       "    <tr>\n",
       "      <th>62991</th>\n",
       "      <td>../input/english-fontnumber-recognition/Font/F...</td>\n",
       "      <td>n</td>\n",
       "    </tr>\n",
       "  </tbody>\n",
       "</table>\n",
       "<p>62992 rows × 2 columns</p>\n",
       "</div>"
      ],
      "text/plain": [
       "                                               filepaths Font\n",
       "0      ../input/english-fontnumber-recognition/Font/F...    x\n",
       "1      ../input/english-fontnumber-recognition/Font/F...    x\n",
       "2      ../input/english-fontnumber-recognition/Font/F...    x\n",
       "3      ../input/english-fontnumber-recognition/Font/F...    x\n",
       "4      ../input/english-fontnumber-recognition/Font/F...    x\n",
       "...                                                  ...  ...\n",
       "62987  ../input/english-fontnumber-recognition/Font/F...    n\n",
       "62988  ../input/english-fontnumber-recognition/Font/F...    n\n",
       "62989  ../input/english-fontnumber-recognition/Font/F...    n\n",
       "62990  ../input/english-fontnumber-recognition/Font/F...    n\n",
       "62991  ../input/english-fontnumber-recognition/Font/F...    n\n",
       "\n",
       "[62992 rows x 2 columns]"
      ]
     },
     "execution_count": 3,
     "metadata": {},
     "output_type": "execute_result"
    }
   ],
   "source": [
    "file_path_train = \"/kaggle/input/english-fontnumber-recognition/train.csv\"\n",
    "df_chars = pd.read_csv(file_path_train)\n",
    "df_chars"
   ]
  },
  {
   "cell_type": "code",
   "execution_count": 4,
   "id": "3df95624",
   "metadata": {
    "execution": {
     "iopub.execute_input": "2024-12-01T19:47:57.595844Z",
     "iopub.status.busy": "2024-12-01T19:47:57.595313Z",
     "iopub.status.idle": "2024-12-01T19:48:55.452065Z",
     "shell.execute_reply": "2024-12-01T19:48:55.451400Z"
    },
    "papermill": {
     "duration": 57.864221,
     "end_time": "2024-12-01T19:48:55.454096",
     "exception": false,
     "start_time": "2024-12-01T19:47:57.589875",
     "status": "completed"
    },
    "tags": []
   },
   "outputs": [
    {
     "name": "stdout",
     "output_type": "stream",
     "text": [
      "Found 62992 files belonging to 62 classes.\n",
      "Using 50394 files for training.\n",
      "Found 62992 files belonging to 62 classes.\n",
      "Using 12598 files for validation.\n"
     ]
    }
   ],
   "source": [
    "dir_path = \"/kaggle/input/english-fontnumber-recognition/Font/Font\"\n",
    "\n",
    "validation_frac = 0.2\n",
    "batch_size = 256\n",
    "\n",
    "ds_train_ = image_dataset_from_directory(\n",
    "    dir_path,\n",
    "    labels='inferred',\n",
    "    label_mode = 'categorical',\n",
    "    image_size=[128, 128],\n",
    "    interpolation='nearest',\n",
    "    batch_size=batch_size,\n",
    "    shuffle=True,\n",
    "    subset=\"training\",\n",
    "    validation_split=validation_frac,\n",
    "    seed=0\n",
    ")\n",
    "\n",
    "ds_valid_ = image_dataset_from_directory(\n",
    "    dir_path,\n",
    "    labels='inferred',\n",
    "    label_mode = 'categorical',\n",
    "    image_size=[128, 128],\n",
    "    interpolation='nearest',\n",
    "    batch_size=batch_size,\n",
    "    shuffle=True,\n",
    "    subset=\"validation\",\n",
    "    validation_split=validation_frac,\n",
    "    seed=0\n",
    ")\n",
    "\n",
    "# Data Pipeline\n",
    "def convert_to_float(image, label):\n",
    "    image = tf.image.convert_image_dtype(image, dtype=tf.float32)\n",
    "    return image, label\n",
    "\n",
    "AUTOTUNE = tf.data.experimental.AUTOTUNE\n",
    "ds_train = (\n",
    "    ds_train_\n",
    "    .map(convert_to_float)\n",
    "    .cache()\n",
    "    .prefetch(buffer_size=AUTOTUNE)\n",
    ")\n",
    "\n",
    "ds_valid = (\n",
    "    ds_valid_\n",
    "    .map(convert_to_float)\n",
    "    .cache()\n",
    "    .prefetch(buffer_size=AUTOTUNE)\n",
    ")"
   ]
  },
  {
   "cell_type": "code",
   "execution_count": 5,
   "id": "402d8d70",
   "metadata": {
    "execution": {
     "iopub.execute_input": "2024-12-01T19:48:55.465400Z",
     "iopub.status.busy": "2024-12-01T19:48:55.464862Z",
     "iopub.status.idle": "2024-12-01T19:49:15.281176Z",
     "shell.execute_reply": "2024-12-01T19:49:15.280069Z"
    },
    "papermill": {
     "duration": 19.823752,
     "end_time": "2024-12-01T19:49:15.282936",
     "exception": false,
     "start_time": "2024-12-01T19:48:55.459184",
     "status": "completed"
    },
    "tags": []
   },
   "outputs": [
    {
     "name": "stdout",
     "output_type": "stream",
     "text": [
      "(12598, 128, 128, 3) (12598,)\n"
     ]
    }
   ],
   "source": [
    "# Initialize lists to hold the data\n",
    "X_val = []\n",
    "y_val = []\n",
    "\n",
    "# Iterate through the dataset\n",
    "for image_batch, label_batch in ds_valid.as_numpy_iterator():\n",
    "    X_val.append(image_batch)\n",
    "    y_val.append(label_batch)\n",
    "\n",
    "# Convert lists to NumPy arrays\n",
    "X_val = np.concatenate(X_val, axis=0)\n",
    "y_val = np.concatenate(y_val, axis=0)\n",
    "y_val = np.argmax(y_val, axis=1)\n",
    "\n",
    "print(X_val.shape, y_val.shape)"
   ]
  },
  {
   "cell_type": "code",
   "execution_count": 6,
   "id": "aa3d66ed",
   "metadata": {
    "execution": {
     "iopub.execute_input": "2024-12-01T19:49:15.294268Z",
     "iopub.status.busy": "2024-12-01T19:49:15.293958Z",
     "iopub.status.idle": "2024-12-01T19:49:15.411390Z",
     "shell.execute_reply": "2024-12-01T19:49:15.410728Z"
    },
    "papermill": {
     "duration": 0.125291,
     "end_time": "2024-12-01T19:49:15.413371",
     "exception": false,
     "start_time": "2024-12-01T19:49:15.288080",
     "status": "completed"
    },
    "tags": []
   },
   "outputs": [],
   "source": [
    "model = keras.Sequential([\n",
    "    layers.InputLayer(shape=[128, 128, 3]),\n",
    "    \n",
    "    # Data Augmentation\n",
    "    layers.RandomContrast(factor=0.1),\n",
    "    layers.RandomTranslation(height_factor=0.1, width_factor=0.1),\n",
    "    layers.RandomZoom(height_factor=0.1, width_factor=0.1),\n",
    "\n",
    "    # Block One\n",
    "    layers.BatchNormalization(),\n",
    "    layers.Conv2D(filters=64, kernel_size=3, activation='relu', padding='same', kernel_regularizer='l2'),\n",
    "    layers.MaxPool2D(),\n",
    "\n",
    "    # Block Two\n",
    "    layers.BatchNormalization(),\n",
    "    layers.Conv2D(filters=128, kernel_size=3, activation='relu', padding='same', kernel_regularizer='l2'),\n",
    "    layers.MaxPool2D(),\n",
    "\n",
    "    # Block Three\n",
    "    layers.BatchNormalization(),\n",
    "    layers.Conv2D(filters=256, kernel_size=3, activation='relu', padding='same'),\n",
    "    layers.Conv2D(filters=256, kernel_size=3, activation='relu', padding='same'),\n",
    "    layers.MaxPool2D(),\n",
    "\n",
    "    layers.GlobalAveragePooling2D(),\n",
    "\n",
    "    # Head\n",
    "    layers.BatchNormalization(),\n",
    "    layers.Dense(128, activation='relu', kernel_regularizer='l2'),\n",
    "    layers.Dropout(0.5),\n",
    "    layers.Dense(62, activation='softmax'),\n",
    "])"
   ]
  },
  {
   "cell_type": "code",
   "execution_count": 7,
   "id": "6f32493a",
   "metadata": {
    "execution": {
     "iopub.execute_input": "2024-12-01T19:49:15.424556Z",
     "iopub.status.busy": "2024-12-01T19:49:15.424299Z",
     "iopub.status.idle": "2024-12-01T19:49:15.584286Z",
     "shell.execute_reply": "2024-12-01T19:49:15.583575Z"
    },
    "papermill": {
     "duration": 0.167779,
     "end_time": "2024-12-01T19:49:15.586227",
     "exception": false,
     "start_time": "2024-12-01T19:49:15.418448",
     "status": "completed"
    },
    "tags": []
   },
   "outputs": [],
   "source": [
    "from tensorflow.keras.callbacks import EarlyStopping\n",
    "import shutil\n",
    "\n",
    "train_model = False\n",
    "\n",
    "weights_path = \"/kaggle/input/char-recognition-model/keras/default/4/char_recog_model_english_v2.weights.h5\"\n",
    "if os.path.isfile(weights_path) and not train_model:\n",
    "    model.load_weights(weights_path)\n",
    "    history = None\n",
    "\n",
    "else:\n",
    "    early_stopping = EarlyStopping(min_delta=0.001, patience=6, restore_best_weights=True)\n",
    "    \n",
    "    optimizer = tf.keras.optimizers.AdamW(learning_rate=1e-3, weight_decay=1e-5)\n",
    "    model.compile(\n",
    "        optimizer=optimizer,\n",
    "        loss='categorical_crossentropy',\n",
    "        metrics=['accuracy'],\n",
    "    )\n",
    "    \n",
    "    history = model.fit(\n",
    "        ds_train,\n",
    "        validation_data=(ds_valid),\n",
    "        epochs=50,\n",
    "        callbacks=[early_stopping]\n",
    "    )\n",
    "\n",
    "    model.save_weights(\"char_recog_model.weights.h5\")\n",
    "    shutil.move(\"char_recog_model.weights.h5\", \"/kaggle/working/char_recog_model.weights.h5\")"
   ]
  },
  {
   "cell_type": "code",
   "execution_count": 8,
   "id": "4f47b873",
   "metadata": {
    "execution": {
     "iopub.execute_input": "2024-12-01T19:49:15.597357Z",
     "iopub.status.busy": "2024-12-01T19:49:15.597122Z",
     "iopub.status.idle": "2024-12-01T19:49:15.601223Z",
     "shell.execute_reply": "2024-12-01T19:49:15.600488Z"
    },
    "papermill": {
     "duration": 0.011623,
     "end_time": "2024-12-01T19:49:15.603049",
     "exception": false,
     "start_time": "2024-12-01T19:49:15.591426",
     "status": "completed"
    },
    "tags": []
   },
   "outputs": [],
   "source": [
    "import pandas as pd\n",
    "if history is not None:\n",
    "    history_frame = pd.DataFrame(history.history)\n",
    "    history_frame.loc[:, ['loss', 'val_loss']].plot()\n",
    "    history_frame.loc[:, ['accuracy', 'val_accuracy']].plot()"
   ]
  },
  {
   "cell_type": "code",
   "execution_count": 9,
   "id": "d76fb069",
   "metadata": {
    "execution": {
     "iopub.execute_input": "2024-12-01T19:49:15.613539Z",
     "iopub.status.busy": "2024-12-01T19:49:15.613306Z",
     "iopub.status.idle": "2024-12-01T19:49:15.618195Z",
     "shell.execute_reply": "2024-12-01T19:49:15.617468Z"
    },
    "papermill": {
     "duration": 0.011968,
     "end_time": "2024-12-01T19:49:15.619773",
     "exception": false,
     "start_time": "2024-12-01T19:49:15.607805",
     "status": "completed"
    },
    "tags": []
   },
   "outputs": [],
   "source": [
    "def plot_n_images(X, y, n=10, row_spacing=0.5):\n",
    "    plt.figure(figsize=(10, 5))\n",
    "    # Show the first n images if available, otherwise show all images\n",
    "    for i in range(min(n, X.shape[0], y.shape[0])):  \n",
    "        plt.subplot(n // 5 + 1, 5, i+1)\n",
    "        plt.imshow(X[i], cmap='gray')  # Assuming 28x28 images\n",
    "        plt.title(label_map[y[i]])\n",
    "        plt.axis('off')\n",
    "\n",
    "    plt.subplots_adjust(hspace=row_spacing)\n",
    "    plt.show()"
   ]
  },
  {
   "cell_type": "markdown",
   "id": "0592c74c",
   "metadata": {
    "papermill": {
     "duration": 0.004629,
     "end_time": "2024-12-01T19:49:15.629132",
     "exception": false,
     "start_time": "2024-12-01T19:49:15.624503",
     "status": "completed"
    },
    "tags": []
   },
   "source": [
    "### Validation data same dataset accuracy"
   ]
  },
  {
   "cell_type": "code",
   "execution_count": 10,
   "id": "0fe3e8ad",
   "metadata": {
    "execution": {
     "iopub.execute_input": "2024-12-01T19:49:15.639641Z",
     "iopub.status.busy": "2024-12-01T19:49:15.639169Z",
     "iopub.status.idle": "2024-12-01T19:49:28.514326Z",
     "shell.execute_reply": "2024-12-01T19:49:28.513347Z"
    },
    "papermill": {
     "duration": 12.883257,
     "end_time": "2024-12-01T19:49:28.517017",
     "exception": false,
     "start_time": "2024-12-01T19:49:15.633760",
     "status": "completed"
    },
    "tags": []
   },
   "outputs": [
    {
     "name": "stdout",
     "output_type": "stream",
     "text": [
      "\u001b[1m394/394\u001b[0m \u001b[32m━━━━━━━━━━━━━━━━━━━━\u001b[0m\u001b[37m\u001b[0m \u001b[1m6s\u001b[0m 11ms/step\n"
     ]
    }
   ],
   "source": [
    "from sklearn.metrics import accuracy_score\n",
    "\n",
    "predictions = model.predict(X_val)\n",
    "predicted_labels = np.argmax(predictions, axis=1)"
   ]
  },
  {
   "cell_type": "code",
   "execution_count": 11,
   "id": "c2230dea",
   "metadata": {
    "execution": {
     "iopub.execute_input": "2024-12-01T19:49:28.543296Z",
     "iopub.status.busy": "2024-12-01T19:49:28.542782Z",
     "iopub.status.idle": "2024-12-01T19:49:28.551019Z",
     "shell.execute_reply": "2024-12-01T19:49:28.550166Z"
    },
    "papermill": {
     "duration": 0.019887,
     "end_time": "2024-12-01T19:49:28.552642",
     "exception": false,
     "start_time": "2024-12-01T19:49:28.532755",
     "status": "completed"
    },
    "tags": []
   },
   "outputs": [
    {
     "data": {
      "text/plain": [
       "0.8602159072868709"
      ]
     },
     "execution_count": 11,
     "metadata": {},
     "output_type": "execute_result"
    }
   ],
   "source": [
    "if len(y_val.shape) == 2:\n",
    "    y_val_OH = y_val\n",
    "    y_val = np.argmax(y_val_OH, axis=1)\n",
    "\n",
    "accuracy = accuracy_score(y_val, predicted_labels)\n",
    "accuracy"
   ]
  },
  {
   "cell_type": "code",
   "execution_count": 12,
   "id": "5f8b4ee2",
   "metadata": {
    "execution": {
     "iopub.execute_input": "2024-12-01T19:49:28.569979Z",
     "iopub.status.busy": "2024-12-01T19:49:28.569674Z",
     "iopub.status.idle": "2024-12-01T19:49:28.580826Z",
     "shell.execute_reply": "2024-12-01T19:49:28.579981Z"
    },
    "papermill": {
     "duration": 0.021899,
     "end_time": "2024-12-01T19:49:28.582892",
     "exception": false,
     "start_time": "2024-12-01T19:49:28.560993",
     "status": "completed"
    },
    "tags": []
   },
   "outputs": [],
   "source": [
    "from scipy.ndimage import gaussian_filter\n",
    "\n",
    "def convert_to_grayscale(array):\n",
    "    # shape (x, y, 3) --> (x, y)\n",
    "    return np.dot(array[...,:3], [0.2989, 0.5870, 0.1140])\n",
    "\n",
    "def apply_gaussian_filter(image):\n",
    "    return gaussian_filter(image, sigma=1)\n",
    "\n",
    "def crop_to_roi(image):\n",
    "    rows = np.any(image > 0, axis=1)\n",
    "    cols = np.any(image > 0, axis=0)\n",
    "    row_start, row_end = np.where(rows)[0][[0, -1]]\n",
    "    col_start, col_end = np.where(cols)[0][[0, -1]]\n",
    "    return image[row_start:row_end+1, col_start:col_end+1]\n",
    "\n",
    "def center_image(image, target_size=28, border=2):\n",
    "    h, w = image.shape[:2]\n",
    "    aspect_ratio = w / h\n",
    "\n",
    "    # Calculate the new dimensions\n",
    "    if aspect_ratio > 1:  # Wider than tall\n",
    "        new_w = target_size[0] - 2 * border\n",
    "        new_h = int(new_w / aspect_ratio)\n",
    "    else:  # Taller than wide\n",
    "        new_h = target_size[1] - 2 * border\n",
    "        new_w = int(new_h * aspect_ratio)\n",
    "\n",
    "    image = np.expand_dims(image, axis=-1)  # Add channel axis (shape -> (h, w, 1) )\n",
    "    \n",
    "    # Resize while preserving the aspect ratio\n",
    "    image_resized = tf.image.resize(image, (new_h, new_w)).numpy()\n",
    "\n",
    "    image_resized = np.squeeze(image_resized, axis=-1) # remove channel axis again\n",
    "    \n",
    "    # Create the centered canvas\n",
    "    canvas = np.zeros(target_size, dtype=image.dtype)\n",
    "    row_start = (target_size[0] - new_h) // 2\n",
    "    col_start = (target_size[1] - new_w) // 2\n",
    "    canvas[row_start:row_start+new_h, col_start:col_start+new_w] = image_resized\n",
    "\n",
    "    return canvas\n",
    "\n",
    "\n",
    "def normalize_image(image):\n",
    "    return (image / np.max(image))\n",
    "\n",
    "\n",
    "def preprocess_image(image, target_size=(28, 28)):\n",
    "    if len(image.shape) == 3 and image.shape[2] >= 3:\n",
    "        image = convert_to_grayscale(image)\n",
    "    elif len(image.shape) == 3 and image.shape[2] == 1:\n",
    "        image = np.squeeze(image, axis=-1)\n",
    "        \n",
    "    image = apply_gaussian_filter(image)\n",
    "    image = crop_to_roi(image)\n",
    "    image = center_image(image, target_size=target_size)\n",
    "    image = normalize_image(image)\n",
    "    return image.astype(np.float32)"
   ]
  },
  {
   "cell_type": "code",
   "execution_count": 13,
   "id": "f86c84a7",
   "metadata": {
    "execution": {
     "iopub.execute_input": "2024-12-01T19:49:28.606118Z",
     "iopub.status.busy": "2024-12-01T19:49:28.605867Z",
     "iopub.status.idle": "2024-12-01T19:49:28.610975Z",
     "shell.execute_reply": "2024-12-01T19:49:28.610180Z"
    },
    "papermill": {
     "duration": 0.015544,
     "end_time": "2024-12-01T19:49:28.612649",
     "exception": false,
     "start_time": "2024-12-01T19:49:28.597105",
     "status": "completed"
    },
    "tags": []
   },
   "outputs": [],
   "source": [
    "from tensorflow.keras.preprocessing import image\n",
    "\n",
    "def load_and_preprocess_image(img_path, target_size=(128, 128), inverse=False):\n",
    "    \"\"\"\n",
    "    Load an image and make it a numpy array.\n",
    "    \"\"\"\n",
    "    # Load the image\n",
    "    img = image.load_img(img_path, target_size=target_size)\n",
    "    \n",
    "    # Convert to an array\n",
    "    img_array = image.img_to_array(img)\n",
    "\n",
    "    # normalize to [0, 1]\n",
    "    img_array = img_array / np.max(img_array)\n",
    "\n",
    "    if inverse:\n",
    "        img_array = 1 - img_array\n",
    "    \n",
    "    # Add a batch dimension (because the model expects a batch of images)\n",
    "    img_array = np.expand_dims(img_array, axis=0)\n",
    "    \n",
    "    return img_array"
   ]
  },
  {
   "cell_type": "code",
   "execution_count": 14,
   "id": "030ba9dc",
   "metadata": {
    "execution": {
     "iopub.execute_input": "2024-12-01T19:49:28.630132Z",
     "iopub.status.busy": "2024-12-01T19:49:28.629294Z",
     "iopub.status.idle": "2024-12-01T19:49:28.634588Z",
     "shell.execute_reply": "2024-12-01T19:49:28.633810Z"
    },
    "papermill": {
     "duration": 0.015978,
     "end_time": "2024-12-01T19:49:28.636625",
     "exception": false,
     "start_time": "2024-12-01T19:49:28.620647",
     "status": "completed"
    },
    "tags": []
   },
   "outputs": [],
   "source": [
    "def load_and_preprocess_images_from_dir(dir_path, target_size=(28, 28), inverse=False):\n",
    "    X = []\n",
    "    for img in sorted(os.listdir(dir_path)):\n",
    "        img_path = os.path.join(dir_path, img)\n",
    "        if not os.path.isfile(img_path):\n",
    "            continue\n",
    "            \n",
    "        img_array = load_and_preprocess_image(img_path, target_size=target_size, inverse=inverse)\n",
    "        img_array = np.squeeze(img_array, axis=0)\n",
    "        X.append(img_array)\n",
    "\n",
    "    X = np.array(X)\n",
    "    return X"
   ]
  },
  {
   "cell_type": "code",
   "execution_count": 15,
   "id": "7115d208",
   "metadata": {
    "execution": {
     "iopub.execute_input": "2024-12-01T19:49:28.661283Z",
     "iopub.status.busy": "2024-12-01T19:49:28.661020Z",
     "iopub.status.idle": "2024-12-01T19:49:28.666404Z",
     "shell.execute_reply": "2024-12-01T19:49:28.665587Z"
    },
    "papermill": {
     "duration": 0.016483,
     "end_time": "2024-12-01T19:49:28.668271",
     "exception": false,
     "start_time": "2024-12-01T19:49:28.651788",
     "status": "completed"
    },
    "tags": []
   },
   "outputs": [],
   "source": [
    "def load_and_preprocess_all_image_classes_from_dir(dir_path, target_size=(28, 28), inverse=False):\n",
    "    X = []\n",
    "    y = []\n",
    "    for img in sorted(os.listdir(dir_path)):\n",
    "        img_path = os.path.join(dir_path, img)\n",
    "        if not os.path.isfile(img_path):\n",
    "            continue\n",
    "\n",
    "        i = int(img[3:6]) - 1 # index starts at 0\n",
    "        \n",
    "        img_array = load_and_preprocess_image(img_path, target_size=target_size, inverse=inverse)\n",
    "        img_array = np.squeeze(img_array, axis=0)\n",
    "        X.append(img_array)\n",
    "        y.append(i)\n",
    "\n",
    "    X = np.array(X)\n",
    "    y = np.array(y)\n",
    "    return X, y"
   ]
  },
  {
   "cell_type": "code",
   "execution_count": 16,
   "id": "56404518",
   "metadata": {
    "execution": {
     "iopub.execute_input": "2024-12-01T19:49:28.685629Z",
     "iopub.status.busy": "2024-12-01T19:49:28.685049Z",
     "iopub.status.idle": "2024-12-01T19:49:28.690478Z",
     "shell.execute_reply": "2024-12-01T19:49:28.689649Z"
    },
    "papermill": {
     "duration": 0.016232,
     "end_time": "2024-12-01T19:49:28.692486",
     "exception": false,
     "start_time": "2024-12-01T19:49:28.676254",
     "status": "completed"
    },
    "tags": []
   },
   "outputs": [],
   "source": [
    "from string import ascii_lowercase, ascii_uppercase\n",
    "alphabet_plus = \"0123456789\" + ascii_uppercase + ascii_lowercase\n",
    "label_map = {i: alphabet_plus[i] for i in range(len(alphabet_plus))}\n"
   ]
  },
  {
   "cell_type": "code",
   "execution_count": 17,
   "id": "6a98ab7d",
   "metadata": {
    "execution": {
     "iopub.execute_input": "2024-12-01T19:49:28.718957Z",
     "iopub.status.busy": "2024-12-01T19:49:28.718670Z",
     "iopub.status.idle": "2024-12-01T19:49:28.722818Z",
     "shell.execute_reply": "2024-12-01T19:49:28.722046Z"
    },
    "papermill": {
     "duration": 0.016849,
     "end_time": "2024-12-01T19:49:28.724472",
     "exception": false,
     "start_time": "2024-12-01T19:49:28.707623",
     "status": "completed"
    },
    "tags": []
   },
   "outputs": [],
   "source": [
    "dir_path = \"/kaggle/input/letters-and-digits/Images characters/\"\n",
    "dir_path_upper = \"/kaggle/input/letters-and-digits/Images characters/Uppercase\"\n",
    "dir_path_lower = \"/kaggle/input/letters-and-digits/Images characters/Lowercase\"\n",
    "\n",
    "img_path_zero = \"/kaggle/input/letters-and-digits/Images characters/zero.png\"\n",
    "img_path_drawn_zero = \"/kaggle/input/letters-and-digits/Images characters/drawn_zero.png\"\n",
    "img_path_drawn_M_close = \"/kaggle/input/letters-and-digits/Images characters/M_handwritten_close.png\"\n",
    "img_path_drawn_M_far = \"/kaggle/input/letters-and-digits/Images characters/M_handwritten_far.png\""
   ]
  },
  {
   "cell_type": "code",
   "execution_count": 18,
   "id": "bc9ba144",
   "metadata": {
    "execution": {
     "iopub.execute_input": "2024-12-01T19:49:28.741463Z",
     "iopub.status.busy": "2024-12-01T19:49:28.740740Z",
     "iopub.status.idle": "2024-12-01T19:49:29.944101Z",
     "shell.execute_reply": "2024-12-01T19:49:29.943179Z"
    },
    "papermill": {
     "duration": 1.213639,
     "end_time": "2024-12-01T19:49:29.945809",
     "exception": false,
     "start_time": "2024-12-01T19:49:28.732170",
     "status": "completed"
    },
    "tags": []
   },
   "outputs": [
    {
     "name": "stdout",
     "output_type": "stream",
     "text": [
      "(17, 128, 128, 3)\n",
      "\u001b[1m1/1\u001b[0m \u001b[32m━━━━━━━━━━━━━━━━━━━━\u001b[0m\u001b[37m\u001b[0m \u001b[1m0s\u001b[0m 269ms/step\n",
      "(17, 128, 128, 3) (17,)\n"
     ]
    },
    {
     "data": {
      "image/png": "[encoded data removed]",
      "text/plain": [
       "<Figure size 1000x500 with 17 Axes>"
      ]
     },
     "metadata": {},
     "output_type": "display_data"
    }
   ],
   "source": [
    "path = dir_path_lower\n",
    "processed_images = load_and_preprocess_images_from_dir(path, target_size=(128, 128))\n",
    "# processed_image = np.array([X_test[2]])\n",
    "\n",
    "print(processed_images.shape)\n",
    "\n",
    "# Make the prediction\n",
    "predictions = model.predict(processed_images)\n",
    "\n",
    "# For multi-class classification (e.g., 62 classes):\n",
    "# Get the index of the class with the highest probability\n",
    "predicted_classes = np.argmax(predictions, axis=1)\n",
    "\n",
    "print(processed_images.shape, predicted_classes.shape)\n",
    "plot_n_images(processed_images, predicted_classes, n=17, row_spacing=0.5)"
   ]
  },
  {
   "cell_type": "markdown",
   "id": "446c39fd",
   "metadata": {
    "papermill": {
     "duration": 0.008761,
     "end_time": "2024-12-01T19:49:29.963840",
     "exception": false,
     "start_time": "2024-12-01T19:49:29.955079",
     "status": "completed"
    },
    "tags": []
   },
   "source": [
    "### English handwritten data accuracy"
   ]
  },
  {
   "cell_type": "code",
   "execution_count": 19,
   "id": "f35fa1b5",
   "metadata": {
    "execution": {
     "iopub.execute_input": "2024-12-01T19:49:29.983841Z",
     "iopub.status.busy": "2024-12-01T19:49:29.983154Z",
     "iopub.status.idle": "2024-12-01T19:50:30.767738Z",
     "shell.execute_reply": "2024-12-01T19:50:30.766751Z"
    },
    "papermill": {
     "duration": 60.79736,
     "end_time": "2024-12-01T19:50:30.770556",
     "exception": false,
     "start_time": "2024-12-01T19:49:29.973196",
     "status": "completed"
    },
    "tags": []
   },
   "outputs": [],
   "source": [
    "dir2_path = \"/kaggle/input/english-handwritten-characters-dataset/Img\"\n",
    "X2, y2 = load_and_preprocess_all_image_classes_from_dir(dir2_path, target_size=(128, 128))"
   ]
  },
  {
   "cell_type": "code",
   "execution_count": 20,
   "id": "a461e268",
   "metadata": {
    "execution": {
     "iopub.execute_input": "2024-12-01T19:50:30.803528Z",
     "iopub.status.busy": "2024-12-01T19:50:30.803211Z",
     "iopub.status.idle": "2024-12-01T19:50:30.807951Z",
     "shell.execute_reply": "2024-12-01T19:50:30.806993Z"
    },
    "papermill": {
     "duration": 0.023274,
     "end_time": "2024-12-01T19:50:30.810290",
     "exception": false,
     "start_time": "2024-12-01T19:50:30.787016",
     "status": "completed"
    },
    "tags": []
   },
   "outputs": [
    {
     "name": "stdout",
     "output_type": "stream",
     "text": [
      "(3410, 128, 128, 3) (3410,)\n"
     ]
    }
   ],
   "source": [
    "print(X2.shape, y2.shape)"
   ]
  },
  {
   "cell_type": "code",
   "execution_count": 21,
   "id": "dc6fdc92",
   "metadata": {
    "execution": {
     "iopub.execute_input": "2024-12-01T19:50:30.835459Z",
     "iopub.status.busy": "2024-12-01T19:50:30.834874Z",
     "iopub.status.idle": "2024-12-01T19:50:33.944057Z",
     "shell.execute_reply": "2024-12-01T19:50:33.943314Z"
    },
    "papermill": {
     "duration": 3.120909,
     "end_time": "2024-12-01T19:50:33.945852",
     "exception": false,
     "start_time": "2024-12-01T19:50:30.824943",
     "status": "completed"
    },
    "tags": []
   },
   "outputs": [
    {
     "name": "stdout",
     "output_type": "stream",
     "text": [
      "\u001b[1m107/107\u001b[0m \u001b[32m━━━━━━━━━━━━━━━━━━━━\u001b[0m\u001b[37m\u001b[0m \u001b[1m1s\u001b[0m 12ms/step\n"
     ]
    }
   ],
   "source": [
    "predictions_data2 = model.predict(X2)\n",
    "predicted_labels2 = np.argmax(predictions_data2, axis=1)"
   ]
  },
  {
   "cell_type": "code",
   "execution_count": 22,
   "id": "92c53b31",
   "metadata": {
    "execution": {
     "iopub.execute_input": "2024-12-01T19:50:33.966828Z",
     "iopub.status.busy": "2024-12-01T19:50:33.966522Z",
     "iopub.status.idle": "2024-12-01T19:50:33.972884Z",
     "shell.execute_reply": "2024-12-01T19:50:33.972166Z"
    },
    "papermill": {
     "duration": 0.018285,
     "end_time": "2024-12-01T19:50:33.974387",
     "exception": false,
     "start_time": "2024-12-01T19:50:33.956102",
     "status": "completed"
    },
    "tags": []
   },
   "outputs": [
    {
     "data": {
      "text/plain": [
       "0.3750733137829912"
      ]
     },
     "execution_count": 22,
     "metadata": {},
     "output_type": "execute_result"
    }
   ],
   "source": [
    "accuracy = accuracy_score(y2, predicted_labels2)\n",
    "accuracy"
   ]
  },
  {
   "cell_type": "code",
   "execution_count": 23,
   "id": "f01ecc33",
   "metadata": {
    "execution": {
     "iopub.execute_input": "2024-12-01T19:50:33.994542Z",
     "iopub.status.busy": "2024-12-01T19:50:33.994304Z",
     "iopub.status.idle": "2024-12-01T19:50:34.482971Z",
     "shell.execute_reply": "2024-12-01T19:50:34.482038Z"
    },
    "papermill": {
     "duration": 0.500647,
     "end_time": "2024-12-01T19:50:34.484599",
     "exception": false,
     "start_time": "2024-12-01T19:50:33.983952",
     "status": "completed"
    },
    "tags": []
   },
   "outputs": [
    {
     "data": {
      "image/png": "[encoded data removed]",
      "text/plain": [
       "<Figure size 1000x500 with 10 Axes>"
      ]
     },
     "metadata": {},
     "output_type": "display_data"
    }
   ],
   "source": [
    "plot_n_images(X2[2000:], predicted_labels2[2000:])"
   ]
  }
 ],
 "metadata": {
  "kaggle": {
   "accelerator": "gpu",
   "dataSources": [
    {
     "datasetId": 663,
     "sourceId": 1265,
     "sourceType": "datasetVersion"
    },
    {
     "datasetId": 7160,
     "sourceId": 10705,
     "sourceType": "datasetVersion"
    },
    {
     "datasetId": 1176843,
     "sourceId": 1972672,
     "sourceType": "datasetVersion"
    },
    {
     "datasetId": 1752143,
     "sourceId": 2864176,
     "sourceType": "datasetVersion"
    },
    {
     "datasetId": 6172398,
     "sourceId": 10044118,
     "sourceType": "datasetVersion"
    },
    {
     "modelId": 175660,
     "modelInstanceId": 153188,
     "sourceId": 182777,
     "sourceType": "modelInstanceVersion"
    }
   ],
   "dockerImageVersionId": 30787,
   "isGpuEnabled": true,
   "isInternetEnabled": true,
   "language": "python",
   "sourceType": "notebook"
  },
  "kernelspec": {
   "display_name": "Python 3",
   "language": "python",
   "name": "python3"
  },
  "language_info": {
   "codemirror_mode": {
    "name": "ipython",
    "version": 3
   },
   "file_extension": ".py",
   "mimetype": "text/x-python",
   "name": "python",
   "nbconvert_exporter": "python",
   "pygments_lexer": "ipython3",
   "version": "3.10.14"
  },
  "papermill": {
   "default_parameters": {},
   "duration": 173.357859,
   "end_time": "2024-12-01T19:50:36.617233",
   "environment_variables": {},
   "exception": null,
   "input_path": "__notebook__.ipynb",
   "output_path": "__notebook__.ipynb",
   "parameters": {},
   "start_time": "2024-12-01T19:47:43.259374",
   "version": "2.6.0"
  }
 },
 "nbformat": 4,
 "nbformat_minor": 5
}
