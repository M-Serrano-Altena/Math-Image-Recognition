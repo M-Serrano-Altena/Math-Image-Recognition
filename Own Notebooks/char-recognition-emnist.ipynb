{
 "cells": [
  {
   "cell_type": "markdown",
   "metadata": {
    "execution": {
     "iopub.execute_input": "2024-11-27T12:25:25.786722Z",
     "iopub.status.busy": "2024-11-27T12:25:25.786324Z",
     "iopub.status.idle": "2024-11-27T12:25:25.792194Z",
     "shell.execute_reply": "2024-11-27T12:25:25.790853Z",
     "shell.execute_reply.started": "2024-11-27T12:25:25.786670Z"
    }
   },
   "source": [
    "## Character Recognition - EMNIST data"
   ]
  },
  {
   "cell_type": "markdown",
   "metadata": {},
   "source": [
    "This noteboook predicts different images of handwritten and typed characters ([a-z, A-Z, 0-9]) with a Neural Network. It uses the EMNIST dataset (see the README for a link).\n",
    "\n",
    "This model performs okay, but gets confused between letters due to training with rotated images."
   ]
  },
  {
   "cell_type": "markdown",
   "metadata": {},
   "source": [
    "### Import data"
   ]
  },
  {
   "cell_type": "code",
   "execution_count": 25,
   "metadata": {
    "execution": {
     "iopub.execute_input": "2024-12-02T14:23:31.801816Z",
     "iopub.status.busy": "2024-12-02T14:23:31.801390Z",
     "iopub.status.idle": "2024-12-02T14:23:48.144475Z",
     "shell.execute_reply": "2024-12-02T14:23:48.143546Z",
     "shell.execute_reply.started": "2024-12-02T14:23:31.801763Z"
    }
   },
   "outputs": [
    {
     "name": "stdout",
     "output_type": "stream",
     "text": [
      "Requirement already satisfied: emnist in /opt/conda/lib/python3.10/site-packages (0.0)\n",
      "Requirement already satisfied: numpy in /opt/conda/lib/python3.10/site-packages (from emnist) (1.26.4)\n",
      "Requirement already satisfied: requests in /opt/conda/lib/python3.10/site-packages (from emnist) (2.32.3)\n",
      "Requirement already satisfied: tqdm in /opt/conda/lib/python3.10/site-packages (from emnist) (4.66.4)\n",
      "Requirement already satisfied: charset-normalizer<4,>=2 in /opt/conda/lib/python3.10/site-packages (from requests->emnist) (3.3.2)\n",
      "Requirement already satisfied: idna<4,>=2.5 in /opt/conda/lib/python3.10/site-packages (from requests->emnist) (3.7)\n",
      "Requirement already satisfied: urllib3<3,>=1.21.1 in /opt/conda/lib/python3.10/site-packages (from requests->emnist) (1.26.18)\n",
      "Requirement already satisfied: certifi>=2017.4.17 in /opt/conda/lib/python3.10/site-packages (from requests->emnist) (2024.8.30)\n",
      "Requirement already satisfied: idx2numpy in /opt/conda/lib/python3.10/site-packages (1.2.3)\n",
      "Requirement already satisfied: numpy in /opt/conda/lib/python3.10/site-packages (from idx2numpy) (1.26.4)\n",
      "Requirement already satisfied: six in /opt/conda/lib/python3.10/site-packages (from idx2numpy) (1.16.0)\n"
     ]
    }
   ],
   "source": [
    "!pip install emnist\n",
    "!pip install idx2numpy"
   ]
  },
  {
   "cell_type": "code",
   "execution_count": 26,
   "metadata": {
    "_cell_guid": "b1076dfc-b9ad-4769-8c92-a6c4dae69d19",
    "_uuid": "8f2839f25d086af736a60e9eeb907d3b93b6e0e5",
    "execution": {
     "iopub.execute_input": "2024-12-02T14:23:48.146672Z",
     "iopub.status.busy": "2024-12-02T14:23:48.146372Z",
     "iopub.status.idle": "2024-12-02T14:23:48.152529Z",
     "shell.execute_reply": "2024-12-02T14:23:48.151555Z",
     "shell.execute_reply.started": "2024-12-02T14:23:48.146642Z"
    }
   },
   "outputs": [],
   "source": [
    "import pandas as pd\n",
    "import numpy as np\n",
    "import tensorflow as tf\n",
    "import tensorflow_datasets as tfds\n",
    "from tensorflow import keras\n",
    "from tensorflow.keras import layers, models\n",
    "from tensorflow.keras.preprocessing import image_dataset_from_directory\n",
    "from tensorflow.keras.preprocessing import image\n",
    "\n",
    "import matplotlib.pyplot as plt\n",
    "import os"
   ]
  },
  {
   "cell_type": "code",
   "execution_count": 27,
   "metadata": {
    "execution": {
     "iopub.execute_input": "2024-12-02T14:23:48.153739Z",
     "iopub.status.busy": "2024-12-02T14:23:48.153482Z",
     "iopub.status.idle": "2024-12-02T14:23:48.286184Z",
     "shell.execute_reply": "2024-12-02T14:23:48.285280Z",
     "shell.execute_reply.started": "2024-12-02T14:23:48.153714Z"
    }
   },
   "outputs": [
    {
     "name": "stdout",
     "output_type": "stream",
     "text": [
      "(84600, 28, 28) (28200, 28, 28) (84600,) (28200,)\n"
     ]
    }
   ],
   "source": [
    "import idx2numpy\n",
    "from sklearn.model_selection import train_test_split\n",
    "\n",
    "X = idx2numpy.convert_from_file('/kaggle/input/emnist/emnist_source_files/emnist-balanced-train-images-idx3-ubyte')\n",
    "X_test = idx2numpy.convert_from_file('/kaggle/input/emnist/emnist_source_files/emnist-balanced-test-images-idx3-ubyte')\n",
    "\n",
    "y = idx2numpy.convert_from_file('/kaggle/input/emnist/emnist_source_files/emnist-balanced-train-labels-idx1-ubyte')\n",
    "y_test = idx2numpy.convert_from_file('/kaggle/input/emnist/emnist_source_files/emnist-balanced-test-labels-idx1-ubyte')\n",
    "\n",
    "X_train, X_val, y_train, y_val = train_test_split(X, y)\n",
    "print(X_train.shape, X_val.shape, y_train.shape, y_val.shape)"
   ]
  },
  {
   "cell_type": "code",
   "execution_count": 28,
   "metadata": {
    "execution": {
     "iopub.execute_input": "2024-12-02T14:23:48.288907Z",
     "iopub.status.busy": "2024-12-02T14:23:48.288519Z",
     "iopub.status.idle": "2024-12-02T14:23:48.557615Z",
     "shell.execute_reply": "2024-12-02T14:23:48.556896Z",
     "shell.execute_reply.started": "2024-12-02T14:23:48.288860Z"
    }
   },
   "outputs": [],
   "source": [
    "def transpose_images(arr):\n",
    "    return np.transpose(arr, (2,1,0))\n",
    "    \n",
    "def rescale_data(arr):\n",
    "    # rescale range from [0, 255] to [0, 1]\n",
    "    return arr / np.max(arr)\n",
    "\n",
    "def process_data(arr):\n",
    "    arr = rescale_data(arr)\n",
    "    return arr\n",
    "    \n",
    "\n",
    "X_train = process_data(X_train)\n",
    "X_val = process_data(X_val)\n",
    "X_test = process_data(X_test)"
   ]
  },
  {
   "cell_type": "code",
   "execution_count": 41,
   "metadata": {
    "execution": {
     "iopub.execute_input": "2024-12-02T14:31:39.652633Z",
     "iopub.status.busy": "2024-12-02T14:31:39.652284Z",
     "iopub.status.idle": "2024-12-02T14:31:39.662974Z",
     "shell.execute_reply": "2024-12-02T14:31:39.662041Z",
     "shell.execute_reply.started": "2024-12-02T14:31:39.652601Z"
    }
   },
   "outputs": [],
   "source": [
    "from scipy.ndimage import gaussian_filter\n",
    "\n",
    "def convert_to_grayscale(array):\n",
    "    # shape (x, y, 3) --> (x, y)\n",
    "    return np.dot(array[...,:3], [0.2989, 0.5870, 0.1140])\n",
    "\n",
    "def apply_gaussian_filter(image):\n",
    "    return gaussian_filter(image, sigma=1)\n",
    "\n",
    "def crop_to_roi(image):\n",
    "    rows = np.any(image > 0, axis=1)\n",
    "    cols = np.any(image > 0, axis=0)\n",
    "    row_start, row_end = np.where(rows)[0][[0, -1]]\n",
    "    col_start, col_end = np.where(cols)[0][[0, -1]]\n",
    "    return image[row_start:row_end+1, col_start:col_end+1]\n",
    "\n",
    "def center_image(image, canvas_size=28, border=2):\n",
    "    h, w = image.shape[:2]\n",
    "    aspect_ratio = w / h\n",
    "\n",
    "    # Calculate the new dimensions\n",
    "    if aspect_ratio > 1:  # Wider than tall\n",
    "        new_w = canvas_size - 2 * border\n",
    "        new_h = int(new_w / aspect_ratio)\n",
    "    else:  # Taller than wide\n",
    "        new_h = canvas_size - 2 * border\n",
    "        new_w = int(new_h * aspect_ratio)\n",
    "\n",
    "    image = np.expand_dims(image, axis=-1)  # Add channel axis (shape -> (h, w, 1) )\n",
    "    \n",
    "    # Resize while preserving the aspect ratio\n",
    "    image_resized = tf.image.resize(image, (new_h, new_w)).numpy()\n",
    "\n",
    "    image_resized = np.squeeze(image_resized, axis=-1) # remove channel axis again\n",
    "    \n",
    "    # Create the centered canvas\n",
    "    canvas = np.zeros((canvas_size, canvas_size), dtype=image.dtype)\n",
    "    row_start = (canvas_size - new_h) // 2\n",
    "    col_start = (canvas_size - new_w) // 2\n",
    "    canvas[row_start:row_start+new_h, col_start:col_start+new_w] = image_resized\n",
    "\n",
    "    return canvas\n",
    "\n",
    "\n",
    "def normalize_image(image):\n",
    "    return (image / np.max(image))\n",
    "\n",
    "\n",
    "def preprocess_image(image):\n",
    "    if len(image.shape) == 3 and image.shape[2] >= 3:\n",
    "        image = convert_to_grayscale(image)\n",
    "    elif len(image.shape) == 3 and image.shape[2] == 1:\n",
    "        image = np.squeeze(image, axis=-1)\n",
    "        \n",
    "    image = apply_gaussian_filter(image)\n",
    "    image = crop_to_roi(image)\n",
    "    image = center_image(image)\n",
    "    image = normalize_image(image)\n",
    "    return image.astype(np.float32)"
   ]
  },
  {
   "cell_type": "code",
   "execution_count": 40,
   "metadata": {
    "execution": {
     "iopub.execute_input": "2024-12-02T14:31:37.781022Z",
     "iopub.status.busy": "2024-12-02T14:31:37.780262Z",
     "iopub.status.idle": "2024-12-02T14:31:37.786591Z",
     "shell.execute_reply": "2024-12-02T14:31:37.785670Z",
     "shell.execute_reply.started": "2024-12-02T14:31:37.780985Z"
    }
   },
   "outputs": [],
   "source": [
    "from PIL import Image\n",
    "\n",
    "def load_and_preprocess_image(img_path, target_size=(28, 28), inverse=False):\n",
    "    \"\"\"\n",
    "    Load an image and make it a numpy array.\n",
    "    \"\"\"\n",
    "    img = Image.open(img_path)\n",
    "    \n",
    "    # grayscale\n",
    "    img = img.convert(\"L\")\n",
    "    \n",
    "    # Resize to 28x28\n",
    "    img = img.resize((28, 28))\n",
    "    \n",
    "    # Convert to NumPy array\n",
    "    img_array = np.array(img)\n",
    "    \n",
    "    # Normalize to [0, 1] and invert if needed\n",
    "    img_array = img_array / 255.0\n",
    "    if inverse:\n",
    "        img_array = 1 - img_array\n",
    "\n",
    "    img_array = preprocess_image(img_array)\n",
    "    \n",
    "    # Add a batch dimension (because the model expects a batch of images)\n",
    "    img_array = np.expand_dims(img_array, axis=0)\n",
    "\n",
    "    return img_array"
   ]
  },
  {
   "cell_type": "code",
   "execution_count": 31,
   "metadata": {
    "execution": {
     "iopub.execute_input": "2024-12-02T14:23:48.585743Z",
     "iopub.status.busy": "2024-12-02T14:23:48.585496Z",
     "iopub.status.idle": "2024-12-02T14:23:48.594509Z",
     "shell.execute_reply": "2024-12-02T14:23:48.593801Z",
     "shell.execute_reply.started": "2024-12-02T14:23:48.585719Z"
    }
   },
   "outputs": [],
   "source": [
    "def load_and_preprocess_images_from_dir(dir_path, target_size=(28, 28), inverse=False):\n",
    "    X = []\n",
    "    for img in sorted(os.listdir(dir_path)):\n",
    "        img_path = os.path.join(dir_path, img)\n",
    "        if not os.path.isfile(img_path):\n",
    "            continue\n",
    "            \n",
    "        img_array = load_and_preprocess_image(img_path, target_size=target_size, inverse=inverse)\n",
    "        img_array = np.squeeze(img_array, axis=0)\n",
    "        X.append(img_array)\n",
    "\n",
    "    X = np.array(X)\n",
    "    return X"
   ]
  },
  {
   "cell_type": "code",
   "execution_count": 32,
   "metadata": {
    "execution": {
     "iopub.execute_input": "2024-12-02T14:23:48.595791Z",
     "iopub.status.busy": "2024-12-02T14:23:48.595463Z",
     "iopub.status.idle": "2024-12-02T14:23:48.608960Z",
     "shell.execute_reply": "2024-12-02T14:23:48.608050Z",
     "shell.execute_reply.started": "2024-12-02T14:23:48.595735Z"
    }
   },
   "outputs": [],
   "source": [
    "from string import ascii_lowercase, ascii_uppercase\n",
    "\n",
    "alphabet_plus = \"0123456789\" + ascii_uppercase + ascii_lowercase\n",
    "label_map_byclass = {i: alphabet_plus[i] for i in range(len(alphabet_plus))}\n",
    "\n",
    "removed_lowercase_letters = {\"c\", \"i\", \"j\", \"k\", \"l\", \"m\", \"o\", \"p\", \"s\", \"u\", \"v\", \"w\", \"x\", \"y\", \"z\"}\n",
    "balanced_alphabet = [letter for letter in alphabet_plus if letter not in removed_lowercase_letters]\n",
    "label_map_balanced = {i: balanced_alphabet[i] for i in range(len(balanced_alphabet))}\n",
    "\n",
    "label_map = label_map_balanced"
   ]
  },
  {
   "cell_type": "markdown",
   "metadata": {},
   "source": [
    "### Plot EMNIST images with correct labels"
   ]
  },
  {
   "cell_type": "markdown",
   "metadata": {},
   "source": [
    "Here you can see that the images are flipped and mirrored, which caused the model to get confused about which letter is which. "
   ]
  },
  {
   "cell_type": "code",
   "execution_count": 49,
   "metadata": {
    "execution": {
     "iopub.execute_input": "2024-12-02T14:37:08.371007Z",
     "iopub.status.busy": "2024-12-02T14:37:08.370286Z",
     "iopub.status.idle": "2024-12-02T14:37:08.864562Z",
     "shell.execute_reply": "2024-12-02T14:37:08.863806Z",
     "shell.execute_reply.started": "2024-12-02T14:37:08.370975Z"
    }
   },
   "outputs": [
    {
     "data": {
      "image/png": "[encoded data removed]",
      "text/plain": [
       "<Figure size 1000x500 with 10 Axes>"
      ]
     },
     "metadata": {},
     "output_type": "display_data"
    }
   ],
   "source": [
    "def plot_n_images(X, y, n=10, row_spacing=0.5):\n",
    "    plt.figure(figsize=(10, 5))\n",
    "    # Show the first n images if available, otherwise show all images\n",
    "    for i in range(min(n, X.shape[0], y.shape[0])):  \n",
    "        plt.subplot(n // 5 + 1, 5, i+1)\n",
    "        plt.imshow(X[i], cmap='gray')  # Assuming 28x28 images\n",
    "        plt.title(label_map[y[i]])\n",
    "        plt.axis('off')\n",
    "\n",
    "    plt.subplots_adjust(hspace=row_spacing)\n",
    "    plt.show()\n",
    "\n",
    "plot_n_images(np.flip(X_train, axis=(1, 2)), y_train)"
   ]
  },
  {
   "cell_type": "code",
   "execution_count": 34,
   "metadata": {
    "execution": {
     "iopub.execute_input": "2024-12-02T14:23:49.120904Z",
     "iopub.status.busy": "2024-12-02T14:23:49.120352Z",
     "iopub.status.idle": "2024-12-02T14:23:49.124850Z",
     "shell.execute_reply": "2024-12-02T14:23:49.123918Z",
     "shell.execute_reply.started": "2024-12-02T14:23:49.120877Z"
    }
   },
   "outputs": [],
   "source": [
    "def one_hot_encode(y):\n",
    "    return keras.utils.to_categorical(y, num_classes=62)\n",
    "\n",
    "# y_train = one_hot_encode(y_train)\n",
    "# y_val = one_hot_encode(y_val)\n",
    "# y_test = one_hot_encode(y_test)\n"
   ]
  },
  {
   "cell_type": "markdown",
   "metadata": {},
   "source": [
    "## Train Model"
   ]
  },
  {
   "cell_type": "code",
   "execution_count": 35,
   "metadata": {
    "execution": {
     "iopub.execute_input": "2024-12-02T14:23:49.126194Z",
     "iopub.status.busy": "2024-12-02T14:23:49.125945Z",
     "iopub.status.idle": "2024-12-02T14:23:49.221058Z",
     "shell.execute_reply": "2024-12-02T14:23:49.220180Z",
     "shell.execute_reply.started": "2024-12-02T14:23:49.126170Z"
    }
   },
   "outputs": [],
   "source": [
    "model = keras.Sequential([\n",
    "    layers.InputLayer(shape=[28, 28, 1]),\n",
    "    \n",
    "    # Data Augmentation\n",
    "    layers.RandomContrast(factor=0.1),\n",
    "    layers.RandomRotation(factor=0.1),\n",
    "    layers.RandomTranslation(height_factor=0.1, width_factor=0.1),\n",
    "    layers.RandomZoom(height_factor=0.1, width_factor=0.1),\n",
    "\n",
    "    # Block One\n",
    "    layers.BatchNormalization(),\n",
    "    layers.Conv2D(filters=64, kernel_size=3, activation='relu', padding='same', kernel_regularizer='l2'),\n",
    "    layers.MaxPool2D(),\n",
    "\n",
    "    # Block Two\n",
    "    layers.BatchNormalization(),\n",
    "    layers.Conv2D(filters=128, kernel_size=3, activation='relu', padding='same', kernel_regularizer='l2'),\n",
    "    layers.MaxPool2D(),\n",
    "\n",
    "    # Block Three\n",
    "    layers.BatchNormalization(),\n",
    "    layers.Conv2D(filters=256, kernel_size=3, activation='relu', padding='same'),\n",
    "    layers.Conv2D(filters=256, kernel_size=3, activation='relu', padding='same'),\n",
    "    layers.MaxPool2D(),\n",
    "\n",
    "    layers.GlobalAveragePooling2D(),\n",
    "\n",
    "    # Head\n",
    "    layers.BatchNormalization(),\n",
    "    layers.Dense(128, activation='relu', kernel_regularizer='l2'),\n",
    "    layers.Dropout(0.1),\n",
    "    layers.Dense(47, activation='softmax'),\n",
    "])"
   ]
  },
  {
   "cell_type": "code",
   "execution_count": 36,
   "metadata": {
    "execution": {
     "iopub.execute_input": "2024-12-02T14:23:49.222550Z",
     "iopub.status.busy": "2024-12-02T14:23:49.222204Z",
     "iopub.status.idle": "2024-12-02T14:27:31.625532Z",
     "shell.execute_reply": "2024-12-02T14:27:31.624809Z",
     "shell.execute_reply.started": "2024-12-02T14:23:49.222506Z"
    }
   },
   "outputs": [
    {
     "name": "stdout",
     "output_type": "stream",
     "text": [
      "Epoch 1/50\n",
      "\u001b[1m331/331\u001b[0m \u001b[32m━━━━━━━━━━━━━━━━━━━━\u001b[0m\u001b[37m\u001b[0m \u001b[1m17s\u001b[0m 28ms/step - accuracy: 0.5610 - loss: 3.2460 - val_accuracy: 0.0298 - val_loss: 5.9686\n",
      "Epoch 2/50\n",
      "\u001b[1m331/331\u001b[0m \u001b[32m━━━━━━━━━━━━━━━━━━━━\u001b[0m\u001b[37m\u001b[0m \u001b[1m8s\u001b[0m 25ms/step - accuracy: 0.8129 - loss: 0.8236 - val_accuracy: 0.8470 - val_loss: 0.6554\n",
      "Epoch 3/50\n",
      "\u001b[1m331/331\u001b[0m \u001b[32m━━━━━━━━━━━━━━━━━━━━\u001b[0m\u001b[37m\u001b[0m \u001b[1m8s\u001b[0m 25ms/step - accuracy: 0.8319 - loss: 0.6643 - val_accuracy: 0.8352 - val_loss: 0.6073\n",
      "Epoch 4/50\n",
      "\u001b[1m331/331\u001b[0m \u001b[32m━━━━━━━━━━━━━━━━━━━━\u001b[0m\u001b[37m\u001b[0m \u001b[1m8s\u001b[0m 24ms/step - accuracy: 0.8407 - loss: 0.6083 - val_accuracy: 0.8555 - val_loss: 0.5388\n",
      "Epoch 5/50\n",
      "\u001b[1m331/331\u001b[0m \u001b[32m━━━━━━━━━━━━━━━━━━━━\u001b[0m\u001b[37m\u001b[0m \u001b[1m8s\u001b[0m 25ms/step - accuracy: 0.8453 - loss: 0.5716 - val_accuracy: 0.8329 - val_loss: 0.6018\n",
      "Epoch 6/50\n",
      "\u001b[1m331/331\u001b[0m \u001b[32m━━━━━━━━━━━━━━━━━━━━\u001b[0m\u001b[37m\u001b[0m \u001b[1m8s\u001b[0m 25ms/step - accuracy: 0.8499 - loss: 0.5461 - val_accuracy: 0.8365 - val_loss: 0.5760\n",
      "Epoch 7/50\n",
      "\u001b[1m331/331\u001b[0m \u001b[32m━━━━━━━━━━━━━━━━━━━━\u001b[0m\u001b[37m\u001b[0m \u001b[1m8s\u001b[0m 25ms/step - accuracy: 0.8551 - loss: 0.5219 - val_accuracy: 0.8297 - val_loss: 0.5935\n",
      "Epoch 8/50\n",
      "\u001b[1m331/331\u001b[0m \u001b[32m━━━━━━━━━━━━━━━━━━━━\u001b[0m\u001b[37m\u001b[0m \u001b[1m8s\u001b[0m 25ms/step - accuracy: 0.8571 - loss: 0.5071 - val_accuracy: 0.7904 - val_loss: 0.7167\n",
      "Epoch 9/50\n",
      "\u001b[1m331/331\u001b[0m \u001b[32m━━━━━━━━━━━━━━━━━━━━\u001b[0m\u001b[37m\u001b[0m \u001b[1m8s\u001b[0m 25ms/step - accuracy: 0.8599 - loss: 0.4962 - val_accuracy: 0.8529 - val_loss: 0.5150\n",
      "Epoch 10/50\n",
      "\u001b[1m331/331\u001b[0m \u001b[32m━━━━━━━━━━━━━━━━━━━━\u001b[0m\u001b[37m\u001b[0m \u001b[1m8s\u001b[0m 25ms/step - accuracy: 0.8606 - loss: 0.4822 - val_accuracy: 0.8569 - val_loss: 0.4972\n",
      "Epoch 11/50\n",
      "\u001b[1m331/331\u001b[0m \u001b[32m━━━━━━━━━━━━━━━━━━━━\u001b[0m\u001b[37m\u001b[0m \u001b[1m8s\u001b[0m 25ms/step - accuracy: 0.8605 - loss: 0.4761 - val_accuracy: 0.8198 - val_loss: 0.5962\n",
      "Epoch 12/50\n",
      "\u001b[1m331/331\u001b[0m \u001b[32m━━━━━━━━━━━━━━━━━━━━\u001b[0m\u001b[37m\u001b[0m \u001b[1m8s\u001b[0m 25ms/step - accuracy: 0.8636 - loss: 0.4680 - val_accuracy: 0.8247 - val_loss: 0.6005\n",
      "Epoch 13/50\n",
      "\u001b[1m331/331\u001b[0m \u001b[32m━━━━━━━━━━━━━━━━━━━━\u001b[0m\u001b[37m\u001b[0m \u001b[1m8s\u001b[0m 25ms/step - accuracy: 0.8639 - loss: 0.4650 - val_accuracy: 0.8630 - val_loss: 0.4749\n",
      "Epoch 14/50\n",
      "\u001b[1m331/331\u001b[0m \u001b[32m━━━━━━━━━━━━━━━━━━━━\u001b[0m\u001b[37m\u001b[0m \u001b[1m8s\u001b[0m 25ms/step - accuracy: 0.8654 - loss: 0.4608 - val_accuracy: 0.8453 - val_loss: 0.5249\n",
      "Epoch 15/50\n",
      "\u001b[1m331/331\u001b[0m \u001b[32m━━━━━━━━━━━━━━━━━━━━\u001b[0m\u001b[37m\u001b[0m \u001b[1m8s\u001b[0m 24ms/step - accuracy: 0.8684 - loss: 0.4542 - val_accuracy: 0.8500 - val_loss: 0.5082\n",
      "Epoch 16/50\n",
      "\u001b[1m331/331\u001b[0m \u001b[32m━━━━━━━━━━━━━━━━━━━━\u001b[0m\u001b[37m\u001b[0m \u001b[1m8s\u001b[0m 25ms/step - accuracy: 0.8689 - loss: 0.4456 - val_accuracy: 0.8387 - val_loss: 0.5358\n",
      "Epoch 17/50\n",
      "\u001b[1m331/331\u001b[0m \u001b[32m━━━━━━━━━━━━━━━━━━━━\u001b[0m\u001b[37m\u001b[0m \u001b[1m8s\u001b[0m 25ms/step - accuracy: 0.8723 - loss: 0.4397 - val_accuracy: 0.8338 - val_loss: 0.5700\n",
      "Epoch 18/50\n",
      "\u001b[1m331/331\u001b[0m \u001b[32m━━━━━━━━━━━━━━━━━━━━\u001b[0m\u001b[37m\u001b[0m \u001b[1m8s\u001b[0m 25ms/step - accuracy: 0.8723 - loss: 0.4404 - val_accuracy: 0.8605 - val_loss: 0.4682\n",
      "Epoch 19/50\n",
      "\u001b[1m331/331\u001b[0m \u001b[32m━━━━━━━━━━━━━━━━━━━━\u001b[0m\u001b[37m\u001b[0m \u001b[1m8s\u001b[0m 25ms/step - accuracy: 0.8725 - loss: 0.4346 - val_accuracy: 0.8580 - val_loss: 0.4813\n",
      "Epoch 20/50\n",
      "\u001b[1m331/331\u001b[0m \u001b[32m━━━━━━━━━━━━━━━━━━━━\u001b[0m\u001b[37m\u001b[0m \u001b[1m8s\u001b[0m 25ms/step - accuracy: 0.8736 - loss: 0.4291 - val_accuracy: 0.8645 - val_loss: 0.4365\n",
      "Epoch 21/50\n",
      "\u001b[1m331/331\u001b[0m \u001b[32m━━━━━━━━━━━━━━━━━━━━\u001b[0m\u001b[37m\u001b[0m \u001b[1m8s\u001b[0m 25ms/step - accuracy: 0.8713 - loss: 0.4348 - val_accuracy: 0.8115 - val_loss: 0.6234\n",
      "Epoch 22/50\n",
      "\u001b[1m331/331\u001b[0m \u001b[32m━━━━━━━━━━━━━━━━━━━━\u001b[0m\u001b[37m\u001b[0m \u001b[1m8s\u001b[0m 25ms/step - accuracy: 0.8743 - loss: 0.4219 - val_accuracy: 0.8455 - val_loss: 0.5072\n",
      "Epoch 23/50\n",
      "\u001b[1m331/331\u001b[0m \u001b[32m━━━━━━━━━━━━━━━━━━━━\u001b[0m\u001b[37m\u001b[0m \u001b[1m8s\u001b[0m 25ms/step - accuracy: 0.8736 - loss: 0.4262 - val_accuracy: 0.8405 - val_loss: 0.5324\n",
      "Epoch 24/50\n",
      "\u001b[1m331/331\u001b[0m \u001b[32m━━━━━━━━━━━━━━━━━━━━\u001b[0m\u001b[37m\u001b[0m \u001b[1m8s\u001b[0m 25ms/step - accuracy: 0.8774 - loss: 0.4185 - val_accuracy: 0.8655 - val_loss: 0.4442\n",
      "Epoch 25/50\n",
      "\u001b[1m331/331\u001b[0m \u001b[32m━━━━━━━━━━━━━━━━━━━━\u001b[0m\u001b[37m\u001b[0m \u001b[1m8s\u001b[0m 25ms/step - accuracy: 0.8748 - loss: 0.4177 - val_accuracy: 0.8507 - val_loss: 0.4916\n",
      "Epoch 26/50\n",
      "\u001b[1m331/331\u001b[0m \u001b[32m━━━━━━━━━━━━━━━━━━━━\u001b[0m\u001b[37m\u001b[0m \u001b[1m8s\u001b[0m 25ms/step - accuracy: 0.8758 - loss: 0.4158 - val_accuracy: 0.8500 - val_loss: 0.4981\n"
     ]
    }
   ],
   "source": [
    "from tensorflow.keras.callbacks import EarlyStopping\n",
    "import shutil\n",
    "\n",
    "train_model = True\n",
    "\n",
    "saved_weights = \"/kaggle/input/char-recognition-emnist/keras/default/4/char_recog_model_emnist_v2.weights.h5\"\n",
    "if os.path.isfile(saved_weights) and not train_model:\n",
    "    model.load_weights(saved_weights)\n",
    "    history = None\n",
    "    \n",
    "else:\n",
    "    early_stopping = EarlyStopping(min_delta=0.001, patience=6, restore_best_weights=True)\n",
    "    \n",
    "    optimizer = tf.keras.optimizers.AdamW(learning_rate=1e-3, weight_decay=1e-5)\n",
    "    model.compile(\n",
    "        optimizer=optimizer,\n",
    "        loss='sparse_categorical_crossentropy',\n",
    "        metrics=['accuracy'],\n",
    "    )\n",
    "    \n",
    "    history = model.fit(\n",
    "        X_train,\n",
    "        y_train,\n",
    "        validation_data=(X_val, y_val),\n",
    "        epochs=50,\n",
    "        batch_size=256,\n",
    "        callbacks=[early_stopping]\n",
    "    )\n",
    "    \n",
    "    model.save_weights(\"char_recog_model_emnist.weights.h5\")\n",
    "    shutil.move(\"char_recog_model_emnist.weights.h5\", \"/kaggle/working/char_recog_model_emnist.weights.h5\")"
   ]
  },
  {
   "cell_type": "code",
   "execution_count": 37,
   "metadata": {
    "execution": {
     "iopub.execute_input": "2024-12-02T14:27:31.627154Z",
     "iopub.status.busy": "2024-12-02T14:27:31.626815Z",
     "iopub.status.idle": "2024-12-02T14:27:32.098961Z",
     "shell.execute_reply": "2024-12-02T14:27:32.097991Z",
     "shell.execute_reply.started": "2024-12-02T14:27:31.627116Z"
    }
   },
   "outputs": [
    {
     "data": {
      "image/png": "[encoded data removed]",
      "text/plain": [
       "<Figure size 640x480 with 1 Axes>"
      ]
     },
     "metadata": {},
     "output_type": "display_data"
    },
    {
     "data": {
      "image/png": "[encoded data removed]",
      "text/plain": [
       "<Figure size 640x480 with 1 Axes>"
      ]
     },
     "metadata": {},
     "output_type": "display_data"
    }
   ],
   "source": [
    "import pandas as pd\n",
    "if history is not None:\n",
    "    history_frame = pd.DataFrame(history.history)\n",
    "    history_frame.loc[:, ['loss', 'val_loss']].plot()\n",
    "    history_frame.loc[:, ['accuracy', 'val_accuracy']].plot()"
   ]
  },
  {
   "cell_type": "markdown",
   "metadata": {},
   "source": [
    "## Validating data with custom Images"
   ]
  },
  {
   "cell_type": "code",
   "execution_count": 38,
   "metadata": {
    "execution": {
     "iopub.execute_input": "2024-12-02T14:27:32.100416Z",
     "iopub.status.busy": "2024-12-02T14:27:32.100074Z",
     "iopub.status.idle": "2024-12-02T14:27:32.106044Z",
     "shell.execute_reply": "2024-12-02T14:27:32.104959Z",
     "shell.execute_reply.started": "2024-12-02T14:27:32.100381Z"
    }
   },
   "outputs": [],
   "source": [
    "dir_path = \"/kaggle/input/letters-and-digits/Images characters/\"\n",
    "dir_path_upper = \"/kaggle/input/letters-and-digits/Images characters/Uppercase\"\n",
    "dir_path_lower = \"/kaggle/input/letters-and-digits/Images characters/Lowercase\"\n",
    "\n",
    "img_path_zero = \"/kaggle/input/letters-and-digits/Images characters/zero.png\"\n",
    "img_path_drawn_zero = \"/kaggle/input/letters-and-digits/Images characters/drawn_zero.png\"\n",
    "img_path_drawn_M_close = \"/kaggle/input/letters-and-digits/Images characters/M_handwritten_close.png\"\n",
    "img_path_drawn_M_far = \"/kaggle/input/letters-and-digits/Images characters/M_handwritten_far.png\""
   ]
  },
  {
   "cell_type": "markdown",
   "metadata": {},
   "source": [
    "You can see below that the model gets confused on some images. This is due to the training with rotated and mirrored images. So for example, the first M it sees as a rotated E."
   ]
  },
  {
   "cell_type": "code",
   "execution_count": 42,
   "metadata": {
    "execution": {
     "iopub.execute_input": "2024-12-02T14:31:46.355948Z",
     "iopub.status.busy": "2024-12-02T14:31:46.355595Z",
     "iopub.status.idle": "2024-12-02T14:31:47.481376Z",
     "shell.execute_reply": "2024-12-02T14:31:47.480483Z",
     "shell.execute_reply.started": "2024-12-02T14:31:46.355918Z"
    }
   },
   "outputs": [
    {
     "name": "stdout",
     "output_type": "stream",
     "text": [
      "(17, 28, 28)\n",
      "\u001b[1m1/1\u001b[0m \u001b[32m━━━━━━━━━━━━━━━━━━━━\u001b[0m\u001b[37m\u001b[0m \u001b[1m0s\u001b[0m 218ms/step\n",
      "(17, 28, 28) (17,)\n"
     ]
    },
    {
     "data": {
      "image/png": "[encoded data removed]",
      "text/plain": [
       "<Figure size 1000x500 with 17 Axes>"
      ]
     },
     "metadata": {},
     "output_type": "display_data"
    }
   ],
   "source": [
    "path = dir_path_upper\n",
    "processed_images = load_and_preprocess_images_from_dir(path, inverse=True)\n",
    "# processed_image = np.array([X_test[2]])\n",
    "\n",
    "print(processed_images.shape)\n",
    "\n",
    "# Make the prediction\n",
    "predictions = model.predict(processed_images)\n",
    "\n",
    "# For multi-class classification (e.g., 62 classes):\n",
    "# Get the index of the class with the highest probability\n",
    "predicted_classes = np.argmax(predictions, axis=1)\n",
    "\n",
    "print(processed_images.shape, predicted_classes.shape)\n",
    "plot_n_images(processed_images, predicted_classes, n=17, row_spacing=0.5)"
   ]
  },
  {
   "cell_type": "code",
   "execution_count": null,
   "metadata": {
    "execution": {
     "iopub.status.busy": "2024-12-02T14:27:32.289300Z",
     "iopub.status.idle": "2024-12-02T14:27:32.289597Z",
     "shell.execute_reply": "2024-12-02T14:27:32.289464Z",
     "shell.execute_reply.started": "2024-12-02T14:27:32.289450Z"
    }
   },
   "outputs": [],
   "source": [
    "predictions = model.predict(X_test)"
   ]
  },
  {
   "cell_type": "code",
   "execution_count": null,
   "metadata": {
    "execution": {
     "iopub.status.busy": "2024-12-02T14:27:32.290903Z",
     "iopub.status.idle": "2024-12-02T14:27:32.291178Z",
     "shell.execute_reply": "2024-12-02T14:27:32.291056Z",
     "shell.execute_reply.started": "2024-12-02T14:27:32.291043Z"
    }
   },
   "outputs": [],
   "source": [
    "from sklearn.metrics import accuracy_score\n",
    "\n",
    "predicted_classes = np.argmax(predictions, axis=1)\n",
    "# OH_predicted_classes = one_hot_encode(predicted_classes)\n",
    "accuracy = accuracy_score(y_test, predicted_classes)\n",
    "accuracy"
   ]
  },
  {
   "cell_type": "code",
   "execution_count": null,
   "metadata": {
    "execution": {
     "iopub.status.busy": "2024-12-02T14:27:32.293036Z",
     "iopub.status.idle": "2024-12-02T14:27:32.293356Z",
     "shell.execute_reply": "2024-12-02T14:27:32.293214Z",
     "shell.execute_reply.started": "2024-12-02T14:27:32.293199Z"
    }
   },
   "outputs": [],
   "source": [
    "plot_n_images(X_test, y_test)"
   ]
  },
  {
   "cell_type": "markdown",
   "metadata": {},
   "source": [
    "## English Font-Number Recognition dataset"
   ]
  },
  {
   "cell_type": "markdown",
   "metadata": {},
   "source": [
    "Here we can see that the model also gets confused on images from different datasets. Again, this is most likely due to getting confused on the rotation of the images."
   ]
  },
  {
   "cell_type": "code",
   "execution_count": null,
   "metadata": {
    "execution": {
     "iopub.status.busy": "2024-12-02T14:27:32.295237Z",
     "iopub.status.idle": "2024-12-02T14:27:32.295557Z",
     "shell.execute_reply": "2024-12-02T14:27:32.295417Z",
     "shell.execute_reply.started": "2024-12-02T14:27:32.295401Z"
    }
   },
   "outputs": [],
   "source": [
    "def load_and_preprocess_images_from_dirs(dir_path, target_size=(28, 28), inverse=False):\n",
    "    X = []\n",
    "    y = []\n",
    "    for i, dir in enumerate(sorted(os.listdir(dir_path))):\n",
    "        sub_dir_path = os.path.join(dir_path, dir)\n",
    "        for img in sorted(os.listdir(sub_dir_path)):\n",
    "            img_path = os.path.join(sub_dir_path, img)\n",
    "            img_array = load_and_preprocess_image(img_path, target_size=target_size, inverse=inverse)\n",
    "            img_array = np.squeeze(img_array, axis=0)\n",
    "            X.append(img_array)\n",
    "            y.append(i)\n",
    "\n",
    "    X = np.array(X)\n",
    "    y = np.array(y)\n",
    "\n",
    "    return X, y"
   ]
  },
  {
   "cell_type": "code",
   "execution_count": null,
   "metadata": {
    "execution": {
     "iopub.status.busy": "2024-12-02T14:27:32.297196Z",
     "iopub.status.idle": "2024-12-02T14:27:32.297929Z",
     "shell.execute_reply": "2024-12-02T14:27:32.297688Z",
     "shell.execute_reply.started": "2024-12-02T14:27:32.297663Z"
    }
   },
   "outputs": [],
   "source": [
    "dir_path = \"/kaggle/input/english-fontnumber-recognition/Font/Font\"\n",
    "\n",
    "ds_ = image_dataset_from_directory(\n",
    "    dir_path,\n",
    "    labels='inferred',\n",
    "    label_mode = 'categorical',\n",
    "    image_size=[28, 28],\n",
    "    interpolation='nearest',\n",
    "    batch_size=64,\n",
    "    shuffle=True,\n",
    "    seed=0\n",
    ")\n",
    "\n",
    "# Data Pipeline\n",
    "def convert_to_float(image, label):\n",
    "    image = tf.image.rgb_to_grayscale(image)\n",
    "    image = tf.image.convert_image_dtype(image, dtype=tf.float32)\n",
    "    return image, label\n",
    "\n",
    "AUTOTUNE = tf.data.experimental.AUTOTUNE\n",
    "ds = (\n",
    "    ds_\n",
    "    .map(convert_to_float)\n",
    "    .cache()\n",
    "    .prefetch(buffer_size=AUTOTUNE)\n",
    ")"
   ]
  },
  {
   "cell_type": "code",
   "execution_count": null,
   "metadata": {
    "execution": {
     "iopub.status.busy": "2024-12-02T14:27:32.299143Z",
     "iopub.status.idle": "2024-12-02T14:27:32.299932Z",
     "shell.execute_reply": "2024-12-02T14:27:32.299693Z",
     "shell.execute_reply.started": "2024-12-02T14:27:32.299668Z"
    }
   },
   "outputs": [],
   "source": [
    "def preprocess_batch(image_batch_np):\n",
    "    image_batch_preprocessed = []\n",
    "    for i in range(image_batch_np.shape[0]):\n",
    "        preprocessed_image = preprocess_image(image_batch_np[i])\n",
    "        preprocessed_image = np.expand_dims(preprocessed_image, axis=-1)\n",
    "        image_batch_preprocessed.append(preprocessed_image)\n",
    "\n",
    "    image_batch_preprocessed = np.array(image_batch_preprocessed)\n",
    "\n",
    "    return image_batch_preprocessed"
   ]
  },
  {
   "cell_type": "code",
   "execution_count": null,
   "metadata": {
    "execution": {
     "iopub.status.busy": "2024-12-02T14:27:32.301415Z",
     "iopub.status.idle": "2024-12-02T14:27:32.301688Z",
     "shell.execute_reply": "2024-12-02T14:27:32.301570Z",
     "shell.execute_reply.started": "2024-12-02T14:27:32.301556Z"
    }
   },
   "outputs": [],
   "source": [
    "# Initialize lists to hold the data\n",
    "X2_test = []\n",
    "y2_test = []\n",
    "\n",
    "# Iterate through the dataset and append directly to lists\n",
    "for image_batch, label_batch in ds.as_numpy_iterator():\n",
    "    X2_test.append(image_batch)\n",
    "    y2_test.append(label_batch)\n",
    "\n",
    "# Convert lists to NumPy arrays\n",
    "X2_test = np.concatenate(X2_test, axis=0)\n",
    "print(X2_test.shape)\n",
    "X2_test = np.squeeze(X2_test, axis=-1)\n",
    "X2_test = 1 - X2_test\n",
    "\n",
    "y2_test = np.concatenate(y2_test, axis=0)\n",
    "\n",
    "print(X2_test.shape, y2_test.shape)\n"
   ]
  },
  {
   "cell_type": "code",
   "execution_count": null,
   "metadata": {
    "execution": {
     "iopub.status.busy": "2024-12-02T14:27:32.302866Z",
     "iopub.status.idle": "2024-12-02T14:27:32.303178Z",
     "shell.execute_reply": "2024-12-02T14:27:32.303041Z",
     "shell.execute_reply.started": "2024-12-02T14:27:32.303026Z"
    }
   },
   "outputs": [],
   "source": [
    "dir_path = \"/kaggle/input/english-fontnumber-recognition/Font/Font\"\n",
    "\n",
    "X2_test, y2_test = load_and_preprocess_images_from_dirs(dir_path, inverse=True)\n",
    "X2_test.shape, y2_test.shape"
   ]
  },
  {
   "cell_type": "markdown",
   "metadata": {},
   "source": [
    "#### Dataset Correct Images"
   ]
  },
  {
   "cell_type": "code",
   "execution_count": null,
   "metadata": {
    "execution": {
     "iopub.status.busy": "2024-12-02T14:27:32.304639Z",
     "iopub.status.idle": "2024-12-02T14:27:32.304950Z",
     "shell.execute_reply": "2024-12-02T14:27:32.304821Z",
     "shell.execute_reply.started": "2024-12-02T14:27:32.304805Z"
    }
   },
   "outputs": [],
   "source": [
    "# if one-hot encoded\n",
    "if len(y2_test.shape) == 2:\n",
    "    y2_test_OH = y2_test\n",
    "    y2_test = np.argmax(y2_test_OH, axis=1)\n",
    "    \n",
    "plot_n_images(X2_test, y2_test)"
   ]
  },
  {
   "cell_type": "code",
   "execution_count": null,
   "metadata": {
    "execution": {
     "iopub.status.busy": "2024-12-02T14:27:32.305937Z",
     "iopub.status.idle": "2024-12-02T14:27:32.306211Z",
     "shell.execute_reply": "2024-12-02T14:27:32.306093Z",
     "shell.execute_reply.started": "2024-12-02T14:27:32.306079Z"
    }
   },
   "outputs": [],
   "source": [
    "predictions2 = model.predict(X2_test)"
   ]
  },
  {
   "cell_type": "code",
   "execution_count": null,
   "metadata": {
    "execution": {
     "iopub.status.busy": "2024-12-02T14:27:32.307705Z",
     "iopub.status.idle": "2024-12-02T14:27:32.308038Z",
     "shell.execute_reply": "2024-12-02T14:27:32.307911Z",
     "shell.execute_reply.started": "2024-12-02T14:27:32.307895Z"
    }
   },
   "outputs": [],
   "source": [
    "predicted_classes2 = np.argmax(predictions2, axis=1)\n",
    "print(predicted_classes2.shape, y2_test.shape)"
   ]
  },
  {
   "cell_type": "code",
   "execution_count": null,
   "metadata": {
    "execution": {
     "iopub.status.busy": "2024-12-02T14:27:32.309165Z",
     "iopub.status.idle": "2024-12-02T14:27:32.309475Z",
     "shell.execute_reply": "2024-12-02T14:27:32.309336Z",
     "shell.execute_reply.started": "2024-12-02T14:27:32.309321Z"
    }
   },
   "outputs": [],
   "source": [
    "accuracy = accuracy_score(y2_test, predicted_classes2)\n",
    "accuracy"
   ]
  },
  {
   "cell_type": "markdown",
   "metadata": {},
   "source": [
    "#### Dataset Predicted Images"
   ]
  },
  {
   "cell_type": "code",
   "execution_count": null,
   "metadata": {
    "execution": {
     "iopub.status.busy": "2024-12-02T14:27:32.310843Z",
     "iopub.status.idle": "2024-12-02T14:27:32.311308Z",
     "shell.execute_reply": "2024-12-02T14:27:32.311082Z",
     "shell.execute_reply.started": "2024-12-02T14:27:32.311055Z"
    }
   },
   "outputs": [],
   "source": [
    "plot_n_images(X2_test[20000:], predicted_classes2[20000:])"
   ]
  }
 ],
 "metadata": {
  "kaggle": {
   "accelerator": "gpu",
   "dataSources": [
    {
     "datasetId": 7160,
     "sourceId": 10705,
     "sourceType": "datasetVersion"
    },
    {
     "datasetId": 1752143,
     "sourceId": 2864176,
     "sourceType": "datasetVersion"
    },
    {
     "datasetId": 6172398,
     "sourceId": 10044118,
     "sourceType": "datasetVersion"
    },
    {
     "modelId": 175721,
     "modelInstanceId": 153249,
     "sourceId": 181807,
     "sourceType": "modelInstanceVersion"
    }
   ],
   "dockerImageVersionId": 30786,
   "isGpuEnabled": true,
   "isInternetEnabled": true,
   "language": "python",
   "sourceType": "notebook"
  },
  "kernelspec": {
   "display_name": "Python 3 (ipykernel)",
   "language": "python",
   "name": "python3"
  },
  "language_info": {
   "codemirror_mode": {
    "name": "ipython",
    "version": 3
   },
   "file_extension": ".py",
   "mimetype": "text/x-python",
   "name": "python",
   "nbconvert_exporter": "python",
   "pygments_lexer": "ipython3",
   "version": "3.10.12"
  }
 },
 "nbformat": 4,
 "nbformat_minor": 4
}
