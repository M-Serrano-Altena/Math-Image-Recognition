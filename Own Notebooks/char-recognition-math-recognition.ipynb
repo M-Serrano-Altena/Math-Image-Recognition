{
 "cells": [
  {
   "cell_type": "markdown",
   "id": "ac172bfe",
   "metadata": {
    "papermill": {
     "duration": 0.005373,
     "end_time": "2024-12-07T14:51:20.108370",
     "exception": false,
     "start_time": "2024-12-07T14:51:20.102997",
     "status": "completed"
    },
    "tags": []
   },
   "source": [
    "## Character Image Recognition - Math Recognition"
   ]
  },
  {
   "cell_type": "markdown",
   "id": "c66c530e",
   "metadata": {
    "papermill": {
     "duration": 0.004855,
     "end_time": "2024-12-07T14:51:20.118107",
     "exception": false,
     "start_time": "2024-12-07T14:51:20.113252",
     "status": "completed"
    },
    "tags": []
   },
   "source": [
    "In this notebook a model is created to make a prediction about which character the image is supposed to display"
   ]
  },
  {
   "cell_type": "code",
   "execution_count": 1,
   "id": "b679ad89",
   "metadata": {
    "execution": {
     "iopub.execute_input": "2024-12-07T14:51:20.128880Z",
     "iopub.status.busy": "2024-12-07T14:51:20.128402Z",
     "iopub.status.idle": "2024-12-07T14:51:20.138874Z",
     "shell.execute_reply": "2024-12-07T14:51:20.137738Z"
    },
    "papermill": {
     "duration": 0.018716,
     "end_time": "2024-12-07T14:51:20.141436",
     "exception": false,
     "start_time": "2024-12-07T14:51:20.122720",
     "status": "completed"
    },
    "tags": []
   },
   "outputs": [
    {
     "name": "stdout",
     "output_type": "stream",
     "text": [
      "start\n"
     ]
    }
   ],
   "source": [
    "print(\"start\")"
   ]
  },
  {
   "cell_type": "code",
   "execution_count": 2,
   "id": "6d332f9f",
   "metadata": {
    "_cell_guid": "b1076dfc-b9ad-4769-8c92-a6c4dae69d19",
    "_uuid": "8f2839f25d086af736a60e9eeb907d3b93b6e0e5",
    "execution": {
     "iopub.execute_input": "2024-12-07T14:51:20.155054Z",
     "iopub.status.busy": "2024-12-07T14:51:20.154617Z",
     "iopub.status.idle": "2024-12-07T14:51:48.270906Z",
     "shell.execute_reply": "2024-12-07T14:51:48.269145Z"
    },
    "papermill": {
     "duration": 28.12546,
     "end_time": "2024-12-07T14:51:48.273397",
     "exception": false,
     "start_time": "2024-12-07T14:51:20.147937",
     "status": "completed"
    },
    "tags": []
   },
   "outputs": [
    {
     "name": "stdout",
     "output_type": "stream",
     "text": [
      "Collecting rarfile\r\n",
      "  Downloading rarfile-4.2-py3-none-any.whl.metadata (4.4 kB)\r\n",
      "Downloading rarfile-4.2-py3-none-any.whl (29 kB)\r\n",
      "Installing collected packages: rarfile\r\n",
      "Successfully installed rarfile-4.2\r\n"
     ]
    }
   ],
   "source": [
    "import pandas as pd\n",
    "import numpy as np\n",
    "import tensorflow as tf\n",
    "from tensorflow import keras\n",
    "from tensorflow.keras import layers\n",
    "from tensorflow.keras.preprocessing import image_dataset_from_directory\n",
    "from tensorflow.keras.preprocessing import image\n",
    "\n",
    "import matplotlib.pyplot as plt\n",
    "import os\n",
    "\n",
    "!pip install rarfile\n",
    "import rarfile\n",
    "\n",
    "from sklearn.model_selection import train_test_split"
   ]
  },
  {
   "cell_type": "code",
   "execution_count": 3,
   "id": "30530b08",
   "metadata": {
    "execution": {
     "iopub.execute_input": "2024-12-07T14:51:48.287457Z",
     "iopub.status.busy": "2024-12-07T14:51:48.286190Z",
     "iopub.status.idle": "2024-12-07T14:52:35.360689Z",
     "shell.execute_reply": "2024-12-07T14:52:35.359020Z"
    },
    "papermill": {
     "duration": 47.084281,
     "end_time": "2024-12-07T14:52:35.363539",
     "exception": false,
     "start_time": "2024-12-07T14:51:48.279258",
     "status": "completed"
    },
    "tags": []
   },
   "outputs": [
    {
     "name": "stdout",
     "output_type": "stream",
     "text": [
      "\r\n",
      "\r\n",
      "\r\n",
      "The following NEW packages will be installed:\r\n",
      "  unrar\r\n",
      "0 upgraded, 1 newly installed, 0 to remove and 46 not upgraded.\r\n",
      "Need to get 113 kB of archives.\r\n",
      "After this operation, 406 kB of additional disk space will be used.\r\n",
      "Get:1 http://archive.ubuntu.com/ubuntu focal/multiverse amd64 unrar amd64 1:5.6.6-2build1 [113 kB]\r\n",
      "Fetched 113 kB in 0s (1295 kB/s)\r\n",
      "Selecting previously unselected package unrar.\r\n",
      "(Reading database ... 115958 files and directories currently installed.)\r\n",
      "Preparing to unpack .../unrar_1%3a5.6.6-2build1_amd64.deb ...\r\n",
      "Unpacking unrar (1:5.6.6-2build1) ...\r\n",
      "Setting up unrar (1:5.6.6-2build1) ...\r\n",
      "update-alternatives: using /usr/bin/unrar-nonfree to provide /usr/bin/unrar (unrar) in auto mode\r\n",
      "update-alternatives: warning: skip creation of /usr/share/man/man1/unrar.1.gz because associated file /usr/share/man/man1/unrar-nonfree.1.gz (of link group unrar) doesn't exist\r\n",
      "Processing triggers for man-db (2.9.1-1) ...\r\n"
     ]
    }
   ],
   "source": [
    "!apt-get install unrar -y\n",
    "!unrar x /kaggle/input/handwrittenmathsymbols/data.rar handwritten_data/ > /dev/null"
   ]
  },
  {
   "cell_type": "code",
   "execution_count": 4,
   "id": "9d5148c0",
   "metadata": {
    "execution": {
     "iopub.execute_input": "2024-12-07T14:52:35.389399Z",
     "iopub.status.busy": "2024-12-07T14:52:35.388947Z",
     "iopub.status.idle": "2024-12-07T14:52:35.398025Z",
     "shell.execute_reply": "2024-12-07T14:52:35.396728Z"
    },
    "papermill": {
     "duration": 0.028121,
     "end_time": "2024-12-07T14:52:35.400590",
     "exception": false,
     "start_time": "2024-12-07T14:52:35.372469",
     "status": "completed"
    },
    "tags": []
   },
   "outputs": [
    {
     "name": "stdout",
     "output_type": "stream",
     "text": [
      "['v', 'lambda', '6', 'A', ',', 'pm', '5', '[', '0', 'k', 'lt', '8', 'exists', 'times', 'q', 'j', 'div', 'f', 'H', 'ascii_124', '4', 'sum', 'y', 'gamma', 'mu', 'neq', 'N', 'theta', ')', 'o', '!', 'R', 'ldots', 'prime', 'pi', 'd', '{', 'lim', 'e', 'sin', 'cos', 'sqrt', '-', '9', 'forall', 'C', 'rightarrow', 'alpha', '}', 'X', '=', 'leq', '2', 'tan', 'p', 'T', 'l', 'geq', 'u', 'w', 'i', ']', 'b', 'S', '7', 'forward_slash', '1', 'in', '+', 'beta', '3', 'log', 'int', 'phi', '(', 'z', 'sigma', 'Delta', 'gt', 'G', 'M', 'infty']\n"
     ]
    }
   ],
   "source": [
    "labels = os.listdir(\"handwritten_data/extracted_images\")\n",
    "print(labels)\n",
    "amt_labels = len(labels)"
   ]
  },
  {
   "cell_type": "code",
   "execution_count": 5,
   "id": "7f6debae",
   "metadata": {
    "execution": {
     "iopub.execute_input": "2024-12-07T14:52:35.417452Z",
     "iopub.status.busy": "2024-12-07T14:52:35.416864Z",
     "iopub.status.idle": "2024-12-07T14:52:35.431142Z",
     "shell.execute_reply": "2024-12-07T14:52:35.429930Z"
    },
    "papermill": {
     "duration": 0.025525,
     "end_time": "2024-12-07T14:52:35.433390",
     "exception": false,
     "start_time": "2024-12-07T14:52:35.407865",
     "status": "completed"
    },
    "tags": []
   },
   "outputs": [],
   "source": [
    "from scipy.ndimage import gaussian_filter\n",
    "\n",
    "def convert_to_grayscale(array):\n",
    "    # shape (x, y, 3) --> (x, y)\n",
    "    return np.dot(array[...,:3], [0.2989, 0.5870, 0.1140])\n",
    "\n",
    "def apply_gaussian_filter(image):\n",
    "    return gaussian_filter(image, sigma=1)\n",
    "\n",
    "def crop_to_roi(image):\n",
    "    rows = np.any(image > 0, axis=1)\n",
    "    cols = np.any(image > 0, axis=0)\n",
    "    row_start, row_end = np.where(rows)[0][[0, -1]]\n",
    "    col_start, col_end = np.where(cols)[0][[0, -1]]\n",
    "    return image[row_start:row_end+1, col_start:col_end+1]\n",
    "\n",
    "def center_image(image, target_size=28, border=2):\n",
    "    h, w = image.shape[:2]\n",
    "    aspect_ratio = w / h\n",
    "\n",
    "    # Calculate the new dimensions\n",
    "    if aspect_ratio > 1:  # Wider than tall\n",
    "        new_w = target_size[0] - 2 * border\n",
    "        new_h = int(new_w / aspect_ratio)\n",
    "    else:  # Taller than wide\n",
    "        new_h = target_size[1] - 2 * border\n",
    "        new_w = int(new_h * aspect_ratio)\n",
    "\n",
    "    image = np.expand_dims(image, axis=-1)  # Add channel axis (shape -> (h, w, 1) )\n",
    "    \n",
    "    # Resize while preserving the aspect ratio\n",
    "    image_resized = tf.image.resize(image, (new_h, new_w)).numpy()\n",
    "\n",
    "    image_resized = np.squeeze(image_resized, axis=-1) # remove channel axis again\n",
    "    \n",
    "    # Create the centered canvas\n",
    "    canvas = np.zeros(target_size, dtype=image.dtype)\n",
    "    row_start = (target_size[0] - new_h) // 2\n",
    "    col_start = (target_size[1] - new_w) // 2\n",
    "    canvas[row_start:row_start+new_h, col_start:col_start+new_w] = image_resized\n",
    "\n",
    "    return canvas\n",
    "\n",
    "\n",
    "def normalize_image(image):\n",
    "    return (image / np.max(image))\n",
    "\n",
    "\n",
    "def preprocess_image(image, target_size=(28, 28)):\n",
    "    if len(image.shape) == 3 and image.shape[2] >= 3:\n",
    "        image = convert_to_grayscale(image)\n",
    "    elif len(image.shape) == 3 and image.shape[2] == 1:\n",
    "        image = np.squeeze(image, axis=-1)\n",
    "        \n",
    "    image = apply_gaussian_filter(image)\n",
    "    image = crop_to_roi(image)\n",
    "    image = center_image(image, target_size=target_size)\n",
    "    image = normalize_image(image)\n",
    "    return image.astype(np.float32)"
   ]
  },
  {
   "cell_type": "code",
   "execution_count": 6,
   "id": "4157c37e",
   "metadata": {
    "execution": {
     "iopub.execute_input": "2024-12-07T14:52:35.448473Z",
     "iopub.status.busy": "2024-12-07T14:52:35.448053Z",
     "iopub.status.idle": "2024-12-07T14:52:35.455386Z",
     "shell.execute_reply": "2024-12-07T14:52:35.454317Z"
    },
    "papermill": {
     "duration": 0.017471,
     "end_time": "2024-12-07T14:52:35.457502",
     "exception": false,
     "start_time": "2024-12-07T14:52:35.440031",
     "status": "completed"
    },
    "tags": []
   },
   "outputs": [],
   "source": [
    "from tensorflow.keras.preprocessing import image\n",
    "\n",
    "def load_and_preprocess_image(img_path, target_size=(128, 128), inverse=False, grayscale=False):\n",
    "    \"\"\"\n",
    "    Load an image and make it a numpy array.\n",
    "    \"\"\"\n",
    "    # Load the image\n",
    "    img = image.load_img(img_path, target_size=target_size)\n",
    "    \n",
    "    # Convert to an array\n",
    "    img_array = image.img_to_array(img)\n",
    "\n",
    "    if grayscale:\n",
    "        # Convert RGB to Grayscale\n",
    "        img_array = tf.image.rgb_to_grayscale(img_array)\n",
    "\n",
    "    # normalize to [0, 1]\n",
    "    img_array = img_array / np.max(img_array)\n",
    "\n",
    "    if inverse:\n",
    "        img_array = 1 - img_array\n",
    "    \n",
    "    # Add a batch dimension (because the model expects a batch of images)\n",
    "    img_array = np.expand_dims(img_array, axis=0)\n",
    "    \n",
    "    return img_array"
   ]
  },
  {
   "cell_type": "code",
   "execution_count": 7,
   "id": "abaf03fa",
   "metadata": {
    "execution": {
     "iopub.execute_input": "2024-12-07T14:52:35.472550Z",
     "iopub.status.busy": "2024-12-07T14:52:35.472117Z",
     "iopub.status.idle": "2024-12-07T14:52:35.478845Z",
     "shell.execute_reply": "2024-12-07T14:52:35.477648Z"
    },
    "papermill": {
     "duration": 0.016873,
     "end_time": "2024-12-07T14:52:35.480987",
     "exception": false,
     "start_time": "2024-12-07T14:52:35.464114",
     "status": "completed"
    },
    "tags": []
   },
   "outputs": [],
   "source": [
    "def load_and_preprocess_images_from_dir(dir_path, target_size=(28, 28), inverse=False, grayscale=False):\n",
    "    X = []\n",
    "    for img in sorted(os.listdir(dir_path)):\n",
    "        img_path = os.path.join(dir_path, img)\n",
    "        if not os.path.isfile(img_path):\n",
    "            continue\n",
    "            \n",
    "        img_array = load_and_preprocess_image(img_path, target_size=target_size, inverse=inverse, grayscale=grayscale)\n",
    "        img_array = np.squeeze(img_array, axis=0)\n",
    "        X.append(img_array)\n",
    "\n",
    "    X = np.array(X)\n",
    "    return X"
   ]
  },
  {
   "cell_type": "code",
   "execution_count": 8,
   "id": "f453bbd0",
   "metadata": {
    "execution": {
     "iopub.execute_input": "2024-12-07T14:52:35.496564Z",
     "iopub.status.busy": "2024-12-07T14:52:35.496145Z",
     "iopub.status.idle": "2024-12-07T14:52:35.503445Z",
     "shell.execute_reply": "2024-12-07T14:52:35.502373Z"
    },
    "papermill": {
     "duration": 0.01755,
     "end_time": "2024-12-07T14:52:35.505582",
     "exception": false,
     "start_time": "2024-12-07T14:52:35.488032",
     "status": "completed"
    },
    "tags": []
   },
   "outputs": [],
   "source": [
    "def load_and_preprocess_all_image_classes_from_dir(dir_path, target_size=(28, 28), inverse=False, grayscale=False):\n",
    "    X = []\n",
    "    y = []\n",
    "    for img in sorted(os.listdir(dir_path)):\n",
    "        img_path = os.path.join(dir_path, img)\n",
    "        if not os.path.isfile(img_path):\n",
    "            continue\n",
    "\n",
    "        i = int(img[3:6]) - 1 # index starts at 0\n",
    "        \n",
    "        img_array = load_and_preprocess_image(img_path, target_size=target_size, inverse=inverse, grayscale=grayscale)\n",
    "        img_array = np.squeeze(img_array, axis=0)\n",
    "        X.append(img_array)\n",
    "        y.append(i)\n",
    "\n",
    "    X = np.array(X)\n",
    "    y = np.array(y)\n",
    "    return X, y"
   ]
  },
  {
   "cell_type": "code",
   "execution_count": 9,
   "id": "0f3b22be",
   "metadata": {
    "execution": {
     "iopub.execute_input": "2024-12-07T14:52:35.520430Z",
     "iopub.status.busy": "2024-12-07T14:52:35.520031Z",
     "iopub.status.idle": "2024-12-07T14:54:00.547430Z",
     "shell.execute_reply": "2024-12-07T14:54:00.546465Z"
    },
    "papermill": {
     "duration": 85.03771,
     "end_time": "2024-12-07T14:54:00.549882",
     "exception": false,
     "start_time": "2024-12-07T14:52:35.512172",
     "status": "completed"
    },
    "tags": []
   },
   "outputs": [
    {
     "name": "stdout",
     "output_type": "stream",
     "text": [
      "Found 375974 files belonging to 82 classes.\n",
      "Using 300780 files for training.\n",
      "Found 375974 files belonging to 82 classes.\n",
      "Using 75194 files for validation.\n"
     ]
    }
   ],
   "source": [
    "dir_path = \"handwritten_data/extracted_images\"\n",
    "\n",
    "validation_frac = 0.2\n",
    "batch_size = 256\n",
    "\n",
    "ds_train = image_dataset_from_directory(\n",
    "    dir_path,\n",
    "    labels='inferred',\n",
    "    label_mode = 'categorical',\n",
    "    image_size=[96, 96],\n",
    "    interpolation='nearest',\n",
    "    batch_size=batch_size,\n",
    "    shuffle=True,\n",
    "    subset=\"training\",\n",
    "    validation_split=validation_frac,\n",
    "    seed=0\n",
    ")\n",
    "\n",
    "label_map = ds_train.class_names\n",
    "\n",
    "ds_valid = image_dataset_from_directory(\n",
    "    dir_path,\n",
    "    labels='inferred',\n",
    "    label_mode = 'categorical',\n",
    "    image_size=[96, 96],\n",
    "    interpolation='nearest',\n",
    "    batch_size=batch_size,\n",
    "    shuffle=True,\n",
    "    subset=\"validation\",\n",
    "    validation_split=validation_frac,\n",
    "    seed=0\n",
    ")\n",
    "\n",
    "# Data Pipeline\n",
    "def convert_to_float(image, label):\n",
    "    image = tf.image.convert_image_dtype(image, dtype=tf.float16)\n",
    "    label = tf.cast(label, tf.float16)\n",
    "    return image, label\n",
    "\n",
    "AUTOTUNE = tf.data.experimental.AUTOTUNE\n",
    "ds_train = (\n",
    "    ds_train\n",
    "    .map(convert_to_float)\n",
    "    .cache()\n",
    "    .prefetch(buffer_size=AUTOTUNE)\n",
    ")\n",
    "\n",
    "ds_valid = (\n",
    "    ds_valid\n",
    "    .map(convert_to_float)\n",
    "    .cache()\n",
    "    .prefetch(buffer_size=AUTOTUNE)\n",
    ")"
   ]
  },
  {
   "cell_type": "code",
   "execution_count": 10,
   "id": "53ba7eff",
   "metadata": {
    "execution": {
     "iopub.execute_input": "2024-12-07T14:54:00.565340Z",
     "iopub.status.busy": "2024-12-07T14:54:00.564958Z",
     "iopub.status.idle": "2024-12-07T14:54:00.663908Z",
     "shell.execute_reply": "2024-12-07T14:54:00.662822Z"
    },
    "papermill": {
     "duration": 0.109464,
     "end_time": "2024-12-07T14:54:00.666237",
     "exception": false,
     "start_time": "2024-12-07T14:54:00.556773",
     "status": "completed"
    },
    "tags": []
   },
   "outputs": [
    {
     "data": {
      "text/plain": [
       "<_MapDataset element_spec=(TensorSpec(shape=(None, 96, 96, 1), dtype=tf.float16, name=None), TensorSpec(shape=(None, 82), dtype=tf.float16, name=None))>"
      ]
     },
     "execution_count": 10,
     "metadata": {},
     "output_type": "execute_result"
    }
   ],
   "source": [
    "def grayscale_image(image, label):\n",
    "    # Convert RGB to grayscale (shape changes from (128, 128, 3) to (128, 128, 1))\n",
    "    grayscale_image = tf.image.rgb_to_grayscale(image)\n",
    "    return grayscale_image, label\n",
    "\n",
    "ds_train = ds_train.map(grayscale_image)\n",
    "ds_valid = ds_valid.map(grayscale_image)\n",
    "ds_train"
   ]
  },
  {
   "cell_type": "code",
   "execution_count": 11,
   "id": "2b606590",
   "metadata": {
    "execution": {
     "iopub.execute_input": "2024-12-07T14:54:00.681901Z",
     "iopub.status.busy": "2024-12-07T14:54:00.681490Z",
     "iopub.status.idle": "2024-12-07T14:54:00.824839Z",
     "shell.execute_reply": "2024-12-07T14:54:00.823689Z"
    },
    "papermill": {
     "duration": 0.154096,
     "end_time": "2024-12-07T14:54:00.827347",
     "exception": false,
     "start_time": "2024-12-07T14:54:00.673251",
     "status": "completed"
    },
    "tags": []
   },
   "outputs": [],
   "source": [
    "model = keras.Sequential([\n",
    "    layers.InputLayer(shape=[96, 96, 1]),\n",
    "    \n",
    "    # Data Augmentation\n",
    "    layers.RandomContrast(factor=0.1),\n",
    "    layers.RandomTranslation(height_factor=0.1, width_factor=0.1),\n",
    "    layers.RandomZoom(height_factor=0.1, width_factor=0.1),\n",
    "\n",
    "    # Block One\n",
    "    layers.BatchNormalization(),\n",
    "    layers.Conv2D(filters=64, kernel_size=3, activation='relu', padding='same', kernel_regularizer='l2'),\n",
    "    layers.MaxPool2D(),\n",
    "\n",
    "    # Block Two\n",
    "    layers.BatchNormalization(),\n",
    "    layers.Conv2D(filters=128, kernel_size=3, activation='relu', padding='same', kernel_regularizer='l2'),\n",
    "    layers.MaxPool2D(),\n",
    "\n",
    "    # Block Three\n",
    "    layers.BatchNormalization(),\n",
    "    layers.Conv2D(filters=256, kernel_size=3, activation='relu', padding='same'),\n",
    "    layers.Conv2D(filters=256, kernel_size=3, activation='relu', padding='same'),\n",
    "    layers.MaxPool2D(),\n",
    "\n",
    "    layers.GlobalAveragePooling2D(),\n",
    "\n",
    "    # Head\n",
    "    layers.BatchNormalization(),\n",
    "    layers.Dense(128, activation='relu', kernel_regularizer='l2'),\n",
    "    layers.Dropout(0.5),\n",
    "    layers.Dense(amt_labels, activation='softmax'),\n",
    "])"
   ]
  },
  {
   "cell_type": "code",
   "execution_count": 12,
   "id": "41d2036d",
   "metadata": {
    "execution": {
     "iopub.execute_input": "2024-12-07T14:54:00.843278Z",
     "iopub.status.busy": "2024-12-07T14:54:00.842875Z",
     "iopub.status.idle": "2024-12-07T14:54:01.093059Z",
     "shell.execute_reply": "2024-12-07T14:54:01.091906Z"
    },
    "papermill": {
     "duration": 0.261237,
     "end_time": "2024-12-07T14:54:01.095626",
     "exception": false,
     "start_time": "2024-12-07T14:54:00.834389",
     "status": "completed"
    },
    "tags": []
   },
   "outputs": [],
   "source": [
    "from tensorflow.keras.callbacks import EarlyStopping\n",
    "import shutil\n",
    "\n",
    "train_model = False\n",
    "\n",
    "weights_path = \"/kaggle/input/math-handwritten-model/keras/default/1/char_recog_model_math.weights.h5\"\n",
    "if os.path.isfile(weights_path) and not train_model:\n",
    "    model.load_weights(weights_path)\n",
    "    history = None\n",
    "\n",
    "else:\n",
    "    early_stopping = EarlyStopping(min_delta=0.001, patience=6, restore_best_weights=True)\n",
    "    \n",
    "    optimizer = tf.keras.optimizers.AdamW(learning_rate=1e-3, weight_decay=1e-5)\n",
    "    model.compile(\n",
    "        optimizer=optimizer,\n",
    "        loss='categorical_crossentropy',\n",
    "        metrics=['accuracy'],\n",
    "    )\n",
    "    \n",
    "    history = model.fit(\n",
    "        ds_train,\n",
    "        validation_data=ds_valid,\n",
    "        epochs=50,\n",
    "        callbacks=[early_stopping]\n",
    "    )\n",
    "\n",
    "    model.save_weights(\"char_recog_model.weights.h5\")\n",
    "    shutil.move(\"char_recog_model.weights.h5\", \"/kaggle/working/char_recog_model.weights.h5\")"
   ]
  },
  {
   "cell_type": "code",
   "execution_count": 13,
   "id": "04c71feb",
   "metadata": {
    "execution": {
     "iopub.execute_input": "2024-12-07T14:54:01.110963Z",
     "iopub.status.busy": "2024-12-07T14:54:01.110568Z",
     "iopub.status.idle": "2024-12-07T14:54:01.116206Z",
     "shell.execute_reply": "2024-12-07T14:54:01.115061Z"
    },
    "papermill": {
     "duration": 0.016153,
     "end_time": "2024-12-07T14:54:01.118724",
     "exception": false,
     "start_time": "2024-12-07T14:54:01.102571",
     "status": "completed"
    },
    "tags": []
   },
   "outputs": [],
   "source": [
    "import pandas as pd\n",
    "if history is not None:\n",
    "    history_frame = pd.DataFrame(history.history)\n",
    "    history_frame.loc[:, ['loss', 'val_loss']].plot()\n",
    "    history_frame.loc[:, ['accuracy', 'val_accuracy']].plot()"
   ]
  },
  {
   "cell_type": "code",
   "execution_count": 14,
   "id": "6405cf1f",
   "metadata": {
    "execution": {
     "iopub.execute_input": "2024-12-07T14:54:01.138828Z",
     "iopub.status.busy": "2024-12-07T14:54:01.138113Z",
     "iopub.status.idle": "2024-12-07T14:54:01.149352Z",
     "shell.execute_reply": "2024-12-07T14:54:01.148023Z"
    },
    "papermill": {
     "duration": 0.025888,
     "end_time": "2024-12-07T14:54:01.151944",
     "exception": false,
     "start_time": "2024-12-07T14:54:01.126056",
     "status": "completed"
    },
    "tags": []
   },
   "outputs": [],
   "source": [
    "def plot_n_images(X, y, n=10, row_spacing=0.5):\n",
    "    plt.figure(figsize=(10, 5))\n",
    "    # Show the first n images if available, otherwise show all images\n",
    "    for i in range(min(n, X.shape[0], y.shape[0])):  \n",
    "        plt.subplot(n // 5 + 1, 5, i+1)\n",
    "        plt.imshow(X[i], cmap='gray')  # Assuming 28x28 images\n",
    "        plt.title(label_map[y[i]])\n",
    "        plt.axis('off')\n",
    "\n",
    "    plt.subplots_adjust(hspace=row_spacing)\n",
    "    plt.show()"
   ]
  },
  {
   "cell_type": "markdown",
   "id": "c61796ba",
   "metadata": {
    "papermill": {
     "duration": 0.014026,
     "end_time": "2024-12-07T14:54:01.174038",
     "exception": false,
     "start_time": "2024-12-07T14:54:01.160012",
     "status": "completed"
    },
    "tags": []
   },
   "source": [
    "### Validation data same dataset accuracy"
   ]
  },
  {
   "cell_type": "code",
   "execution_count": 15,
   "id": "3a78f463",
   "metadata": {
    "execution": {
     "iopub.execute_input": "2024-12-07T14:54:01.190183Z",
     "iopub.status.busy": "2024-12-07T14:54:01.189804Z",
     "iopub.status.idle": "2024-12-07T14:54:01.195317Z",
     "shell.execute_reply": "2024-12-07T14:54:01.193936Z"
    },
    "papermill": {
     "duration": 0.015965,
     "end_time": "2024-12-07T14:54:01.197352",
     "exception": false,
     "start_time": "2024-12-07T14:54:01.181387",
     "status": "completed"
    },
    "tags": []
   },
   "outputs": [],
   "source": [
    "if history is not None:\n",
    "    loss, accuracy = model.evaluate(ds_valid)\n",
    "    print(f\"Loss: {loss}, accuracy: {accuracy}\")"
   ]
  },
  {
   "cell_type": "code",
   "execution_count": 16,
   "id": "fe2956bf",
   "metadata": {
    "execution": {
     "iopub.execute_input": "2024-12-07T14:54:01.212897Z",
     "iopub.status.busy": "2024-12-07T14:54:01.212480Z",
     "iopub.status.idle": "2024-12-07T14:54:01.218953Z",
     "shell.execute_reply": "2024-12-07T14:54:01.217668Z"
    },
    "papermill": {
     "duration": 0.016884,
     "end_time": "2024-12-07T14:54:01.221126",
     "exception": false,
     "start_time": "2024-12-07T14:54:01.204242",
     "status": "completed"
    },
    "tags": []
   },
   "outputs": [],
   "source": [
    "dir_path = \"/kaggle/input/letters-and-digits/Images characters/\"\n",
    "\n",
    "dir_path_handwritten_upper = \"/kaggle/input/letters-and-digits/Images characters/Handwritten/Uppercase\"\n",
    "dir_path_handwritten_lower = \"/kaggle/input/letters-and-digits/Images characters/Handwritten/Lowercase\"\n",
    "dir_path_handwritten_math_simple = \"/kaggle/input/letters-and-digits/Images characters/Handwritten/Math - Simple\"\n",
    "dir_path_handwritten_math_complex = \"/kaggle/input/letters-and-digits/Images characters/Handwritten/Math - Complex\"\n",
    "\n",
    "dir_path_typed_upper = \"/kaggle/input/letters-and-digits/Images characters/Typed/Uppercase\"\n",
    "dir_path_typed_lower = \"/kaggle/input/letters-and-digits/Images characters/Typed/Lowercase\"\n",
    "dir_path_typed_latex_math = \"/kaggle/input/letters-and-digits/Images characters/Typed/Latex Math\"\n",
    "\n",
    "img_path_zero = \"/kaggle/input/letters-and-digits/Images characters/zero.png\"\n",
    "img_path_drawn_zero = \"/kaggle/input/letters-and-digits/Images characters/drawn_zero.png\"\n",
    "img_path_drawn_M_close = \"/kaggle/input/letters-and-digits/Images characters/M_handwritten_close.png\"\n",
    "img_path_drawn_M_far = \"/kaggle/input/letters-and-digits/Images characters/M_handwritten_far.png\""
   ]
  },
  {
   "cell_type": "code",
   "execution_count": 17,
   "id": "078fc880",
   "metadata": {
    "execution": {
     "iopub.execute_input": "2024-12-07T14:54:01.237400Z",
     "iopub.status.busy": "2024-12-07T14:54:01.237016Z",
     "iopub.status.idle": "2024-12-07T14:54:03.689717Z",
     "shell.execute_reply": "2024-12-07T14:54:03.688389Z"
    },
    "papermill": {
     "duration": 2.463879,
     "end_time": "2024-12-07T14:54:03.692039",
     "exception": false,
     "start_time": "2024-12-07T14:54:01.228160",
     "status": "completed"
    },
    "tags": []
   },
   "outputs": [
    {
     "name": "stdout",
     "output_type": "stream",
     "text": [
      "(20, 128, 128, 1)\n",
      "\u001b[1m1/1\u001b[0m \u001b[32m━━━━━━━━━━━━━━━━━━━━\u001b[0m\u001b[37m\u001b[0m \u001b[1m1s\u001b[0m 786ms/step\n",
      "(20, 128, 128, 1) (20,)\n"
     ]
    },
    {
     "data": {
      "image/png": "[encoded data removed]",
      "text/plain": [
       "<Figure size 1000x500 with 17 Axes>"
      ]
     },
     "metadata": {},
     "output_type": "display_data"
    }
   ],
   "source": [
    "path = dir_path_handwritten_math_simple\n",
    "processed_images = load_and_preprocess_images_from_dir(path, target_size=(128, 128), grayscale=True)\n",
    "# processed_image = np.array([X_test[2]])\n",
    "\n",
    "print(processed_images.shape)\n",
    "\n",
    "# Make the prediction\n",
    "predictions = model.predict(processed_images)\n",
    "\n",
    "# For multi-class classification (e.g., 62 classes):\n",
    "# Get the index of the class with the highest probability\n",
    "predicted_classes = np.argmax(predictions, axis=1)\n",
    "\n",
    "print(processed_images.shape, predicted_classes.shape)\n",
    "plot_n_images(processed_images, predicted_classes, n=17, row_spacing=0.5)"
   ]
  }
 ],
 "metadata": {
  "kaggle": {
   "accelerator": "none",
   "dataSources": [
    {
     "datasetId": 663,
     "sourceId": 1265,
     "sourceType": "datasetVersion"
    },
    {
     "datasetId": 7160,
     "sourceId": 10705,
     "sourceType": "datasetVersion"
    },
    {
     "datasetId": 1176843,
     "sourceId": 1972672,
     "sourceType": "datasetVersion"
    },
    {
     "datasetId": 1752143,
     "sourceId": 2864176,
     "sourceType": "datasetVersion"
    },
    {
     "datasetId": 6172398,
     "sourceId": 10081359,
     "sourceType": "datasetVersion"
    },
    {
     "modelId": 175660,
     "modelInstanceId": 153188,
     "sourceId": 182777,
     "sourceType": "modelInstanceVersion"
    },
    {
     "isSourceIdPinned": true,
     "modelId": 181130,
     "modelInstanceId": 158749,
     "sourceId": 186195,
     "sourceType": "modelInstanceVersion"
    }
   ],
   "dockerImageVersionId": 30787,
   "isGpuEnabled": false,
   "isInternetEnabled": true,
   "language": "python",
   "sourceType": "notebook"
  },
  "kernelspec": {
   "display_name": "Python 3",
   "language": "python",
   "name": "python3"
  },
  "language_info": {
   "codemirror_mode": {
    "name": "ipython",
    "version": 3
   },
   "file_extension": ".py",
   "mimetype": "text/x-python",
   "name": "python",
   "nbconvert_exporter": "python",
   "pygments_lexer": "ipython3",
   "version": "3.10.14"
  },
  "papermill": {
   "default_parameters": {},
   "duration": 168.24589,
   "end_time": "2024-12-07T14:54:05.425394",
   "environment_variables": {},
   "exception": null,
   "input_path": "__notebook__.ipynb",
   "output_path": "__notebook__.ipynb",
   "parameters": {},
   "start_time": "2024-12-07T14:51:17.179504",
   "version": "2.6.0"
  }
 },
 "nbformat": 4,
 "nbformat_minor": 5
}
