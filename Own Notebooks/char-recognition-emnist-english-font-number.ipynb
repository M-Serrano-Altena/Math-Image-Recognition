{
 "cells": [
  {
   "cell_type": "markdown",
   "id": "38c939a5",
   "metadata": {
    "execution": {
     "iopub.execute_input": "2024-11-27T12:25:25.786722Z",
     "iopub.status.busy": "2024-11-27T12:25:25.786324Z",
     "iopub.status.idle": "2024-11-27T12:25:25.792194Z",
     "shell.execute_reply": "2024-11-27T12:25:25.790853Z",
     "shell.execute_reply.started": "2024-11-27T12:25:25.786670Z"
    },
    "papermill": {
     "duration": 0.007119,
     "end_time": "2024-12-07T14:53:53.291669",
     "exception": false,
     "start_time": "2024-12-07T14:53:53.284550",
     "status": "completed"
    },
    "tags": []
   },
   "source": [
    "## Character Recognition - EMNIST + English Font-Number"
   ]
  },
  {
   "cell_type": "markdown",
   "id": "cb0ee3e0",
   "metadata": {
    "papermill": {
     "duration": 0.005743,
     "end_time": "2024-12-07T14:53:53.303838",
     "exception": false,
     "start_time": "2024-12-07T14:53:53.298095",
     "status": "completed"
    },
    "tags": []
   },
   "source": [
    "### Import data"
   ]
  },
  {
   "cell_type": "code",
   "execution_count": 1,
   "id": "06d572a9",
   "metadata": {
    "execution": {
     "iopub.execute_input": "2024-12-07T14:53:53.318152Z",
     "iopub.status.busy": "2024-12-07T14:53:53.317618Z",
     "iopub.status.idle": "2024-12-07T14:54:18.159377Z",
     "shell.execute_reply": "2024-12-07T14:54:18.157745Z"
    },
    "papermill": {
     "duration": 24.852225,
     "end_time": "2024-12-07T14:54:18.162233",
     "exception": false,
     "start_time": "2024-12-07T14:53:53.310008",
     "status": "completed"
    },
    "tags": []
   },
   "outputs": [
    {
     "name": "stdout",
     "output_type": "stream",
     "text": [
      "Collecting emnist\r\n",
      "  Downloading emnist-0.0-py3-none-any.whl.metadata (3.7 kB)\r\n",
      "Requirement already satisfied: numpy in /opt/conda/lib/python3.10/site-packages (from emnist) (1.26.4)\r\n",
      "Requirement already satisfied: requests in /opt/conda/lib/python3.10/site-packages (from emnist) (2.32.3)\r\n",
      "Requirement already satisfied: tqdm in /opt/conda/lib/python3.10/site-packages (from emnist) (4.66.4)\r\n",
      "Requirement already satisfied: charset-normalizer<4,>=2 in /opt/conda/lib/python3.10/site-packages (from requests->emnist) (3.3.2)\r\n",
      "Requirement already satisfied: idna<4,>=2.5 in /opt/conda/lib/python3.10/site-packages (from requests->emnist) (3.7)\r\n",
      "Requirement already satisfied: urllib3<3,>=1.21.1 in /opt/conda/lib/python3.10/site-packages (from requests->emnist) (1.26.18)\r\n",
      "Requirement already satisfied: certifi>=2017.4.17 in /opt/conda/lib/python3.10/site-packages (from requests->emnist) (2024.8.30)\r\n",
      "Downloading emnist-0.0-py3-none-any.whl (7.3 kB)\r\n",
      "Installing collected packages: emnist\r\n",
      "Successfully installed emnist-0.0\r\n",
      "Collecting idx2numpy\r\n",
      "  Downloading idx2numpy-1.2.3.tar.gz (6.8 kB)\r\n",
      "  Preparing metadata (setup.py) ... \u001b[?25l-\b \bdone\r\n",
      "\u001b[?25hRequirement already satisfied: numpy in /opt/conda/lib/python3.10/site-packages (from idx2numpy) (1.26.4)\r\n",
      "Requirement already satisfied: six in /opt/conda/lib/python3.10/site-packages (from idx2numpy) (1.16.0)\r\n",
      "Building wheels for collected packages: idx2numpy\r\n",
      "  Building wheel for idx2numpy (setup.py) ... \u001b[?25l-\b \b\\\b \bdone\r\n",
      "\u001b[?25h  Created wheel for idx2numpy: filename=idx2numpy-1.2.3-py3-none-any.whl size=7904 sha256=6b5e4ed7bd8e6a6e622c07a9b94f1119902760e1c0a14b42fc1378f7ac7836f4\r\n",
      "  Stored in directory: /root/.cache/pip/wheels/e0/f4/e7/643fc5f932ec2ff92997f43f007660feb23f948aa8486f1107\r\n",
      "Successfully built idx2numpy\r\n",
      "Installing collected packages: idx2numpy\r\n",
      "Successfully installed idx2numpy-1.2.3\r\n"
     ]
    }
   ],
   "source": [
    "!pip install emnist\n",
    "!pip install idx2numpy"
   ]
  },
  {
   "cell_type": "code",
   "execution_count": 2,
   "id": "42c2714c",
   "metadata": {
    "_cell_guid": "b1076dfc-b9ad-4769-8c92-a6c4dae69d19",
    "_uuid": "8f2839f25d086af736a60e9eeb907d3b93b6e0e5",
    "execution": {
     "iopub.execute_input": "2024-12-07T14:54:18.178928Z",
     "iopub.status.busy": "2024-12-07T14:54:18.178471Z",
     "iopub.status.idle": "2024-12-07T14:54:34.933284Z",
     "shell.execute_reply": "2024-12-07T14:54:34.932077Z"
    },
    "papermill": {
     "duration": 16.76662,
     "end_time": "2024-12-07T14:54:34.936589",
     "exception": false,
     "start_time": "2024-12-07T14:54:18.169969",
     "status": "completed"
    },
    "tags": []
   },
   "outputs": [],
   "source": [
    "import pandas as pd\n",
    "import numpy as np\n",
    "import tensorflow as tf\n",
    "import tensorflow_datasets as tfds\n",
    "from tensorflow import keras\n",
    "from tensorflow.keras import layers, models\n",
    "from tensorflow.keras.preprocessing import image_dataset_from_directory\n",
    "from tensorflow.keras.preprocessing import image\n",
    "\n",
    "import matplotlib.pyplot as plt\n",
    "import os"
   ]
  },
  {
   "cell_type": "code",
   "execution_count": 3,
   "id": "6345ec24",
   "metadata": {
    "execution": {
     "iopub.execute_input": "2024-12-07T14:54:34.960298Z",
     "iopub.status.busy": "2024-12-07T14:54:34.959415Z",
     "iopub.status.idle": "2024-12-07T14:54:41.562354Z",
     "shell.execute_reply": "2024-12-07T14:54:41.561114Z"
    },
    "papermill": {
     "duration": 6.614451,
     "end_time": "2024-12-07T14:54:41.565200",
     "exception": false,
     "start_time": "2024-12-07T14:54:34.950749",
     "status": "completed"
    },
    "tags": []
   },
   "outputs": [],
   "source": [
    "import idx2numpy\n",
    "from sklearn.model_selection import train_test_split\n",
    "\n",
    "X1 = idx2numpy.convert_from_file('/kaggle/input/emnist/emnist_source_files/emnist-byclass-train-images-idx3-ubyte')\n",
    "X1_test = idx2numpy.convert_from_file('/kaggle/input/emnist/emnist_source_files/emnist-byclass-test-images-idx3-ubyte')\n",
    "\n",
    "y1 = idx2numpy.convert_from_file('/kaggle/input/emnist/emnist_source_files/emnist-byclass-train-labels-idx1-ubyte')\n",
    "y1_test = idx2numpy.convert_from_file('/kaggle/input/emnist/emnist_source_files/emnist-byclass-test-labels-idx1-ubyte')\n",
    "\n",
    "X1_train, X1_val, y1_train, y1_val = train_test_split(X1, y1)"
   ]
  },
  {
   "cell_type": "code",
   "execution_count": 4,
   "id": "b428c6d4",
   "metadata": {
    "execution": {
     "iopub.execute_input": "2024-12-07T14:54:41.582287Z",
     "iopub.status.busy": "2024-12-07T14:54:41.580755Z",
     "iopub.status.idle": "2024-12-07T14:54:43.843759Z",
     "shell.execute_reply": "2024-12-07T14:54:43.842657Z"
    },
    "papermill": {
     "duration": 2.273462,
     "end_time": "2024-12-07T14:54:43.845963",
     "exception": false,
     "start_time": "2024-12-07T14:54:41.572501",
     "status": "completed"
    },
    "tags": []
   },
   "outputs": [
    {
     "data": {
      "text/plain": [
       "((523449, 28, 28), (523449,))"
      ]
     },
     "execution_count": 4,
     "metadata": {},
     "output_type": "execute_result"
    }
   ],
   "source": [
    "def rescale_data(arr):\n",
    "    # rescale range from [0, 255] to [0, 1]\n",
    "    return arr / 255\n",
    "\n",
    "X1_train = rescale_data(X1_train)\n",
    "X1_val = rescale_data(X1_val)\n",
    "X1_test = rescale_data(X1_test)\n",
    "\n",
    "X1_train.shape, y1_train.shape"
   ]
  },
  {
   "cell_type": "code",
   "execution_count": 5,
   "id": "453f9c27",
   "metadata": {
    "execution": {
     "iopub.execute_input": "2024-12-07T14:54:43.863196Z",
     "iopub.status.busy": "2024-12-07T14:54:43.862784Z",
     "iopub.status.idle": "2024-12-07T14:54:43.876369Z",
     "shell.execute_reply": "2024-12-07T14:54:43.875149Z"
    },
    "papermill": {
     "duration": 0.025255,
     "end_time": "2024-12-07T14:54:43.878531",
     "exception": false,
     "start_time": "2024-12-07T14:54:43.853276",
     "status": "completed"
    },
    "tags": []
   },
   "outputs": [],
   "source": [
    "from scipy.ndimage import gaussian_filter\n",
    "\n",
    "def convert_to_grayscale(array):\n",
    "    # shape (x, y, 3) --> (x, y)\n",
    "    return np.dot(array[...,:3], [0.2989, 0.5870, 0.1140])\n",
    "\n",
    "def apply_gaussian_filter(image):\n",
    "    return gaussian_filter(image, sigma=1)\n",
    "\n",
    "def crop_to_roi(image):\n",
    "    rows = np.any(image > 0, axis=1)\n",
    "    cols = np.any(image > 0, axis=0)\n",
    "    row_start, row_end = np.where(rows)[0][[0, -1]]\n",
    "    col_start, col_end = np.where(cols)[0][[0, -1]]\n",
    "    return image[row_start:row_end+1, col_start:col_end+1]\n",
    "\n",
    "def center_image(image, canvas_size=28, border=2):\n",
    "    h, w = image.shape[:2]\n",
    "    aspect_ratio = w / h\n",
    "\n",
    "    # Calculate the new dimensions\n",
    "    if aspect_ratio > 1:  # Wider than tall\n",
    "        new_w = canvas_size - 2 * border\n",
    "        new_h = int(new_w / aspect_ratio)\n",
    "    else:  # Taller than wide\n",
    "        new_h = canvas_size - 2 * border\n",
    "        new_w = int(new_h * aspect_ratio)\n",
    "\n",
    "    image = np.expand_dims(image, axis=-1)  # Add channel axis (shape -> (h, w, 1) )\n",
    "    \n",
    "    # Resize while preserving the aspect ratio\n",
    "    image_resized = tf.image.resize(image, (new_h, new_w)).numpy()\n",
    "\n",
    "    image_resized = np.squeeze(image_resized, axis=-1) # remove channel axis again\n",
    "    \n",
    "    # Create the centered canvas\n",
    "    canvas = np.zeros((canvas_size, canvas_size), dtype=image.dtype)\n",
    "    row_start = (canvas_size - new_h) // 2\n",
    "    col_start = (canvas_size - new_w) // 2\n",
    "    canvas[row_start:row_start+new_h, col_start:col_start+new_w] = image_resized\n",
    "\n",
    "    return canvas\n",
    "\n",
    "\n",
    "def normalize_image(image):\n",
    "    return (image / np.max(image))\n",
    "\n",
    "\n",
    "def preprocess_image(image):\n",
    "    if len(image.shape) == 3 and image.shape[2] >= 3:\n",
    "        image = convert_to_grayscale(image)\n",
    "    elif len(image.shape) == 3 and image.shape[2] == 1:\n",
    "        image = np.squeeze(image, axis=-1)\n",
    "        \n",
    "    image = apply_gaussian_filter(image)\n",
    "    image = crop_to_roi(image)\n",
    "    image = center_image(image)\n",
    "    image = normalize_image(image)\n",
    "    return image.astype(np.float32)"
   ]
  },
  {
   "cell_type": "code",
   "execution_count": 6,
   "id": "e059473c",
   "metadata": {
    "execution": {
     "iopub.execute_input": "2024-12-07T14:54:43.894968Z",
     "iopub.status.busy": "2024-12-07T14:54:43.894540Z",
     "iopub.status.idle": "2024-12-07T14:54:43.901974Z",
     "shell.execute_reply": "2024-12-07T14:54:43.900777Z"
    },
    "papermill": {
     "duration": 0.01835,
     "end_time": "2024-12-07T14:54:43.904335",
     "exception": false,
     "start_time": "2024-12-07T14:54:43.885985",
     "status": "completed"
    },
    "tags": []
   },
   "outputs": [],
   "source": [
    "from PIL import Image\n",
    "\n",
    "def load_and_preprocess_image(img_path, target_size=(28, 28), inverse=False):\n",
    "    \"\"\"\n",
    "    Load an image and make it a numpy array.\n",
    "    \"\"\"\n",
    "    img = Image.open(img_path)\n",
    "    \n",
    "    # grayscale\n",
    "    img = img.convert(\"L\")\n",
    "    \n",
    "    # Resize to 28x28\n",
    "    img = img.resize((28, 28))\n",
    "    \n",
    "    # Convert to NumPy array\n",
    "    img_array = np.array(img)\n",
    "    \n",
    "    # Normalize to [0, 1] and invert if needed\n",
    "    img_array = img_array / 255.0\n",
    "    if inverse:\n",
    "        img_array = 1 - img_array\n",
    "\n",
    "    img_array = preprocess_image(img_array)\n",
    "    \n",
    "    # Add a batch dimension (because the model expects a batch of images)\n",
    "    img_array = np.expand_dims(img_array, axis=0)\n",
    "\n",
    "    return img_array"
   ]
  },
  {
   "cell_type": "code",
   "execution_count": 7,
   "id": "d8ed4f27",
   "metadata": {
    "execution": {
     "iopub.execute_input": "2024-12-07T14:54:43.921008Z",
     "iopub.status.busy": "2024-12-07T14:54:43.920624Z",
     "iopub.status.idle": "2024-12-07T14:54:43.927473Z",
     "shell.execute_reply": "2024-12-07T14:54:43.926135Z"
    },
    "papermill": {
     "duration": 0.017688,
     "end_time": "2024-12-07T14:54:43.929796",
     "exception": false,
     "start_time": "2024-12-07T14:54:43.912108",
     "status": "completed"
    },
    "tags": []
   },
   "outputs": [],
   "source": [
    "def load_and_preprocess_images_from_dir(dir_path, target_size=(28, 28), inverse=False):\n",
    "    X = []\n",
    "    for img in sorted(os.listdir(dir_path)):\n",
    "        img_path = os.path.join(dir_path, img)\n",
    "        if not os.path.isfile(img_path):\n",
    "            continue\n",
    "            \n",
    "        img_array = load_and_preprocess_image(img_path, target_size=target_size, inverse=inverse)\n",
    "        img_array = np.squeeze(img_array, axis=0)\n",
    "        X.append(img_array)\n",
    "\n",
    "    X = np.array(X)\n",
    "    return X"
   ]
  },
  {
   "cell_type": "code",
   "execution_count": 8,
   "id": "90b0383a",
   "metadata": {
    "execution": {
     "iopub.execute_input": "2024-12-07T14:54:43.946144Z",
     "iopub.status.busy": "2024-12-07T14:54:43.945744Z",
     "iopub.status.idle": "2024-12-07T14:54:43.953570Z",
     "shell.execute_reply": "2024-12-07T14:54:43.952287Z"
    },
    "papermill": {
     "duration": 0.018886,
     "end_time": "2024-12-07T14:54:43.956039",
     "exception": false,
     "start_time": "2024-12-07T14:54:43.937153",
     "status": "completed"
    },
    "tags": []
   },
   "outputs": [],
   "source": [
    "def load_and_preprocess_images_from_dirs(dir_path, target_size=(28, 28), inverse=False):\n",
    "    X = []\n",
    "    y = []\n",
    "    for i, dir in enumerate(sorted(os.listdir(dir_path))):\n",
    "        sub_dir_path = os.path.join(dir_path, dir)\n",
    "        for img in sorted(os.listdir(sub_dir_path)):\n",
    "            img_path = os.path.join(sub_dir_path, img)\n",
    "            if not os.path.isfile(img_path):\n",
    "                continue\n",
    "            \n",
    "            img_array = load_and_preprocess_image(img_path, target_size=target_size, inverse=inverse)\n",
    "            img_array = np.squeeze(img_array, axis=0)\n",
    "            X.append(img_array)\n",
    "            y.append(i)\n",
    "\n",
    "    X = np.array(X)\n",
    "    y = np.array(y)\n",
    "\n",
    "    return X, y"
   ]
  },
  {
   "cell_type": "code",
   "execution_count": 9,
   "id": "82ac5d8a",
   "metadata": {
    "execution": {
     "iopub.execute_input": "2024-12-07T14:54:43.972468Z",
     "iopub.status.busy": "2024-12-07T14:54:43.972012Z",
     "iopub.status.idle": "2024-12-07T15:00:24.652481Z",
     "shell.execute_reply": "2024-12-07T15:00:24.651326Z"
    },
    "papermill": {
     "duration": 340.691708,
     "end_time": "2024-12-07T15:00:24.655218",
     "exception": false,
     "start_time": "2024-12-07T14:54:43.963510",
     "status": "completed"
    },
    "tags": []
   },
   "outputs": [],
   "source": [
    "dir_path = \"/kaggle/input/english-fontnumber-recognition/Font/Font\"\n",
    "\n",
    "X2, y2 = load_and_preprocess_images_from_dirs(dir_path, inverse=True)\n",
    "X2_train, X2_val, y2_train, y2_val = train_test_split(X2, y2)"
   ]
  },
  {
   "cell_type": "code",
   "execution_count": 10,
   "id": "7926c71e",
   "metadata": {
    "execution": {
     "iopub.execute_input": "2024-12-07T15:00:24.671772Z",
     "iopub.status.busy": "2024-12-07T15:00:24.671384Z",
     "iopub.status.idle": "2024-12-07T15:00:26.999364Z",
     "shell.execute_reply": "2024-12-07T15:00:26.998216Z"
    },
    "papermill": {
     "duration": 2.339328,
     "end_time": "2024-12-07T15:00:27.001924",
     "exception": false,
     "start_time": "2024-12-07T15:00:24.662596",
     "status": "completed"
    },
    "tags": []
   },
   "outputs": [
    {
     "name": "stdout",
     "output_type": "stream",
     "text": [
      "(570693, 28, 28) (190231, 28, 28) (570693,) (190231,)\n"
     ]
    }
   ],
   "source": [
    "X_train = np.concatenate([X1_train, X2_train], axis=0)\n",
    "X_val = np.concatenate([X1_val, X2_val], axis=0)\n",
    "y_train = np.concatenate([y1_train, y2_train], axis=0)\n",
    "y_val = np.concatenate([y1_val, y2_val], axis=0)\n",
    "\n",
    "print(X_train.shape, X_val.shape, y_train.shape, y_val.shape)"
   ]
  },
  {
   "cell_type": "code",
   "execution_count": 11,
   "id": "7f53b5eb",
   "metadata": {
    "execution": {
     "iopub.execute_input": "2024-12-07T15:00:27.018772Z",
     "iopub.status.busy": "2024-12-07T15:00:27.017870Z",
     "iopub.status.idle": "2024-12-07T15:00:27.023424Z",
     "shell.execute_reply": "2024-12-07T15:00:27.022369Z"
    },
    "papermill": {
     "duration": 0.016156,
     "end_time": "2024-12-07T15:00:27.025658",
     "exception": false,
     "start_time": "2024-12-07T15:00:27.009502",
     "status": "completed"
    },
    "tags": []
   },
   "outputs": [],
   "source": [
    "from string import ascii_lowercase, ascii_uppercase\n",
    "alphabet_plus = \"0123456789\" + ascii_uppercase + ascii_lowercase\n",
    "label_map = {i: alphabet_plus[i] for i in range(len(alphabet_plus))}"
   ]
  },
  {
   "cell_type": "code",
   "execution_count": 12,
   "id": "46bed3de",
   "metadata": {
    "execution": {
     "iopub.execute_input": "2024-12-07T15:00:27.041710Z",
     "iopub.status.busy": "2024-12-07T15:00:27.041344Z",
     "iopub.status.idle": "2024-12-07T15:00:27.646680Z",
     "shell.execute_reply": "2024-12-07T15:00:27.645539Z"
    },
    "papermill": {
     "duration": 0.616068,
     "end_time": "2024-12-07T15:00:27.648993",
     "exception": false,
     "start_time": "2024-12-07T15:00:27.032925",
     "status": "completed"
    },
    "tags": []
   },
   "outputs": [
    {
     "data": {
      "image/png": "[encoded data removed]",
      "text/plain": [
       "<Figure size 1000x500 with 10 Axes>"
      ]
     },
     "metadata": {},
     "output_type": "display_data"
    }
   ],
   "source": [
    "def plot_n_images(X, y, n=10, row_spacing=0.5):\n",
    "    plt.figure(figsize=(10, 5))\n",
    "    # Show the first n images if available, otherwise show all images\n",
    "    for i in range(min(n, X.shape[0], y.shape[0])):  \n",
    "        plt.subplot(n // 5 + 1, 5, i+1)\n",
    "        plt.imshow(X[i], cmap='gray')  # Assuming 28x28 images\n",
    "        plt.title(label_map[y[i]])\n",
    "        plt.axis('off')\n",
    "\n",
    "    plt.subplots_adjust(hspace=row_spacing)\n",
    "    plt.show()\n",
    "\n",
    "plot_n_images(X_train[10:], y_train[10:])"
   ]
  },
  {
   "cell_type": "code",
   "execution_count": 13,
   "id": "d46e485e",
   "metadata": {
    "execution": {
     "iopub.execute_input": "2024-12-07T15:00:27.666081Z",
     "iopub.status.busy": "2024-12-07T15:00:27.665583Z",
     "iopub.status.idle": "2024-12-07T15:00:27.671114Z",
     "shell.execute_reply": "2024-12-07T15:00:27.669926Z"
    },
    "papermill": {
     "duration": 0.016931,
     "end_time": "2024-12-07T15:00:27.673551",
     "exception": false,
     "start_time": "2024-12-07T15:00:27.656620",
     "status": "completed"
    },
    "tags": []
   },
   "outputs": [],
   "source": [
    "def one_hot_encode(y):\n",
    "    return keras.utils.to_categorical(y, num_classes=62)\n",
    "\n",
    "# y_train = one_hot_encode(y_train)\n",
    "# y_val = one_hot_encode(y_val)\n",
    "# y_test = one_hot_encode(y_test)\n"
   ]
  },
  {
   "cell_type": "code",
   "execution_count": 14,
   "id": "a1c4117c",
   "metadata": {
    "execution": {
     "iopub.execute_input": "2024-12-07T15:00:27.690194Z",
     "iopub.status.busy": "2024-12-07T15:00:27.689765Z",
     "iopub.status.idle": "2024-12-07T15:00:27.849777Z",
     "shell.execute_reply": "2024-12-07T15:00:27.848604Z"
    },
    "papermill": {
     "duration": 0.171416,
     "end_time": "2024-12-07T15:00:27.852433",
     "exception": false,
     "start_time": "2024-12-07T15:00:27.681017",
     "status": "completed"
    },
    "tags": []
   },
   "outputs": [],
   "source": [
    "model = keras.Sequential([\n",
    "    layers.InputLayer(shape=[28, 28, 1]),\n",
    "    \n",
    "    # Data Augmentation\n",
    "    layers.RandomContrast(factor=0.1),\n",
    "    layers.RandomRotation(factor=0.1),\n",
    "    layers.RandomTranslation(height_factor=0.1, width_factor=0.1),\n",
    "    layers.RandomZoom(height_factor=0.1, width_factor=0.1),\n",
    "\n",
    "    # Block One\n",
    "    layers.BatchNormalization(),\n",
    "    layers.Conv2D(filters=64, kernel_size=3, activation='relu', padding='same', kernel_regularizer='l2'),\n",
    "    layers.MaxPool2D(),\n",
    "\n",
    "    # Block Two\n",
    "    layers.BatchNormalization(),\n",
    "    layers.Conv2D(filters=128, kernel_size=3, activation='relu', padding='same', kernel_regularizer='l2'),\n",
    "    layers.MaxPool2D(),\n",
    "\n",
    "    # Block Three\n",
    "    layers.BatchNormalization(),\n",
    "    layers.Conv2D(filters=256, kernel_size=3, activation='relu', padding='same'),\n",
    "    layers.Conv2D(filters=256, kernel_size=3, activation='relu', padding='same'),\n",
    "    layers.MaxPool2D(),\n",
    "\n",
    "    layers.GlobalAveragePooling2D(),\n",
    "\n",
    "    # Head\n",
    "    layers.BatchNormalization(),\n",
    "    layers.Dense(128, activation='relu', kernel_regularizer='l2'),\n",
    "    layers.Dropout(0.5),\n",
    "    layers.Dense(62, activation='softmax'),\n",
    "])"
   ]
  },
  {
   "cell_type": "code",
   "execution_count": 15,
   "id": "a94e0d8a",
   "metadata": {
    "execution": {
     "iopub.execute_input": "2024-12-07T15:00:27.869790Z",
     "iopub.status.busy": "2024-12-07T15:00:27.869392Z",
     "iopub.status.idle": "2024-12-07T15:00:28.093883Z",
     "shell.execute_reply": "2024-12-07T15:00:28.092656Z"
    },
    "papermill": {
     "duration": 0.236331,
     "end_time": "2024-12-07T15:00:28.096589",
     "exception": false,
     "start_time": "2024-12-07T15:00:27.860258",
     "status": "completed"
    },
    "tags": []
   },
   "outputs": [],
   "source": [
    "from tensorflow.keras.callbacks import EarlyStopping\n",
    "import shutil\n",
    "\n",
    "train_model = False\n",
    "\n",
    "weights_emnist = \"/kaggle/input/char-recognition-emnist/keras/default/4/char_recog_model_emnist_v2.weights.h5\"\n",
    "weights_emnist_english = \"/kaggle/input/emnist-english-font-number/keras/default/1/char_recog_model_emnist_english.weights.h5\"\n",
    "\n",
    "saved_weights = weights_emnist_english\n",
    "if os.path.isfile(saved_weights) and not train_model:\n",
    "    model.load_weights(saved_weights)\n",
    "    history = None\n",
    "    \n",
    "else:\n",
    "    early_stopping = EarlyStopping(min_delta=0.001, patience=6, restore_best_weights=True)\n",
    "    \n",
    "    optimizer = tf.keras.optimizers.AdamW(learning_rate=1e-3, weight_decay=1e-5)\n",
    "    model.compile(\n",
    "        optimizer=optimizer,\n",
    "        loss='sparse_categorical_crossentropy',\n",
    "        metrics=['accuracy'],\n",
    "    )\n",
    "    \n",
    "    history = model.fit(\n",
    "        X_train,\n",
    "        y_train,\n",
    "        validation_data=(X_val, y_val),\n",
    "        epochs=50,\n",
    "        batch_size=256,\n",
    "        callbacks=[early_stopping]\n",
    "    )\n",
    "    \n",
    "    model.save_weights(\"char_recog_model_emnist.weights.h5\")\n",
    "    shutil.move(\"char_recog_model_emnist.weights.h5\", \"/kaggle/working/char_recog_model_emnist.weights.h5\")"
   ]
  },
  {
   "cell_type": "code",
   "execution_count": 16,
   "id": "97c2cffa",
   "metadata": {
    "execution": {
     "iopub.execute_input": "2024-12-07T15:00:28.114370Z",
     "iopub.status.busy": "2024-12-07T15:00:28.113778Z",
     "iopub.status.idle": "2024-12-07T15:00:28.120166Z",
     "shell.execute_reply": "2024-12-07T15:00:28.118777Z"
    },
    "papermill": {
     "duration": 0.017827,
     "end_time": "2024-12-07T15:00:28.122632",
     "exception": false,
     "start_time": "2024-12-07T15:00:28.104805",
     "status": "completed"
    },
    "tags": []
   },
   "outputs": [],
   "source": [
    "import pandas as pd\n",
    "if history is not None:\n",
    "    history_frame = pd.DataFrame(history.history)\n",
    "    history_frame.loc[:, ['loss', 'val_loss']].plot()\n",
    "    history_frame.loc[:, ['accuracy', 'val_accuracy']].plot()"
   ]
  },
  {
   "cell_type": "code",
   "execution_count": 17,
   "id": "d8270699",
   "metadata": {
    "execution": {
     "iopub.execute_input": "2024-12-07T15:00:28.139758Z",
     "iopub.status.busy": "2024-12-07T15:00:28.139349Z",
     "iopub.status.idle": "2024-12-07T15:00:28.145796Z",
     "shell.execute_reply": "2024-12-07T15:00:28.144792Z"
    },
    "papermill": {
     "duration": 0.01781,
     "end_time": "2024-12-07T15:00:28.147978",
     "exception": false,
     "start_time": "2024-12-07T15:00:28.130168",
     "status": "completed"
    },
    "tags": []
   },
   "outputs": [],
   "source": [
    "dir_path = \"/kaggle/input/letters-and-digits/Images characters/\"\n",
    "\n",
    "dir_path_handwritten_upper = \"/kaggle/input/letters-and-digits/Images characters/Handwritten/Uppercase\"\n",
    "dir_path_handwritten_lower = \"/kaggle/input/letters-and-digits/Images characters/Handwritten/Lowercase\"\n",
    "dir_path_handwritten_math_simple = \"/kaggle/input/letters-and-digits/Images characters/Handwritten/Math - Simple\"\n",
    "dir_path_handwritten_math_complex = \"/kaggle/input/letters-and-digits/Images characters/Handwritten/Math - Complex\"\n",
    "\n",
    "dir_path_typed_upper = \"/kaggle/input/letters-and-digits/Images characters/Typed/Uppercase\"\n",
    "dir_path_typed_lower = \"/kaggle/input/letters-and-digits/Images characters/Typed/Lowercase\"\n",
    "dir_path_typed_latex_math = \"/kaggle/input/letters-and-digits/Images characters/Typed/Latex Math\"\n",
    "\n",
    "img_path_zero = \"/kaggle/input/letters-and-digits/Images characters/zero.png\"\n",
    "img_path_drawn_zero = \"/kaggle/input/letters-and-digits/Images characters/drawn_zero.png\"\n",
    "img_path_drawn_M_close = \"/kaggle/input/letters-and-digits/Images characters/M_handwritten_close.png\"\n",
    "img_path_drawn_M_far = \"/kaggle/input/letters-and-digits/Images characters/M_handwritten_far.png\""
   ]
  },
  {
   "cell_type": "code",
   "execution_count": 18,
   "id": "7831f589",
   "metadata": {
    "execution": {
     "iopub.execute_input": "2024-12-07T15:00:28.165386Z",
     "iopub.status.busy": "2024-12-07T15:00:28.164890Z",
     "iopub.status.idle": "2024-12-07T15:00:29.601339Z",
     "shell.execute_reply": "2024-12-07T15:00:29.600339Z"
    },
    "papermill": {
     "duration": 1.448175,
     "end_time": "2024-12-07T15:00:29.603668",
     "exception": false,
     "start_time": "2024-12-07T15:00:28.155493",
     "status": "completed"
    },
    "tags": []
   },
   "outputs": [
    {
     "name": "stdout",
     "output_type": "stream",
     "text": [
      "(17, 28, 28)\n",
      "\u001b[1m1/1\u001b[0m \u001b[32m━━━━━━━━━━━━━━━━━━━━\u001b[0m\u001b[37m\u001b[0m \u001b[1m0s\u001b[0m 309ms/step\n",
      "(17, 28, 28) (17,)\n"
     ]
    },
    {
     "data": {
      "image/png": "[encoded data removed]",
      "text/plain": [
       "<Figure size 1000x500 with 17 Axes>"
      ]
     },
     "metadata": {},
     "output_type": "display_data"
    }
   ],
   "source": [
    "path = dir_path_handwritten_upper\n",
    "processed_images = load_and_preprocess_images_from_dir(path, inverse=True)\n",
    "# processed_image = np.array([X_test[2]])\n",
    "\n",
    "print(processed_images.shape)\n",
    "\n",
    "# Make the prediction\n",
    "predictions = model.predict(processed_images)\n",
    "\n",
    "# For multi-class classification (e.g., 62 classes):\n",
    "# Get the index of the class with the highest probability\n",
    "predicted_classes = np.argmax(predictions, axis=1)\n",
    "\n",
    "print(processed_images.shape, predicted_classes.shape)\n",
    "plot_n_images(processed_images, predicted_classes, n=17, row_spacing=0.5)"
   ]
  },
  {
   "cell_type": "code",
   "execution_count": 19,
   "id": "a8e2a408",
   "metadata": {
    "execution": {
     "iopub.execute_input": "2024-12-07T15:00:29.624229Z",
     "iopub.status.busy": "2024-12-07T15:00:29.623782Z",
     "iopub.status.idle": "2024-12-07T15:02:52.372615Z",
     "shell.execute_reply": "2024-12-07T15:02:52.371510Z"
    },
    "papermill": {
     "duration": 142.76211,
     "end_time": "2024-12-07T15:02:52.375151",
     "exception": false,
     "start_time": "2024-12-07T15:00:29.613041",
     "status": "completed"
    },
    "tags": []
   },
   "outputs": [
    {
     "name": "stdout",
     "output_type": "stream",
     "text": [
      "\u001b[1m3636/3636\u001b[0m \u001b[32m━━━━━━━━━━━━━━━━━━━━\u001b[0m\u001b[37m\u001b[0m \u001b[1m129s\u001b[0m 35ms/step\n"
     ]
    }
   ],
   "source": [
    "predictions = model.predict(X1_test)"
   ]
  },
  {
   "cell_type": "code",
   "execution_count": 20,
   "id": "26c73917",
   "metadata": {
    "execution": {
     "iopub.execute_input": "2024-12-07T15:02:52.587797Z",
     "iopub.status.busy": "2024-12-07T15:02:52.587393Z",
     "iopub.status.idle": "2024-12-07T15:02:52.614065Z",
     "shell.execute_reply": "2024-12-07T15:02:52.612876Z"
    },
    "papermill": {
     "duration": 0.135479,
     "end_time": "2024-12-07T15:02:52.616516",
     "exception": false,
     "start_time": "2024-12-07T15:02:52.481037",
     "status": "completed"
    },
    "tags": []
   },
   "outputs": [
    {
     "data": {
      "text/plain": [
       "0.8367906604884675"
      ]
     },
     "execution_count": 20,
     "metadata": {},
     "output_type": "execute_result"
    }
   ],
   "source": [
    "from sklearn.metrics import accuracy_score\n",
    "\n",
    "predicted_classes = np.argmax(predictions, axis=1)\n",
    "# OH_predicted_classes = one_hot_encode(predicted_classes)\n",
    "accuracy = accuracy_score(y1_test, predicted_classes)\n",
    "accuracy"
   ]
  },
  {
   "cell_type": "code",
   "execution_count": 21,
   "id": "aee901b5",
   "metadata": {
    "execution": {
     "iopub.execute_input": "2024-12-07T15:02:52.884600Z",
     "iopub.status.busy": "2024-12-07T15:02:52.884185Z",
     "iopub.status.idle": "2024-12-07T15:02:53.468154Z",
     "shell.execute_reply": "2024-12-07T15:02:53.466658Z"
    },
    "papermill": {
     "duration": 0.749385,
     "end_time": "2024-12-07T15:02:53.470682",
     "exception": false,
     "start_time": "2024-12-07T15:02:52.721297",
     "status": "completed"
    },
    "tags": []
   },
   "outputs": [
    {
     "data": {
      "image/png": "[encoded data removed]",
      "text/plain": [
       "<Figure size 1000x500 with 10 Axes>"
      ]
     },
     "metadata": {},
     "output_type": "display_data"
    }
   ],
   "source": [
    "plot_n_images(X1_test, predicted_classes)"
   ]
  },
  {
   "cell_type": "markdown",
   "id": "5cd453d4",
   "metadata": {
    "papermill": {
     "duration": 0.107043,
     "end_time": "2024-12-07T15:02:53.685917",
     "exception": false,
     "start_time": "2024-12-07T15:02:53.578874",
     "status": "completed"
    },
    "tags": []
   },
   "source": [
    "### English Font-Number Recognition dataset"
   ]
  },
  {
   "cell_type": "markdown",
   "id": "8fe4ed32",
   "metadata": {
    "papermill": {
     "duration": 0.106682,
     "end_time": "2024-12-07T15:02:53.899064",
     "exception": false,
     "start_time": "2024-12-07T15:02:53.792382",
     "status": "completed"
    },
    "tags": []
   },
   "source": [
    "#### Dataset Correct Images"
   ]
  },
  {
   "cell_type": "code",
   "execution_count": 22,
   "id": "b16baee0",
   "metadata": {
    "execution": {
     "iopub.execute_input": "2024-12-07T15:02:54.122285Z",
     "iopub.status.busy": "2024-12-07T15:02:54.121880Z",
     "iopub.status.idle": "2024-12-07T15:02:55.019924Z",
     "shell.execute_reply": "2024-12-07T15:02:55.018641Z"
    },
    "papermill": {
     "duration": 1.013778,
     "end_time": "2024-12-07T15:02:55.022539",
     "exception": false,
     "start_time": "2024-12-07T15:02:54.008761",
     "status": "completed"
    },
    "tags": []
   },
   "outputs": [
    {
     "data": {
      "image/png": "[encoded data removed]",
      "text/plain": [
       "<Figure size 1000x500 with 10 Axes>"
      ]
     },
     "metadata": {},
     "output_type": "display_data"
    }
   ],
   "source": [
    " plot_n_images(X2_val, y2_val)"
   ]
  },
  {
   "cell_type": "code",
   "execution_count": 23,
   "id": "b53bbdfb",
   "metadata": {
    "execution": {
     "iopub.execute_input": "2024-12-07T15:02:55.244965Z",
     "iopub.status.busy": "2024-12-07T15:02:55.244531Z",
     "iopub.status.idle": "2024-12-07T15:04:06.052641Z",
     "shell.execute_reply": "2024-12-07T15:04:06.051582Z"
    },
    "papermill": {
     "duration": 70.921783,
     "end_time": "2024-12-07T15:04:06.055361",
     "exception": false,
     "start_time": "2024-12-07T15:02:55.133578",
     "status": "completed"
    },
    "tags": []
   },
   "outputs": [
    {
     "name": "stdout",
     "output_type": "stream",
     "text": [
      "\u001b[1m1969/1969\u001b[0m \u001b[32m━━━━━━━━━━━━━━━━━━━━\u001b[0m\u001b[37m\u001b[0m \u001b[1m70s\u001b[0m 35ms/step\n"
     ]
    }
   ],
   "source": [
    "predictions2 = model.predict(X2)"
   ]
  },
  {
   "cell_type": "code",
   "execution_count": 24,
   "id": "f66f922e",
   "metadata": {
    "execution": {
     "iopub.execute_input": "2024-12-07T15:04:06.387456Z",
     "iopub.status.busy": "2024-12-07T15:04:06.387019Z",
     "iopub.status.idle": "2024-12-07T15:04:06.396126Z",
     "shell.execute_reply": "2024-12-07T15:04:06.394767Z"
    },
    "papermill": {
     "duration": 0.177263,
     "end_time": "2024-12-07T15:04:06.398157",
     "exception": false,
     "start_time": "2024-12-07T15:04:06.220894",
     "status": "completed"
    },
    "tags": []
   },
   "outputs": [
    {
     "name": "stdout",
     "output_type": "stream",
     "text": [
      "(62992,) (62992,)\n"
     ]
    }
   ],
   "source": [
    "predicted_classes2 = np.argmax(predictions2, axis=1)\n",
    "print(predicted_classes2.shape, y2.shape)"
   ]
  },
  {
   "cell_type": "code",
   "execution_count": 25,
   "id": "10332c05",
   "metadata": {
    "execution": {
     "iopub.execute_input": "2024-12-07T15:04:06.785930Z",
     "iopub.status.busy": "2024-12-07T15:04:06.785529Z",
     "iopub.status.idle": "2024-12-07T15:04:06.796288Z",
     "shell.execute_reply": "2024-12-07T15:04:06.794689Z"
    },
    "papermill": {
     "duration": 0.234722,
     "end_time": "2024-12-07T15:04:06.798403",
     "exception": false,
     "start_time": "2024-12-07T15:04:06.563681",
     "status": "completed"
    },
    "tags": []
   },
   "outputs": [
    {
     "data": {
      "text/plain": [
       "0.6896590043180086"
      ]
     },
     "execution_count": 25,
     "metadata": {},
     "output_type": "execute_result"
    }
   ],
   "source": [
    "accuracy = accuracy_score(y2, predicted_classes2)\n",
    "accuracy"
   ]
  },
  {
   "cell_type": "markdown",
   "id": "0907a445",
   "metadata": {
    "papermill": {
     "duration": 0.163504,
     "end_time": "2024-12-07T15:04:07.122810",
     "exception": false,
     "start_time": "2024-12-07T15:04:06.959306",
     "status": "completed"
    },
    "tags": []
   },
   "source": [
    "#### Dataset Predicted Images"
   ]
  },
  {
   "cell_type": "code",
   "execution_count": 26,
   "id": "d8de67e7",
   "metadata": {
    "execution": {
     "iopub.execute_input": "2024-12-07T15:04:07.459911Z",
     "iopub.status.busy": "2024-12-07T15:04:07.459523Z",
     "iopub.status.idle": "2024-12-07T15:04:07.990223Z",
     "shell.execute_reply": "2024-12-07T15:04:07.989064Z"
    },
    "papermill": {
     "duration": 0.699236,
     "end_time": "2024-12-07T15:04:07.992562",
     "exception": false,
     "start_time": "2024-12-07T15:04:07.293326",
     "status": "completed"
    },
    "tags": []
   },
   "outputs": [
    {
     "data": {
      "image/png": "[encoded data removed]",
      "text/plain": [
       "<Figure size 1000x500 with 10 Axes>"
      ]
     },
     "metadata": {},
     "output_type": "display_data"
    }
   ],
   "source": [
    "plot_n_images(X2[20000:], predicted_classes2[20000:])"
   ]
  }
 ],
 "metadata": {
  "kaggle": {
   "accelerator": "none",
   "dataSources": [
    {
     "datasetId": 7160,
     "sourceId": 10705,
     "sourceType": "datasetVersion"
    },
    {
     "datasetId": 1752143,
     "sourceId": 2864176,
     "sourceType": "datasetVersion"
    },
    {
     "datasetId": 6172398,
     "sourceId": 10044118,
     "sourceType": "datasetVersion"
    },
    {
     "modelId": 175721,
     "modelInstanceId": 153249,
     "sourceId": 181807,
     "sourceType": "modelInstanceVersion"
    },
    {
     "isSourceIdPinned": true,
     "modelId": 177624,
     "modelInstanceId": 155148,
     "sourceId": 182013,
     "sourceType": "modelInstanceVersion"
    }
   ],
   "dockerImageVersionId": 30786,
   "isGpuEnabled": false,
   "isInternetEnabled": true,
   "language": "python",
   "sourceType": "notebook"
  },
  "kernelspec": {
   "display_name": "Python 3",
   "language": "python",
   "name": "python3"
  },
  "language_info": {
   "codemirror_mode": {
    "name": "ipython",
    "version": 3
   },
   "file_extension": ".py",
   "mimetype": "text/x-python",
   "name": "python",
   "nbconvert_exporter": "python",
   "pygments_lexer": "ipython3",
   "version": "3.10.14"
  },
  "papermill": {
   "default_parameters": {},
   "duration": 619.422786,
   "end_time": "2024-12-07T15:04:09.885724",
   "environment_variables": {},
   "exception": null,
   "input_path": "__notebook__.ipynb",
   "output_path": "__notebook__.ipynb",
   "parameters": {},
   "start_time": "2024-12-07T14:53:50.462938",
   "version": "2.6.0"
  }
 },
 "nbformat": 4,
 "nbformat_minor": 5
}
