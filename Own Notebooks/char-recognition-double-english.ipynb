{
 "cells": [
  {
   "cell_type": "markdown",
   "metadata": {},
   "source": [
    "## Character Image Recognition - Double English"
   ]
  },
  {
   "cell_type": "markdown",
   "metadata": {},
   "source": [
    "Uses handwritten english data and typed data with different fonts"
   ]
  },
  {
   "cell_type": "code",
   "execution_count": 1,
   "metadata": {
    "execution": {
     "iopub.execute_input": "2024-12-04T14:15:11.484622Z",
     "iopub.status.busy": "2024-12-04T14:15:11.484290Z",
     "iopub.status.idle": "2024-12-04T14:15:11.492663Z",
     "shell.execute_reply": "2024-12-04T14:15:11.491842Z",
     "shell.execute_reply.started": "2024-12-04T14:15:11.484593Z"
    },
    "trusted": true
   },
   "outputs": [
    {
     "name": "stdout",
     "output_type": "stream",
     "text": [
      "start\n"
     ]
    }
   ],
   "source": [
    "print(\"start\")"
   ]
  },
  {
   "cell_type": "code",
   "execution_count": 2,
   "metadata": {
    "_cell_guid": "b1076dfc-b9ad-4769-8c92-a6c4dae69d19",
    "_uuid": "8f2839f25d086af736a60e9eeb907d3b93b6e0e5",
    "execution": {
     "iopub.execute_input": "2024-12-04T14:15:11.494178Z",
     "iopub.status.busy": "2024-12-04T14:15:11.493885Z",
     "iopub.status.idle": "2024-12-04T14:15:24.246054Z",
     "shell.execute_reply": "2024-12-04T14:15:24.245093Z",
     "shell.execute_reply.started": "2024-12-04T14:15:11.494152Z"
    },
    "trusted": true
   },
   "outputs": [],
   "source": [
    "import pandas as pd\n",
    "import numpy as np\n",
    "import tensorflow as tf\n",
    "from tensorflow import keras\n",
    "from tensorflow.keras import layers\n",
    "from tensorflow.keras.preprocessing import image_dataset_from_directory\n",
    "\n",
    "import matplotlib.pyplot as plt\n",
    "import os\n",
    "from sklearn.model_selection import train_test_split"
   ]
  },
  {
   "cell_type": "code",
   "execution_count": 3,
   "metadata": {
    "execution": {
     "iopub.execute_input": "2024-12-04T14:15:24.248149Z",
     "iopub.status.busy": "2024-12-04T14:15:24.247602Z",
     "iopub.status.idle": "2024-12-04T14:16:14.643133Z",
     "shell.execute_reply": "2024-12-04T14:16:14.642247Z",
     "shell.execute_reply.started": "2024-12-04T14:15:24.248118Z"
    },
    "trusted": true
   },
   "outputs": [
    {
     "name": "stdout",
     "output_type": "stream",
     "text": [
      "Found 62992 files belonging to 62 classes.\n",
      "Using 50394 files for training.\n",
      "Found 62992 files belonging to 62 classes.\n",
      "Using 12598 files for validation.\n"
     ]
    }
   ],
   "source": [
    "dir_path = \"/kaggle/input/english-fontnumber-recognition/Font/Font\"\n",
    "\n",
    "validation_frac = 0.2\n",
    "batch_size = 256\n",
    "image_shape = [128, 128]\n",
    "inverse = False\n",
    "\n",
    "ds_train = image_dataset_from_directory(\n",
    "    dir_path,\n",
    "    labels='inferred',\n",
    "    label_mode = 'categorical',\n",
    "    image_size=image_shape,\n",
    "    interpolation='nearest',\n",
    "    batch_size=batch_size,\n",
    "    shuffle=True,\n",
    "    subset=\"training\",\n",
    "    validation_split=validation_frac,\n",
    "    seed=0\n",
    ")\n",
    "\n",
    "ds_valid = image_dataset_from_directory(\n",
    "    dir_path,\n",
    "    labels='inferred',\n",
    "    label_mode = 'categorical',\n",
    "    image_size=image_shape,\n",
    "    interpolation='nearest',\n",
    "    batch_size=batch_size,\n",
    "    shuffle=True,\n",
    "    subset=\"validation\",\n",
    "    validation_split=validation_frac,\n",
    "    seed=0\n",
    ")\n",
    "\n",
    "# Data Pipeline\n",
    "def convert_to_float(image, label):\n",
    "    image = tf.image.convert_image_dtype(image, dtype=tf.float32)\n",
    "    image = tf.image.rgb_to_grayscale(image)\n",
    "    if inverse:\n",
    "        image = 1 - image\n",
    "    return image, label\n",
    "\n",
    "AUTOTUNE = tf.data.experimental.AUTOTUNE\n",
    "ds_train = (\n",
    "    ds_train\n",
    "    .map(convert_to_float)\n",
    "    .cache()\n",
    "    .prefetch(buffer_size=AUTOTUNE)\n",
    ")\n",
    "\n",
    "ds_valid = (\n",
    "    ds_valid\n",
    "    .map(convert_to_float)\n",
    "    .cache()\n",
    "    .prefetch(buffer_size=AUTOTUNE)\n",
    ")"
   ]
  },
  {
   "cell_type": "code",
   "execution_count": 4,
   "metadata": {
    "execution": {
     "iopub.execute_input": "2024-12-04T14:16:14.644682Z",
     "iopub.status.busy": "2024-12-04T14:16:14.644303Z",
     "iopub.status.idle": "2024-12-04T14:16:14.649684Z",
     "shell.execute_reply": "2024-12-04T14:16:14.648679Z",
     "shell.execute_reply.started": "2024-12-04T14:16:14.644651Z"
    },
    "trusted": true
   },
   "outputs": [],
   "source": [
    "# # Initialize lists to hold the data\n",
    "# X_train = []\n",
    "# y_train = []\n",
    "\n",
    "# # Iterate through the dataset\n",
    "# for image_batch, label_batch in ds_train.as_numpy_iterator():\n",
    "#     X_train.append(image_batch)\n",
    "#     y_train.append(label_batch)\n",
    "\n",
    "# # Convert lists to NumPy arrays\n",
    "# X_train = np.concatenate(X_train, axis=0)\n",
    "# y_train = np.concatenate(y_train, axis=0)\n",
    "# y_train = np.argmax(y_train, axis=1)\n",
    "\n",
    "# print(X_train.shape, y_train.shape)\n",
    "\n"
   ]
  },
  {
   "cell_type": "code",
   "execution_count": 5,
   "metadata": {
    "execution": {
     "iopub.execute_input": "2024-12-04T14:16:14.653510Z",
     "iopub.status.busy": "2024-12-04T14:16:14.652706Z",
     "iopub.status.idle": "2024-12-04T14:16:14.662171Z",
     "shell.execute_reply": "2024-12-04T14:16:14.661187Z",
     "shell.execute_reply.started": "2024-12-04T14:16:14.653473Z"
    },
    "trusted": true
   },
   "outputs": [],
   "source": [
    "# # Initialize lists to hold the data\n",
    "# X_val = []\n",
    "# y_val = []\n",
    "\n",
    "# # Iterate through the dataset\n",
    "# for image_batch, label_batch in ds_valid.as_numpy_iterator():\n",
    "#     X_val.append(image_batch)\n",
    "#     y_val.append(label_batch)\n",
    "\n",
    "# # Convert lists to NumPy arrays\n",
    "# X_val = np.concatenate(X_val, axis=0)\n",
    "# y_val = np.concatenate(y_val, axis=0)\n",
    "# y_val = np.argmax(y_val, axis=1)\n",
    "\n",
    "# print(X_val.shape, y_val.shape)"
   ]
  },
  {
   "cell_type": "code",
   "execution_count": 6,
   "metadata": {
    "execution": {
     "iopub.execute_input": "2024-12-04T14:16:14.663666Z",
     "iopub.status.busy": "2024-12-04T14:16:14.663377Z",
     "iopub.status.idle": "2024-12-04T14:16:14.679448Z",
     "shell.execute_reply": "2024-12-04T14:16:14.678673Z",
     "shell.execute_reply.started": "2024-12-04T14:16:14.663639Z"
    },
    "trusted": true
   },
   "outputs": [],
   "source": [
    "def one_hot_encode(y):\n",
    "    return keras.utils.to_categorical(y, num_classes=62)"
   ]
  },
  {
   "cell_type": "code",
   "execution_count": 7,
   "metadata": {
    "execution": {
     "iopub.execute_input": "2024-12-04T14:16:14.680769Z",
     "iopub.status.busy": "2024-12-04T14:16:14.680505Z",
     "iopub.status.idle": "2024-12-04T14:16:14.692285Z",
     "shell.execute_reply": "2024-12-04T14:16:14.691445Z",
     "shell.execute_reply.started": "2024-12-04T14:16:14.680744Z"
    },
    "trusted": true
   },
   "outputs": [],
   "source": [
    "from tensorflow.keras.preprocessing import image\n",
    "\n",
    "def load_and_preprocess_image(img_path, target_size=image_shape, inverse=False, grayscale=False):\n",
    "    \"\"\"\n",
    "    Load an image and make it a numpy array.\n",
    "    \"\"\"\n",
    "    # Load the image\n",
    "    img = image.load_img(img_path, target_size=target_size)\n",
    "    \n",
    "    # Convert to an array\n",
    "    img_array = image.img_to_array(img)\n",
    "\n",
    "    if grayscale:\n",
    "        # Convert RGB to Grayscale\n",
    "        img_array = tf.image.rgb_to_grayscale(img_array)\n",
    "\n",
    "    # normalize to [0, 1]\n",
    "    img_array = img_array / np.max(img_array)\n",
    "\n",
    "    if inverse:\n",
    "        img_array = 1 - img_array\n",
    "    \n",
    "    # Add a batch dimension (because the model expects a batch of images)\n",
    "    img_array = np.expand_dims(img_array, axis=0)\n",
    "    \n",
    "    return img_array"
   ]
  },
  {
   "cell_type": "code",
   "execution_count": 8,
   "metadata": {
    "execution": {
     "iopub.execute_input": "2024-12-04T14:16:14.693532Z",
     "iopub.status.busy": "2024-12-04T14:16:14.693278Z",
     "iopub.status.idle": "2024-12-04T14:16:14.703631Z",
     "shell.execute_reply": "2024-12-04T14:16:14.702809Z",
     "shell.execute_reply.started": "2024-12-04T14:16:14.693508Z"
    },
    "trusted": true
   },
   "outputs": [],
   "source": [
    "def load_and_preprocess_images_from_dir(dir_path, target_size=image_shape, inverse=False, grayscale=False):\n",
    "    X = []\n",
    "    for img in sorted(os.listdir(dir_path)):\n",
    "        img_path = os.path.join(dir_path, img)\n",
    "        if not os.path.isfile(img_path):\n",
    "            continue\n",
    "            \n",
    "        img_array = load_and_preprocess_image(img_path, target_size=target_size, inverse=inverse, grayscale=grayscale)\n",
    "        img_array = np.squeeze(img_array, axis=0)\n",
    "        X.append(img_array)\n",
    "\n",
    "    X = np.array(X)\n",
    "    return X"
   ]
  },
  {
   "cell_type": "code",
   "execution_count": 9,
   "metadata": {
    "execution": {
     "iopub.execute_input": "2024-12-04T14:16:14.705099Z",
     "iopub.status.busy": "2024-12-04T14:16:14.704761Z",
     "iopub.status.idle": "2024-12-04T14:16:14.715477Z",
     "shell.execute_reply": "2024-12-04T14:16:14.714582Z",
     "shell.execute_reply.started": "2024-12-04T14:16:14.705058Z"
    },
    "trusted": true
   },
   "outputs": [],
   "source": [
    "def load_and_preprocess_all_image_classes_from_dir(dir_path, target_size=image_shape, inverse=False, grayscale=False):\n",
    "    X = []\n",
    "    y = []\n",
    "    for img in sorted(os.listdir(dir_path)):\n",
    "        img_path = os.path.join(dir_path, img)\n",
    "        if not os.path.isfile(img_path):\n",
    "            continue\n",
    "\n",
    "        i = int(img[3:6]) - 1 # index starts at 0\n",
    "        \n",
    "        img_array = load_and_preprocess_image(img_path, target_size=target_size, inverse=inverse, grayscale=grayscale)\n",
    "        img_array = np.squeeze(img_array, axis=0)\n",
    "        X.append(img_array)\n",
    "        y.append(i)\n",
    "\n",
    "    X = np.array(X)\n",
    "    y = np.array(y)\n",
    "    return X, y"
   ]
  },
  {
   "cell_type": "code",
   "execution_count": 10,
   "metadata": {
    "execution": {
     "iopub.execute_input": "2024-12-04T14:16:14.716870Z",
     "iopub.status.busy": "2024-12-04T14:16:14.716566Z",
     "iopub.status.idle": "2024-12-04T14:17:12.325146Z",
     "shell.execute_reply": "2024-12-04T14:17:12.324282Z",
     "shell.execute_reply.started": "2024-12-04T14:16:14.716819Z"
    },
    "trusted": true
   },
   "outputs": [],
   "source": [
    "dir2_path = \"/kaggle/input/english-handwritten-characters-dataset/Img\"\n",
    "X2, y2 = load_and_preprocess_all_image_classes_from_dir(dir2_path, target_size=image_shape)\n",
    "y2 = one_hot_encode(y2).astype(np.float32)\n",
    "\n",
    "X2_train, X2_val, y2_train, y2_val = train_test_split(X2, y2)\n",
    "\n",
    "ds2_train = tf.data.Dataset.from_tensor_slices((X2_train, y2_train))\n",
    "ds2_train = (\n",
    "    ds2_train\n",
    "    .shuffle(buffer_size=len(X2_train))  # Shuffle the dataset\n",
    "    .batch(batch_size) \n",
    "    .map(convert_to_float)\n",
    "    .cache()\n",
    "    .prefetch(buffer_size=AUTOTUNE)\n",
    ")\n",
    "\n",
    "ds2_valid = tf.data.Dataset.from_tensor_slices((X2_val, y2_val))\n",
    "ds2_valid = (\n",
    "    ds2_valid\n",
    "    .shuffle(buffer_size=len(X2_val))  # Shuffle the dataset\n",
    "    .batch(batch_size) \n",
    "    .map(convert_to_float)\n",
    "    .cache()\n",
    "    .prefetch(buffer_size=AUTOTUNE)\n",
    ")\n",
    "\n",
    "ds_train = ds_train.concatenate(ds2_train)\n",
    "ds_valid = ds_valid.concatenate(ds2_valid)\n",
    "\n",
    "ds_train = ds_train.shuffle(buffer_size=10000)\n",
    "ds_valid = ds_valid.shuffle(buffer_size=10000)"
   ]
  },
  {
   "cell_type": "code",
   "execution_count": 11,
   "metadata": {
    "execution": {
     "iopub.execute_input": "2024-12-04T14:17:12.327989Z",
     "iopub.status.busy": "2024-12-04T14:17:12.327692Z",
     "iopub.status.idle": "2024-12-04T14:17:12.335156Z",
     "shell.execute_reply": "2024-12-04T14:17:12.334214Z",
     "shell.execute_reply.started": "2024-12-04T14:17:12.327962Z"
    },
    "trusted": true
   },
   "outputs": [
    {
     "name": "stdout",
     "output_type": "stream",
     "text": [
      "(TensorSpec(shape=(None, 128, 128, 1), dtype=tf.float32, name=None), TensorSpec(shape=(None, 62), dtype=tf.float32, name=None))\n",
      "(TensorSpec(shape=(None, 128, 128, 1), dtype=tf.float32, name=None), TensorSpec(shape=(None, 62), dtype=tf.float32, name=None))\n"
     ]
    }
   ],
   "source": [
    "# free memory\n",
    "del X2_train\n",
    "del y2_train\n",
    "del X2_val\n",
    "del y2_val\n",
    "\n",
    "print(ds_valid.element_spec)\n",
    "print(ds2_valid.element_spec)"
   ]
  },
  {
   "cell_type": "code",
   "execution_count": 12,
   "metadata": {
    "execution": {
     "iopub.execute_input": "2024-12-04T14:17:12.336636Z",
     "iopub.status.busy": "2024-12-04T14:17:12.336362Z",
     "iopub.status.idle": "2024-12-04T14:17:12.469489Z",
     "shell.execute_reply": "2024-12-04T14:17:12.468797Z",
     "shell.execute_reply.started": "2024-12-04T14:17:12.336609Z"
    },
    "trusted": true
   },
   "outputs": [],
   "source": [
    "model = keras.Sequential([\n",
    "    layers.InputLayer(shape=image_shape + [1]),\n",
    "    \n",
    "    # Data Augmentation\n",
    "    layers.RandomContrast(factor=0.1),\n",
    "    layers.RandomTranslation(height_factor=0.1, width_factor=0.1),\n",
    "    layers.RandomZoom(height_factor=0.1, width_factor=0.1),\n",
    "\n",
    "    # Block One\n",
    "    layers.BatchNormalization(),\n",
    "    layers.Conv2D(filters=64, kernel_size=3, activation='relu', padding='same', kernel_regularizer='l2'),\n",
    "    layers.MaxPool2D(),\n",
    "\n",
    "    # Block Two\n",
    "    layers.BatchNormalization(),\n",
    "    layers.Conv2D(filters=128, kernel_size=3, activation='relu', padding='same', kernel_regularizer='l2'),\n",
    "    layers.MaxPool2D(),\n",
    "\n",
    "    # Block Three\n",
    "    layers.BatchNormalization(),\n",
    "    layers.Conv2D(filters=256, kernel_size=3, activation='relu', padding='same'),\n",
    "    layers.Conv2D(filters=256, kernel_size=3, activation='relu', padding='same'),\n",
    "    layers.MaxPool2D(),\n",
    "\n",
    "    layers.GlobalAveragePooling2D(),\n",
    "\n",
    "    # Head\n",
    "    layers.BatchNormalization(),\n",
    "    layers.Dropout(0.5),\n",
    "    layers.Dense(128, activation='relu', kernel_regularizer='l2'),\n",
    "    layers.Dense(62, activation='softmax'),\n",
    "])"
   ]
  },
  {
   "cell_type": "code",
   "execution_count": 13,
   "metadata": {
    "execution": {
     "iopub.execute_input": "2024-12-04T14:17:12.470730Z",
     "iopub.status.busy": "2024-12-04T14:17:12.470465Z",
     "iopub.status.idle": "2024-12-04T15:55:52.383022Z",
     "shell.execute_reply": "2024-12-04T15:55:52.382296Z",
     "shell.execute_reply.started": "2024-12-04T14:17:12.470703Z"
    },
    "trusted": true
   },
   "outputs": [
    {
     "name": "stdout",
     "output_type": "stream",
     "text": [
      "Epoch 1/250\n",
      "\u001b[1m207/207\u001b[0m \u001b[32m━━━━━━━━━━━━━━━━━━━━\u001b[0m\u001b[37m\u001b[0m \u001b[1m156s\u001b[0m 388ms/step - accuracy: 0.2351 - loss: 4.8552 - val_accuracy: 0.0157 - val_loss: 7.0005\n",
      "Epoch 2/250\n",
      "\u001b[1m207/207\u001b[0m \u001b[32m━━━━━━━━━━━━━━━━━━━━\u001b[0m\u001b[37m\u001b[0m \u001b[1m53s\u001b[0m 258ms/step - accuracy: 0.7031 - loss: 1.5953 - val_accuracy: 0.0178 - val_loss: 8.8257\n",
      "Epoch 3/250\n",
      "\u001b[1m207/207\u001b[0m \u001b[32m━━━━━━━━━━━━━━━━━━━━\u001b[0m\u001b[37m\u001b[0m \u001b[1m53s\u001b[0m 258ms/step - accuracy: 0.7767 - loss: 1.0462 - val_accuracy: 0.3136 - val_loss: 2.9323\n",
      "Epoch 4/250\n",
      "\u001b[1m207/207\u001b[0m \u001b[32m━━━━━━━━━━━━━━━━━━━━\u001b[0m\u001b[37m\u001b[0m \u001b[1m53s\u001b[0m 258ms/step - accuracy: 0.7899 - loss: 0.8947 - val_accuracy: 0.7508 - val_loss: 1.0114\n",
      "Epoch 5/250\n",
      "\u001b[1m207/207\u001b[0m \u001b[32m━━━━━━━━━━━━━━━━━━━━\u001b[0m\u001b[37m\u001b[0m \u001b[1m53s\u001b[0m 258ms/step - accuracy: 0.8035 - loss: 0.8123 - val_accuracy: 0.7732 - val_loss: 0.9225\n",
      "Epoch 6/250\n",
      "\u001b[1m207/207\u001b[0m \u001b[32m━━━━━━━━━━━━━━━━━━━━\u001b[0m\u001b[37m\u001b[0m \u001b[1m53s\u001b[0m 258ms/step - accuracy: 0.8107 - loss: 0.7542 - val_accuracy: 0.5286 - val_loss: 1.7783\n",
      "Epoch 7/250\n",
      "\u001b[1m207/207\u001b[0m \u001b[32m━━━━━━━━━━━━━━━━━━━━\u001b[0m\u001b[37m\u001b[0m \u001b[1m53s\u001b[0m 258ms/step - accuracy: 0.8156 - loss: 0.7185 - val_accuracy: 0.7509 - val_loss: 0.9456\n",
      "Epoch 8/250\n",
      "\u001b[1m207/207\u001b[0m \u001b[32m━━━━━━━━━━━━━━━━━━━━\u001b[0m\u001b[37m\u001b[0m \u001b[1m53s\u001b[0m 258ms/step - accuracy: 0.8192 - loss: 0.6799 - val_accuracy: 0.7772 - val_loss: 0.8119\n",
      "Epoch 9/250\n",
      "\u001b[1m207/207\u001b[0m \u001b[32m━━━━━━━━━━━━━━━━━━━━\u001b[0m\u001b[37m\u001b[0m \u001b[1m53s\u001b[0m 258ms/step - accuracy: 0.8304 - loss: 0.6503 - val_accuracy: 0.8107 - val_loss: 0.6978\n",
      "Epoch 10/250\n",
      "\u001b[1m207/207\u001b[0m \u001b[32m━━━━━━━━━━━━━━━━━━━━\u001b[0m\u001b[37m\u001b[0m \u001b[1m53s\u001b[0m 258ms/step - accuracy: 0.8292 - loss: 0.6288 - val_accuracy: 0.6667 - val_loss: 1.1603\n",
      "Epoch 11/250\n",
      "\u001b[1m207/207\u001b[0m \u001b[32m━━━━━━━━━━━━━━━━━━━━\u001b[0m\u001b[37m\u001b[0m \u001b[1m53s\u001b[0m 258ms/step - accuracy: 0.8279 - loss: 0.6200 - val_accuracy: 0.8251 - val_loss: 0.6501\n",
      "Epoch 12/250\n",
      "\u001b[1m207/207\u001b[0m \u001b[32m━━━━━━━━━━━━━━━━━━━━\u001b[0m\u001b[37m\u001b[0m \u001b[1m53s\u001b[0m 258ms/step - accuracy: 0.8331 - loss: 0.5938 - val_accuracy: 0.8047 - val_loss: 0.7144\n",
      "Epoch 13/250\n",
      "\u001b[1m207/207\u001b[0m \u001b[32m━━━━━━━━━━━━━━━━━━━━\u001b[0m\u001b[37m\u001b[0m \u001b[1m53s\u001b[0m 258ms/step - accuracy: 0.8365 - loss: 0.5812 - val_accuracy: 0.8274 - val_loss: 0.6312\n",
      "Epoch 14/250\n",
      "\u001b[1m207/207\u001b[0m \u001b[32m━━━━━━━━━━━━━━━━━━━━\u001b[0m\u001b[37m\u001b[0m \u001b[1m53s\u001b[0m 258ms/step - accuracy: 0.8412 - loss: 0.5535 - val_accuracy: 0.8228 - val_loss: 0.6440\n",
      "Epoch 15/250\n",
      "\u001b[1m207/207\u001b[0m \u001b[32m━━━━━━━━━━━━━━━━━━━━\u001b[0m\u001b[37m\u001b[0m \u001b[1m53s\u001b[0m 258ms/step - accuracy: 0.8417 - loss: 0.5558 - val_accuracy: 0.7421 - val_loss: 0.8736\n",
      "Epoch 16/250\n",
      "\u001b[1m207/207\u001b[0m \u001b[32m━━━━━━━━━━━━━━━━━━━━\u001b[0m\u001b[37m\u001b[0m \u001b[1m53s\u001b[0m 258ms/step - accuracy: 0.8420 - loss: 0.5474 - val_accuracy: 0.8180 - val_loss: 0.6443\n",
      "Epoch 17/250\n",
      "\u001b[1m207/207\u001b[0m \u001b[32m━━━━━━━━━━━━━━━━━━━━\u001b[0m\u001b[37m\u001b[0m \u001b[1m53s\u001b[0m 258ms/step - accuracy: 0.8466 - loss: 0.5343 - val_accuracy: 0.8138 - val_loss: 0.6250\n",
      "Epoch 18/250\n",
      "\u001b[1m207/207\u001b[0m \u001b[32m━━━━━━━━━━━━━━━━━━━━\u001b[0m\u001b[37m\u001b[0m \u001b[1m53s\u001b[0m 258ms/step - accuracy: 0.8466 - loss: 0.5271 - val_accuracy: 0.8206 - val_loss: 0.6340\n",
      "Epoch 19/250\n",
      "\u001b[1m207/207\u001b[0m \u001b[32m━━━━━━━━━━━━━━━━━━━━\u001b[0m\u001b[37m\u001b[0m \u001b[1m53s\u001b[0m 258ms/step - accuracy: 0.8435 - loss: 0.5283 - val_accuracy: 0.8119 - val_loss: 0.6374\n",
      "Epoch 20/250\n",
      "\u001b[1m207/207\u001b[0m \u001b[32m━━━━━━━━━━━━━━━━━━━━\u001b[0m\u001b[37m\u001b[0m \u001b[1m53s\u001b[0m 258ms/step - accuracy: 0.8539 - loss: 0.5056 - val_accuracy: 0.8167 - val_loss: 0.6428\n",
      "Epoch 21/250\n",
      "\u001b[1m207/207\u001b[0m \u001b[32m━━━━━━━━━━━━━━━━━━━━\u001b[0m\u001b[37m\u001b[0m \u001b[1m53s\u001b[0m 258ms/step - accuracy: 0.8523 - loss: 0.5027 - val_accuracy: 0.8283 - val_loss: 0.5726\n",
      "Epoch 22/250\n",
      "\u001b[1m207/207\u001b[0m \u001b[32m━━━━━━━━━━━━━━━━━━━━\u001b[0m\u001b[37m\u001b[0m \u001b[1m53s\u001b[0m 258ms/step - accuracy: 0.8571 - loss: 0.4866 - val_accuracy: 0.8338 - val_loss: 0.5509\n",
      "Epoch 23/250\n",
      "\u001b[1m207/207\u001b[0m \u001b[32m━━━━━━━━━━━━━━━━━━━━\u001b[0m\u001b[37m\u001b[0m \u001b[1m53s\u001b[0m 258ms/step - accuracy: 0.8584 - loss: 0.4863 - val_accuracy: 0.8312 - val_loss: 0.5856\n",
      "Epoch 24/250\n",
      "\u001b[1m207/207\u001b[0m \u001b[32m━━━━━━━━━━━━━━━━━━━━\u001b[0m\u001b[37m\u001b[0m \u001b[1m53s\u001b[0m 258ms/step - accuracy: 0.8554 - loss: 0.4808 - val_accuracy: 0.8472 - val_loss: 0.5302\n",
      "Epoch 25/250\n",
      "\u001b[1m207/207\u001b[0m \u001b[32m━━━━━━━━━━━━━━━━━━━━\u001b[0m\u001b[37m\u001b[0m \u001b[1m53s\u001b[0m 258ms/step - accuracy: 0.8573 - loss: 0.4801 - val_accuracy: 0.8477 - val_loss: 0.5215\n",
      "Epoch 26/250\n",
      "\u001b[1m207/207\u001b[0m \u001b[32m━━━━━━━━━━━━━━━━━━━━\u001b[0m\u001b[37m\u001b[0m \u001b[1m53s\u001b[0m 258ms/step - accuracy: 0.8610 - loss: 0.4609 - val_accuracy: 0.7256 - val_loss: 0.9542\n",
      "Epoch 27/250\n",
      "\u001b[1m207/207\u001b[0m \u001b[32m━━━━━━━━━━━━━━━━━━━━\u001b[0m\u001b[37m\u001b[0m \u001b[1m53s\u001b[0m 258ms/step - accuracy: 0.8582 - loss: 0.4664 - val_accuracy: 0.8183 - val_loss: 0.6557\n",
      "Epoch 28/250\n",
      "\u001b[1m207/207\u001b[0m \u001b[32m━━━━━━━━━━━━━━━━━━━━\u001b[0m\u001b[37m\u001b[0m \u001b[1m53s\u001b[0m 258ms/step - accuracy: 0.8594 - loss: 0.4667 - val_accuracy: 0.8161 - val_loss: 0.6319\n",
      "Epoch 29/250\n",
      "\u001b[1m207/207\u001b[0m \u001b[32m━━━━━━━━━━━━━━━━━━━━\u001b[0m\u001b[37m\u001b[0m \u001b[1m53s\u001b[0m 258ms/step - accuracy: 0.8618 - loss: 0.4584 - val_accuracy: 0.8327 - val_loss: 0.5734\n",
      "Epoch 30/250\n",
      "\u001b[1m207/207\u001b[0m \u001b[32m━━━━━━━━━━━━━━━━━━━━\u001b[0m\u001b[37m\u001b[0m \u001b[1m53s\u001b[0m 258ms/step - accuracy: 0.8628 - loss: 0.4560 - val_accuracy: 0.8025 - val_loss: 0.7081\n",
      "Epoch 31/250\n",
      "\u001b[1m207/207\u001b[0m \u001b[32m━━━━━━━━━━━━━━━━━━━━\u001b[0m\u001b[37m\u001b[0m \u001b[1m53s\u001b[0m 258ms/step - accuracy: 0.8640 - loss: 0.4400 - val_accuracy: 0.8471 - val_loss: 0.5267\n",
      "Epoch 32/250\n",
      "\u001b[1m207/207\u001b[0m \u001b[32m━━━━━━━━━━━━━━━━━━━━\u001b[0m\u001b[37m\u001b[0m \u001b[1m53s\u001b[0m 258ms/step - accuracy: 0.8654 - loss: 0.4441 - val_accuracy: 0.8471 - val_loss: 0.5235\n",
      "Epoch 33/250\n",
      "\u001b[1m207/207\u001b[0m \u001b[32m━━━━━━━━━━━━━━━━━━━━\u001b[0m\u001b[37m\u001b[0m \u001b[1m53s\u001b[0m 258ms/step - accuracy: 0.8665 - loss: 0.4374 - val_accuracy: 0.8574 - val_loss: 0.5082\n",
      "Epoch 34/250\n",
      "\u001b[1m207/207\u001b[0m \u001b[32m━━━━━━━━━━━━━━━━━━━━\u001b[0m\u001b[37m\u001b[0m \u001b[1m53s\u001b[0m 258ms/step - accuracy: 0.8693 - loss: 0.4347 - val_accuracy: 0.8429 - val_loss: 0.5437\n",
      "Epoch 35/250\n",
      "\u001b[1m207/207\u001b[0m \u001b[32m━━━━━━━━━━━━━━━━━━━━\u001b[0m\u001b[37m\u001b[0m \u001b[1m53s\u001b[0m 258ms/step - accuracy: 0.8689 - loss: 0.4294 - val_accuracy: 0.8352 - val_loss: 0.5411\n",
      "Epoch 36/250\n",
      "\u001b[1m207/207\u001b[0m \u001b[32m━━━━━━━━━━━━━━━━━━━━\u001b[0m\u001b[37m\u001b[0m \u001b[1m53s\u001b[0m 258ms/step - accuracy: 0.8658 - loss: 0.4352 - val_accuracy: 0.8437 - val_loss: 0.5500\n",
      "Epoch 37/250\n",
      "\u001b[1m207/207\u001b[0m \u001b[32m━━━━━━━━━━━━━━━━━━━━\u001b[0m\u001b[37m\u001b[0m \u001b[1m53s\u001b[0m 258ms/step - accuracy: 0.8706 - loss: 0.4276 - val_accuracy: 0.8624 - val_loss: 0.4694\n",
      "Epoch 38/250\n",
      "\u001b[1m207/207\u001b[0m \u001b[32m━━━━━━━━━━━━━━━━━━━━\u001b[0m\u001b[37m\u001b[0m \u001b[1m53s\u001b[0m 258ms/step - accuracy: 0.8670 - loss: 0.4242 - val_accuracy: 0.8426 - val_loss: 0.5645\n",
      "Epoch 39/250\n",
      "\u001b[1m207/207\u001b[0m \u001b[32m━━━━━━━━━━━━━━━━━━━━\u001b[0m\u001b[37m\u001b[0m \u001b[1m53s\u001b[0m 258ms/step - accuracy: 0.8700 - loss: 0.4200 - val_accuracy: 0.8141 - val_loss: 0.6236\n",
      "Epoch 40/250\n",
      "\u001b[1m207/207\u001b[0m \u001b[32m━━━━━━━━━━━━━━━━━━━━\u001b[0m\u001b[37m\u001b[0m \u001b[1m53s\u001b[0m 258ms/step - accuracy: 0.8684 - loss: 0.4186 - val_accuracy: 0.8418 - val_loss: 0.5259\n",
      "Epoch 41/250\n",
      "\u001b[1m207/207\u001b[0m \u001b[32m━━━━━━━━━━━━━━━━━━━━\u001b[0m\u001b[37m\u001b[0m \u001b[1m53s\u001b[0m 258ms/step - accuracy: 0.8697 - loss: 0.4196 - val_accuracy: 0.8497 - val_loss: 0.4932\n",
      "Epoch 42/250\n",
      "\u001b[1m207/207\u001b[0m \u001b[32m━━━━━━━━━━━━━━━━━━━━\u001b[0m\u001b[37m\u001b[0m \u001b[1m53s\u001b[0m 258ms/step - accuracy: 0.8747 - loss: 0.4073 - val_accuracy: 0.8440 - val_loss: 0.5140\n",
      "Epoch 43/250\n",
      "\u001b[1m207/207\u001b[0m \u001b[32m━━━━━━━━━━━━━━━━━━━━\u001b[0m\u001b[37m\u001b[0m \u001b[1m53s\u001b[0m 258ms/step - accuracy: 0.8720 - loss: 0.4168 - val_accuracy: 0.8593 - val_loss: 0.4877\n",
      "Epoch 44/250\n",
      "\u001b[1m207/207\u001b[0m \u001b[32m━━━━━━━━━━━━━━━━━━━━\u001b[0m\u001b[37m\u001b[0m \u001b[1m53s\u001b[0m 258ms/step - accuracy: 0.8746 - loss: 0.4092 - val_accuracy: 0.8468 - val_loss: 0.5252\n",
      "Epoch 45/250\n",
      "\u001b[1m207/207\u001b[0m \u001b[32m━━━━━━━━━━━━━━━━━━━━\u001b[0m\u001b[37m\u001b[0m \u001b[1m53s\u001b[0m 258ms/step - accuracy: 0.8761 - loss: 0.4049 - val_accuracy: 0.8397 - val_loss: 0.5073\n",
      "Epoch 46/250\n",
      "\u001b[1m207/207\u001b[0m \u001b[32m━━━━━━━━━━━━━━━━━━━━\u001b[0m\u001b[37m\u001b[0m \u001b[1m53s\u001b[0m 258ms/step - accuracy: 0.8788 - loss: 0.3966 - val_accuracy: 0.8650 - val_loss: 0.4573\n",
      "Epoch 47/250\n",
      "\u001b[1m207/207\u001b[0m \u001b[32m━━━━━━━━━━━━━━━━━━━━\u001b[0m\u001b[37m\u001b[0m \u001b[1m53s\u001b[0m 258ms/step - accuracy: 0.8776 - loss: 0.4005 - val_accuracy: 0.7507 - val_loss: 0.8688\n",
      "Epoch 48/250\n",
      "\u001b[1m207/207\u001b[0m \u001b[32m━━━━━━━━━━━━━━━━━━━━\u001b[0m\u001b[37m\u001b[0m \u001b[1m53s\u001b[0m 258ms/step - accuracy: 0.8772 - loss: 0.4000 - val_accuracy: 0.8485 - val_loss: 0.5276\n",
      "Epoch 49/250\n",
      "\u001b[1m207/207\u001b[0m \u001b[32m━━━━━━━━━━━━━━━━━━━━\u001b[0m\u001b[37m\u001b[0m \u001b[1m53s\u001b[0m 258ms/step - accuracy: 0.8783 - loss: 0.3966 - val_accuracy: 0.8652 - val_loss: 0.4693\n",
      "Epoch 50/250\n",
      "\u001b[1m207/207\u001b[0m \u001b[32m━━━━━━━━━━━━━━━━━━━━\u001b[0m\u001b[37m\u001b[0m \u001b[1m53s\u001b[0m 258ms/step - accuracy: 0.8783 - loss: 0.3910 - val_accuracy: 0.8457 - val_loss: 0.5128\n",
      "Epoch 51/250\n",
      "\u001b[1m207/207\u001b[0m \u001b[32m━━━━━━━━━━━━━━━━━━━━\u001b[0m\u001b[37m\u001b[0m \u001b[1m53s\u001b[0m 258ms/step - accuracy: 0.8722 - loss: 0.4043 - val_accuracy: 0.8543 - val_loss: 0.4907\n",
      "Epoch 52/250\n",
      "\u001b[1m207/207\u001b[0m \u001b[32m━━━━━━━━━━━━━━━━━━━━\u001b[0m\u001b[37m\u001b[0m \u001b[1m53s\u001b[0m 258ms/step - accuracy: 0.8783 - loss: 0.3950 - val_accuracy: 0.8683 - val_loss: 0.4457\n",
      "Epoch 53/250\n",
      "\u001b[1m207/207\u001b[0m \u001b[32m━━━━━━━━━━━━━━━━━━━━\u001b[0m\u001b[37m\u001b[0m \u001b[1m53s\u001b[0m 258ms/step - accuracy: 0.8817 - loss: 0.3844 - val_accuracy: 0.8665 - val_loss: 0.4330\n",
      "Epoch 54/250\n",
      "\u001b[1m207/207\u001b[0m \u001b[32m━━━━━━━━━━━━━━━━━━━━\u001b[0m\u001b[37m\u001b[0m \u001b[1m53s\u001b[0m 258ms/step - accuracy: 0.8780 - loss: 0.3925 - val_accuracy: 0.8520 - val_loss: 0.5253\n",
      "Epoch 55/250\n",
      "\u001b[1m207/207\u001b[0m \u001b[32m━━━━━━━━━━━━━━━━━━━━\u001b[0m\u001b[37m\u001b[0m \u001b[1m53s\u001b[0m 258ms/step - accuracy: 0.8765 - loss: 0.3941 - val_accuracy: 0.8602 - val_loss: 0.4551\n",
      "Epoch 56/250\n",
      "\u001b[1m207/207\u001b[0m \u001b[32m━━━━━━━━━━━━━━━━━━━━\u001b[0m\u001b[37m\u001b[0m \u001b[1m53s\u001b[0m 258ms/step - accuracy: 0.8773 - loss: 0.3888 - val_accuracy: 0.8198 - val_loss: 0.5685\n",
      "Epoch 57/250\n",
      "\u001b[1m207/207\u001b[0m \u001b[32m━━━━━━━━━━━━━━━━━━━━\u001b[0m\u001b[37m\u001b[0m \u001b[1m53s\u001b[0m 258ms/step - accuracy: 0.8799 - loss: 0.3811 - val_accuracy: 0.8450 - val_loss: 0.5266\n",
      "Epoch 58/250\n",
      "\u001b[1m207/207\u001b[0m \u001b[32m━━━━━━━━━━━━━━━━━━━━\u001b[0m\u001b[37m\u001b[0m \u001b[1m53s\u001b[0m 258ms/step - accuracy: 0.8803 - loss: 0.3802 - val_accuracy: 0.8648 - val_loss: 0.4295\n",
      "Epoch 59/250\n",
      "\u001b[1m207/207\u001b[0m \u001b[32m━━━━━━━━━━━━━━━━━━━━\u001b[0m\u001b[37m\u001b[0m \u001b[1m53s\u001b[0m 258ms/step - accuracy: 0.8838 - loss: 0.3777 - val_accuracy: 0.8697 - val_loss: 0.4487\n",
      "Epoch 60/250\n",
      "\u001b[1m207/207\u001b[0m \u001b[32m━━━━━━━━━━━━━━━━━━━━\u001b[0m\u001b[37m\u001b[0m \u001b[1m53s\u001b[0m 258ms/step - accuracy: 0.8827 - loss: 0.3792 - val_accuracy: 0.8574 - val_loss: 0.4969\n",
      "Epoch 61/250\n",
      "\u001b[1m207/207\u001b[0m \u001b[32m━━━━━━━━━━━━━━━━━━━━\u001b[0m\u001b[37m\u001b[0m \u001b[1m53s\u001b[0m 258ms/step - accuracy: 0.8803 - loss: 0.3810 - val_accuracy: 0.8569 - val_loss: 0.4782\n",
      "Epoch 62/250\n",
      "\u001b[1m207/207\u001b[0m \u001b[32m━━━━━━━━━━━━━━━━━━━━\u001b[0m\u001b[37m\u001b[0m \u001b[1m53s\u001b[0m 258ms/step - accuracy: 0.8808 - loss: 0.3797 - val_accuracy: 0.8705 - val_loss: 0.4596\n",
      "Epoch 63/250\n",
      "\u001b[1m207/207\u001b[0m \u001b[32m━━━━━━━━━━━━━━━━━━━━\u001b[0m\u001b[37m\u001b[0m \u001b[1m53s\u001b[0m 258ms/step - accuracy: 0.8814 - loss: 0.3823 - val_accuracy: 0.8650 - val_loss: 0.4578\n",
      "Epoch 64/250\n",
      "\u001b[1m207/207\u001b[0m \u001b[32m━━━━━━━━━━━━━━━━━━━━\u001b[0m\u001b[37m\u001b[0m \u001b[1m53s\u001b[0m 258ms/step - accuracy: 0.8862 - loss: 0.3629 - val_accuracy: 0.8734 - val_loss: 0.4311\n",
      "Epoch 65/250\n",
      "\u001b[1m207/207\u001b[0m \u001b[32m━━━━━━━━━━━━━━━━━━━━\u001b[0m\u001b[37m\u001b[0m \u001b[1m53s\u001b[0m 258ms/step - accuracy: 0.8830 - loss: 0.3771 - val_accuracy: 0.8683 - val_loss: 0.4413\n",
      "Epoch 66/250\n",
      "\u001b[1m207/207\u001b[0m \u001b[32m━━━━━━━━━━━━━━━━━━━━\u001b[0m\u001b[37m\u001b[0m \u001b[1m53s\u001b[0m 258ms/step - accuracy: 0.8833 - loss: 0.3707 - val_accuracy: 0.8604 - val_loss: 0.4879\n",
      "Epoch 67/250\n",
      "\u001b[1m207/207\u001b[0m \u001b[32m━━━━━━━━━━━━━━━━━━━━\u001b[0m\u001b[37m\u001b[0m \u001b[1m53s\u001b[0m 258ms/step - accuracy: 0.8861 - loss: 0.3646 - val_accuracy: 0.8462 - val_loss: 0.5034\n",
      "Epoch 68/250\n",
      "\u001b[1m207/207\u001b[0m \u001b[32m━━━━━━━━━━━━━━━━━━━━\u001b[0m\u001b[37m\u001b[0m \u001b[1m53s\u001b[0m 258ms/step - accuracy: 0.8873 - loss: 0.3623 - val_accuracy: 0.8454 - val_loss: 0.5643\n",
      "Epoch 69/250\n",
      "\u001b[1m207/207\u001b[0m \u001b[32m━━━━━━━━━━━━━━━━━━━━\u001b[0m\u001b[37m\u001b[0m \u001b[1m53s\u001b[0m 258ms/step - accuracy: 0.8842 - loss: 0.3721 - val_accuracy: 0.8723 - val_loss: 0.4428\n",
      "Epoch 70/250\n",
      "\u001b[1m207/207\u001b[0m \u001b[32m━━━━━━━━━━━━━━━━━━━━\u001b[0m\u001b[37m\u001b[0m \u001b[1m53s\u001b[0m 258ms/step - accuracy: 0.8848 - loss: 0.3645 - val_accuracy: 0.8680 - val_loss: 0.4742\n",
      "Epoch 71/250\n",
      "\u001b[1m207/207\u001b[0m \u001b[32m━━━━━━━━━━━━━━━━━━━━\u001b[0m\u001b[37m\u001b[0m \u001b[1m53s\u001b[0m 258ms/step - accuracy: 0.8865 - loss: 0.3659 - val_accuracy: 0.8606 - val_loss: 0.4723\n",
      "Epoch 72/250\n",
      "\u001b[1m207/207\u001b[0m \u001b[32m━━━━━━━━━━━━━━━━━━━━\u001b[0m\u001b[37m\u001b[0m \u001b[1m53s\u001b[0m 258ms/step - accuracy: 0.8876 - loss: 0.3583 - val_accuracy: 0.8659 - val_loss: 0.4596\n",
      "Epoch 73/250\n",
      "\u001b[1m207/207\u001b[0m \u001b[32m━━━━━━━━━━━━━━━━━━━━\u001b[0m\u001b[37m\u001b[0m \u001b[1m53s\u001b[0m 258ms/step - accuracy: 0.8863 - loss: 0.3602 - val_accuracy: 0.8678 - val_loss: 0.4566\n",
      "Epoch 74/250\n",
      "\u001b[1m207/207\u001b[0m \u001b[32m━━━━━━━━━━━━━━━━━━━━\u001b[0m\u001b[37m\u001b[0m \u001b[1m53s\u001b[0m 258ms/step - accuracy: 0.8903 - loss: 0.3542 - val_accuracy: 0.8595 - val_loss: 0.4803\n",
      "Epoch 75/250\n",
      "\u001b[1m207/207\u001b[0m \u001b[32m━━━━━━━━━━━━━━━━━━━━\u001b[0m\u001b[37m\u001b[0m \u001b[1m53s\u001b[0m 258ms/step - accuracy: 0.8847 - loss: 0.3640 - val_accuracy: 0.8699 - val_loss: 0.4338\n",
      "Epoch 76/250\n",
      "\u001b[1m207/207\u001b[0m \u001b[32m━━━━━━━━━━━━━━━━━━━━\u001b[0m\u001b[37m\u001b[0m \u001b[1m53s\u001b[0m 258ms/step - accuracy: 0.8859 - loss: 0.3606 - val_accuracy: 0.8760 - val_loss: 0.4215\n",
      "Epoch 77/250\n",
      "\u001b[1m207/207\u001b[0m \u001b[32m━━━━━━━━━━━━━━━━━━━━\u001b[0m\u001b[37m\u001b[0m \u001b[1m53s\u001b[0m 258ms/step - accuracy: 0.8878 - loss: 0.3567 - val_accuracy: 0.8599 - val_loss: 0.4797\n",
      "Epoch 78/250\n",
      "\u001b[1m207/207\u001b[0m \u001b[32m━━━━━━━━━━━━━━━━━━━━\u001b[0m\u001b[37m\u001b[0m \u001b[1m53s\u001b[0m 258ms/step - accuracy: 0.8886 - loss: 0.3623 - val_accuracy: 0.8664 - val_loss: 0.4568\n",
      "Epoch 79/250\n",
      "\u001b[1m207/207\u001b[0m \u001b[32m━━━━━━━━━━━━━━━━━━━━\u001b[0m\u001b[37m\u001b[0m \u001b[1m53s\u001b[0m 258ms/step - accuracy: 0.8897 - loss: 0.3570 - val_accuracy: 0.8686 - val_loss: 0.4731\n",
      "Epoch 80/250\n",
      "\u001b[1m207/207\u001b[0m \u001b[32m━━━━━━━━━━━━━━━━━━━━\u001b[0m\u001b[37m\u001b[0m \u001b[1m53s\u001b[0m 258ms/step - accuracy: 0.8881 - loss: 0.3607 - val_accuracy: 0.8553 - val_loss: 0.4814\n",
      "Epoch 81/250\n",
      "\u001b[1m207/207\u001b[0m \u001b[32m━━━━━━━━━━━━━━━━━━━━\u001b[0m\u001b[37m\u001b[0m \u001b[1m53s\u001b[0m 258ms/step - accuracy: 0.8886 - loss: 0.3544 - val_accuracy: 0.8648 - val_loss: 0.4695\n",
      "Epoch 82/250\n",
      "\u001b[1m207/207\u001b[0m \u001b[32m━━━━━━━━━━━━━━━━━━━━\u001b[0m\u001b[37m\u001b[0m \u001b[1m53s\u001b[0m 258ms/step - accuracy: 0.8868 - loss: 0.3505 - val_accuracy: 0.8497 - val_loss: 0.4972\n",
      "Epoch 83/250\n",
      "\u001b[1m207/207\u001b[0m \u001b[32m━━━━━━━━━━━━━━━━━━━━\u001b[0m\u001b[37m\u001b[0m \u001b[1m53s\u001b[0m 258ms/step - accuracy: 0.8862 - loss: 0.3587 - val_accuracy: 0.8634 - val_loss: 0.4850\n",
      "Epoch 84/250\n",
      "\u001b[1m207/207\u001b[0m \u001b[32m━━━━━━━━━━━━━━━━━━━━\u001b[0m\u001b[37m\u001b[0m \u001b[1m53s\u001b[0m 258ms/step - accuracy: 0.8908 - loss: 0.3433 - val_accuracy: 0.8694 - val_loss: 0.4391\n",
      "Epoch 85/250\n",
      "\u001b[1m207/207\u001b[0m \u001b[32m━━━━━━━━━━━━━━━━━━━━\u001b[0m\u001b[37m\u001b[0m \u001b[1m53s\u001b[0m 258ms/step - accuracy: 0.8898 - loss: 0.3482 - val_accuracy: 0.8718 - val_loss: 0.4304\n",
      "Epoch 86/250\n",
      "\u001b[1m207/207\u001b[0m \u001b[32m━━━━━━━━━━━━━━━━━━━━\u001b[0m\u001b[37m\u001b[0m \u001b[1m53s\u001b[0m 258ms/step - accuracy: 0.8923 - loss: 0.3447 - val_accuracy: 0.8612 - val_loss: 0.4644\n",
      "Epoch 87/250\n",
      "\u001b[1m207/207\u001b[0m \u001b[32m━━━━━━━━━━━━━━━━━━━━\u001b[0m\u001b[37m\u001b[0m \u001b[1m53s\u001b[0m 258ms/step - accuracy: 0.8886 - loss: 0.3541 - val_accuracy: 0.8671 - val_loss: 0.4867\n",
      "Epoch 88/250\n",
      "\u001b[1m207/207\u001b[0m \u001b[32m━━━━━━━━━━━━━━━━━━━━\u001b[0m\u001b[37m\u001b[0m \u001b[1m53s\u001b[0m 258ms/step - accuracy: 0.8916 - loss: 0.3453 - val_accuracy: 0.8670 - val_loss: 0.4733\n",
      "Epoch 89/250\n",
      "\u001b[1m207/207\u001b[0m \u001b[32m━━━━━━━━━━━━━━━━━━━━\u001b[0m\u001b[37m\u001b[0m \u001b[1m53s\u001b[0m 258ms/step - accuracy: 0.8918 - loss: 0.3441 - val_accuracy: 0.8798 - val_loss: 0.3996\n",
      "Epoch 90/250\n",
      "\u001b[1m207/207\u001b[0m \u001b[32m━━━━━━━━━━━━━━━━━━━━\u001b[0m\u001b[37m\u001b[0m \u001b[1m53s\u001b[0m 258ms/step - accuracy: 0.8923 - loss: 0.3415 - val_accuracy: 0.8669 - val_loss: 0.4634\n",
      "Epoch 91/250\n",
      "\u001b[1m207/207\u001b[0m \u001b[32m━━━━━━━━━━━━━━━━━━━━\u001b[0m\u001b[37m\u001b[0m \u001b[1m53s\u001b[0m 258ms/step - accuracy: 0.8861 - loss: 0.3612 - val_accuracy: 0.8694 - val_loss: 0.4641\n",
      "Epoch 92/250\n",
      "\u001b[1m207/207\u001b[0m \u001b[32m━━━━━━━━━━━━━━━━━━━━\u001b[0m\u001b[37m\u001b[0m \u001b[1m53s\u001b[0m 258ms/step - accuracy: 0.8939 - loss: 0.3416 - val_accuracy: 0.8762 - val_loss: 0.4245\n",
      "Epoch 93/250\n",
      "\u001b[1m207/207\u001b[0m \u001b[32m━━━━━━━━━━━━━━━━━━━━\u001b[0m\u001b[37m\u001b[0m \u001b[1m53s\u001b[0m 258ms/step - accuracy: 0.8916 - loss: 0.3432 - val_accuracy: 0.8751 - val_loss: 0.4216\n",
      "Epoch 94/250\n",
      "\u001b[1m207/207\u001b[0m \u001b[32m━━━━━━━━━━━━━━━━━━━━\u001b[0m\u001b[37m\u001b[0m \u001b[1m53s\u001b[0m 258ms/step - accuracy: 0.8935 - loss: 0.3426 - val_accuracy: 0.8671 - val_loss: 0.4461\n",
      "Epoch 95/250\n",
      "\u001b[1m207/207\u001b[0m \u001b[32m━━━━━━━━━━━━━━━━━━━━\u001b[0m\u001b[37m\u001b[0m \u001b[1m53s\u001b[0m 258ms/step - accuracy: 0.8892 - loss: 0.3527 - val_accuracy: 0.8723 - val_loss: 0.4364\n",
      "Epoch 96/250\n",
      "\u001b[1m207/207\u001b[0m \u001b[32m━━━━━━━━━━━━━━━━━━━━\u001b[0m\u001b[37m\u001b[0m \u001b[1m53s\u001b[0m 258ms/step - accuracy: 0.8914 - loss: 0.3408 - val_accuracy: 0.8710 - val_loss: 0.4580\n",
      "Epoch 97/250\n",
      "\u001b[1m207/207\u001b[0m \u001b[32m━━━━━━━━━━━━━━━━━━━━\u001b[0m\u001b[37m\u001b[0m \u001b[1m53s\u001b[0m 258ms/step - accuracy: 0.8917 - loss: 0.3434 - val_accuracy: 0.8502 - val_loss: 0.4987\n",
      "Epoch 98/250\n",
      "\u001b[1m207/207\u001b[0m \u001b[32m━━━━━━━━━━━━━━━━━━━━\u001b[0m\u001b[37m\u001b[0m \u001b[1m53s\u001b[0m 258ms/step - accuracy: 0.8921 - loss: 0.3390 - val_accuracy: 0.8726 - val_loss: 0.4277\n",
      "Epoch 99/250\n",
      "\u001b[1m207/207\u001b[0m \u001b[32m━━━━━━━━━━━━━━━━━━━━\u001b[0m\u001b[37m\u001b[0m \u001b[1m53s\u001b[0m 258ms/step - accuracy: 0.8961 - loss: 0.3376 - val_accuracy: 0.8640 - val_loss: 0.5049\n",
      "Epoch 100/250\n",
      "\u001b[1m207/207\u001b[0m \u001b[32m━━━━━━━━━━━━━━━━━━━━\u001b[0m\u001b[37m\u001b[0m \u001b[1m53s\u001b[0m 258ms/step - accuracy: 0.8934 - loss: 0.3441 - val_accuracy: 0.8697 - val_loss: 0.4429\n",
      "Epoch 101/250\n",
      "\u001b[1m207/207\u001b[0m \u001b[32m━━━━━━━━━━━━━━━━━━━━\u001b[0m\u001b[37m\u001b[0m \u001b[1m53s\u001b[0m 258ms/step - accuracy: 0.8949 - loss: 0.3344 - val_accuracy: 0.8703 - val_loss: 0.4370\n",
      "Epoch 102/250\n",
      "\u001b[1m207/207\u001b[0m \u001b[32m━━━━━━━━━━━━━━━━━━━━\u001b[0m\u001b[37m\u001b[0m \u001b[1m53s\u001b[0m 258ms/step - accuracy: 0.8940 - loss: 0.3391 - val_accuracy: 0.8704 - val_loss: 0.4401\n",
      "Epoch 103/250\n",
      "\u001b[1m207/207\u001b[0m \u001b[32m━━━━━━━━━━━━━━━━━━━━\u001b[0m\u001b[37m\u001b[0m \u001b[1m53s\u001b[0m 258ms/step - accuracy: 0.8947 - loss: 0.3310 - val_accuracy: 0.8745 - val_loss: 0.4347\n",
      "Epoch 104/250\n",
      "\u001b[1m207/207\u001b[0m \u001b[32m━━━━━━━━━━━━━━━━━━━━\u001b[0m\u001b[37m\u001b[0m \u001b[1m53s\u001b[0m 258ms/step - accuracy: 0.8956 - loss: 0.3332 - val_accuracy: 0.8709 - val_loss: 0.4321\n",
      "Epoch 105/250\n",
      "\u001b[1m207/207\u001b[0m \u001b[32m━━━━━━━━━━━━━━━━━━━━\u001b[0m\u001b[37m\u001b[0m \u001b[1m53s\u001b[0m 258ms/step - accuracy: 0.8922 - loss: 0.3431 - val_accuracy: 0.8712 - val_loss: 0.4425\n",
      "Epoch 106/250\n",
      "\u001b[1m207/207\u001b[0m \u001b[32m━━━━━━━━━━━━━━━━━━━━\u001b[0m\u001b[37m\u001b[0m \u001b[1m53s\u001b[0m 258ms/step - accuracy: 0.8918 - loss: 0.3385 - val_accuracy: 0.8695 - val_loss: 0.4455\n",
      "Epoch 107/250\n",
      "\u001b[1m207/207\u001b[0m \u001b[32m━━━━━━━━━━━━━━━━━━━━\u001b[0m\u001b[37m\u001b[0m \u001b[1m53s\u001b[0m 258ms/step - accuracy: 0.8956 - loss: 0.3309 - val_accuracy: 0.8679 - val_loss: 0.4565\n",
      "Epoch 108/250\n",
      "\u001b[1m207/207\u001b[0m \u001b[32m━━━━━━━━━━━━━━━━━━━━\u001b[0m\u001b[37m\u001b[0m \u001b[1m53s\u001b[0m 258ms/step - accuracy: 0.8950 - loss: 0.3343 - val_accuracy: 0.8652 - val_loss: 0.4537\n",
      "Epoch 109/250\n",
      "\u001b[1m207/207\u001b[0m \u001b[32m━━━━━━━━━━━━━━━━━━━━\u001b[0m\u001b[37m\u001b[0m \u001b[1m53s\u001b[0m 258ms/step - accuracy: 0.8930 - loss: 0.3401 - val_accuracy: 0.8774 - val_loss: 0.4075\n"
     ]
    }
   ],
   "source": [
    "from tensorflow.keras.callbacks import EarlyStopping\n",
    "import shutil\n",
    "\n",
    "train_model = True\n",
    "\n",
    "weights_path = \"/kaggle/input/char-recognition-model-double-english/keras/default/1/char_recog_model_double_english.weights.h5\"\n",
    "if os.path.isfile(weights_path) and not train_model:\n",
    "    model.load_weights(weights_path)\n",
    "    history = None\n",
    "\n",
    "else:\n",
    "    early_stopping = EarlyStopping(min_delta=0.001, patience=20, restore_best_weights=True)\n",
    "    \n",
    "    optimizer = tf.keras.optimizers.AdamW(learning_rate=1e-3, weight_decay=1e-5)\n",
    "    model.compile(\n",
    "        optimizer=optimizer,\n",
    "        loss='categorical_crossentropy',\n",
    "        metrics=['accuracy'],\n",
    "    )\n",
    "    \n",
    "    history = model.fit(\n",
    "        ds_train,\n",
    "        validation_data=ds_valid,\n",
    "        epochs=250,\n",
    "        callbacks=[early_stopping]\n",
    "    )\n",
    "\n",
    "    model.save_weights(\"char_recog_model.weights.h5\")\n",
    "    shutil.move(\"char_recog_model.weights.h5\", \"/kaggle/working/char_recog_model.weights.h5\")"
   ]
  },
  {
   "cell_type": "code",
   "execution_count": 14,
   "metadata": {
    "execution": {
     "iopub.execute_input": "2024-12-04T15:55:52.384375Z",
     "iopub.status.busy": "2024-12-04T15:55:52.384102Z",
     "iopub.status.idle": "2024-12-04T15:55:52.760035Z",
     "shell.execute_reply": "2024-12-04T15:55:52.759083Z",
     "shell.execute_reply.started": "2024-12-04T15:55:52.384348Z"
    },
    "trusted": true
   },
   "outputs": [
    {
     "data": {
      "image/png": "[encoded data removed]",
      "text/plain": [
       "<Figure size 640x480 with 1 Axes>"
      ]
     },
     "metadata": {},
     "output_type": "display_data"
    },
    {
     "data": {
      "image/png": "[encoded data removed]",
      "text/plain": [
       "<Figure size 640x480 with 1 Axes>"
      ]
     },
     "metadata": {},
     "output_type": "display_data"
    }
   ],
   "source": [
    "import pandas as pd\n",
    "if history is not None:\n",
    "    history_frame = pd.DataFrame(history.history)\n",
    "    history_frame.loc[:, ['loss', 'val_loss']].plot()\n",
    "    history_frame.loc[:, ['accuracy', 'val_accuracy']].plot()"
   ]
  },
  {
   "cell_type": "code",
   "execution_count": 15,
   "metadata": {
    "execution": {
     "iopub.execute_input": "2024-12-04T15:55:52.761423Z",
     "iopub.status.busy": "2024-12-04T15:55:52.761156Z",
     "iopub.status.idle": "2024-12-04T15:55:52.766800Z",
     "shell.execute_reply": "2024-12-04T15:55:52.765996Z",
     "shell.execute_reply.started": "2024-12-04T15:55:52.761397Z"
    },
    "trusted": true
   },
   "outputs": [],
   "source": [
    "def plot_n_images(X, y, n=10, row_spacing=0.5):\n",
    "    plt.figure(figsize=(10, 5))\n",
    "    # Show the first n images if available, otherwise show all images\n",
    "    for i in range(min(n, X.shape[0], y.shape[0])):  \n",
    "        plt.subplot(n // 5 + 1, 5, i+1)\n",
    "        plt.imshow(X[i], cmap='gray')  # Assuming 28x28 images\n",
    "        plt.title(label_map[y[i]])\n",
    "        plt.axis('off')\n",
    "\n",
    "    plt.subplots_adjust(hspace=row_spacing)\n",
    "    plt.show()"
   ]
  },
  {
   "cell_type": "markdown",
   "metadata": {},
   "source": [
    "### Validation data same dataset accuracy"
   ]
  },
  {
   "cell_type": "code",
   "execution_count": 16,
   "metadata": {
    "execution": {
     "iopub.execute_input": "2024-12-04T15:55:52.768139Z",
     "iopub.status.busy": "2024-12-04T15:55:52.767863Z",
     "iopub.status.idle": "2024-12-04T15:55:56.752237Z",
     "shell.execute_reply": "2024-12-04T15:55:56.751406Z",
     "shell.execute_reply.started": "2024-12-04T15:55:52.768114Z"
    },
    "trusted": true
   },
   "outputs": [
    {
     "name": "stdout",
     "output_type": "stream",
     "text": [
      "\u001b[1m54/54\u001b[0m \u001b[32m━━━━━━━━━━━━━━━━━━━━\u001b[0m\u001b[37m\u001b[0m \u001b[1m4s\u001b[0m 73ms/step - accuracy: 0.8767 - loss: 0.4210\n",
      "0.39963608980178833 0.8797858953475952\n"
     ]
    }
   ],
   "source": [
    "from sklearn.metrics import accuracy_score\n",
    "\n",
    "if history is not None:\n",
    "    loss, accuracy = model.evaluate(ds_valid)\n",
    "    print(loss, accuracy)"
   ]
  },
  {
   "cell_type": "code",
   "execution_count": 17,
   "metadata": {
    "execution": {
     "iopub.execute_input": "2024-12-04T15:55:56.754133Z",
     "iopub.status.busy": "2024-12-04T15:55:56.753454Z",
     "iopub.status.idle": "2024-12-04T15:55:56.758601Z",
     "shell.execute_reply": "2024-12-04T15:55:56.757710Z",
     "shell.execute_reply.started": "2024-12-04T15:55:56.754088Z"
    },
    "trusted": true
   },
   "outputs": [],
   "source": [
    "from string import ascii_lowercase, ascii_uppercase\n",
    "alphabet_plus = \"0123456789\" + ascii_uppercase + ascii_lowercase\n",
    "label_map = {i: alphabet_plus[i] for i in range(len(alphabet_plus))}\n"
   ]
  },
  {
   "cell_type": "code",
   "execution_count": 18,
   "metadata": {
    "execution": {
     "iopub.execute_input": "2024-12-04T15:55:56.760172Z",
     "iopub.status.busy": "2024-12-04T15:55:56.759821Z",
     "iopub.status.idle": "2024-12-04T15:55:56.769896Z",
     "shell.execute_reply": "2024-12-04T15:55:56.769173Z",
     "shell.execute_reply.started": "2024-12-04T15:55:56.760134Z"
    },
    "trusted": true
   },
   "outputs": [],
   "source": [
    "dir_path = \"/kaggle/input/letters-and-digits/Images characters/\"\n",
    "\n",
    "dir_path_handwritten_upper = \"/kaggle/input/letters-and-digits/Images characters/Handwritten/Uppercase\"\n",
    "dir_path_handwritten_lower = \"/kaggle/input/letters-and-digits/Images characters/Handwritten/Lowercase\"\n",
    "dir_path_handwritten_math = \"/kaggle/input/letters-and-digits/Images characters/Handwritten/Math\"\n",
    "\n",
    "dir_path_typed_upper = \"/kaggle/input/letters-and-digits/Images characters/Typed/Uppercase\"\n",
    "dir_path_typed_lower = \"/kaggle/input/letters-and-digits/Images characters/Typed/Lowercase\"\n",
    "\n",
    "img_path_zero = \"/kaggle/input/letters-and-digits/Images characters/zero.png\"\n",
    "img_path_drawn_zero = \"/kaggle/input/letters-and-digits/Images characters/drawn_zero.png\"\n",
    "img_path_drawn_M_close = \"/kaggle/input/letters-and-digits/Images characters/M_handwritten_close.png\"\n",
    "img_path_drawn_M_far = \"/kaggle/input/letters-and-digits/Images characters/M_handwritten_far.png\""
   ]
  },
  {
   "cell_type": "code",
   "execution_count": 23,
   "metadata": {
    "execution": {
     "iopub.execute_input": "2024-12-04T16:04:39.078165Z",
     "iopub.status.busy": "2024-12-04T16:04:39.077425Z",
     "iopub.status.idle": "2024-12-04T16:04:40.026937Z",
     "shell.execute_reply": "2024-12-04T16:04:40.026127Z",
     "shell.execute_reply.started": "2024-12-04T16:04:39.078129Z"
    },
    "trusted": true
   },
   "outputs": [
    {
     "name": "stdout",
     "output_type": "stream",
     "text": [
      "(17, 128, 128, 1)\n",
      "\u001b[1m1/1\u001b[0m \u001b[32m━━━━━━━━━━━━━━━━━━━━\u001b[0m\u001b[37m\u001b[0m \u001b[1m0s\u001b[0m 18ms/step\n",
      "(17, 128, 128, 1) (17,)\n"
     ]
    },
    {
     "data": {
      "image/png": "[encoded data removed]",
      "text/plain": [
       "<Figure size 1000x500 with 17 Axes>"
      ]
     },
     "metadata": {},
     "output_type": "display_data"
    }
   ],
   "source": [
    "path = dir_path_typed_upper\n",
    "processed_images = load_and_preprocess_images_from_dir(path, target_size=(128, 128), grayscale=True, inverse=inverse)\n",
    "# processed_image = np.array([X_test[2]])\n",
    "\n",
    "print(processed_images.shape)\n",
    "\n",
    "# Make the prediction\n",
    "predictions = model.predict(processed_images)\n",
    "\n",
    "# For multi-class classification (e.g., 62 classes):\n",
    "# Get the index of the class with the highest probability\n",
    "predicted_classes = np.argmax(predictions, axis=1)\n",
    "\n",
    "print(processed_images.shape, predicted_classes.shape)\n",
    "plot_n_images(processed_images, predicted_classes, n=17, row_spacing=0.5)"
   ]
  },
  {
   "cell_type": "markdown",
   "metadata": {},
   "source": [
    "### EMNIST data accuracy"
   ]
  }
 ],
 "metadata": {
  "kaggle": {
   "accelerator": "gpu",
   "dataSources": [
    {
     "datasetId": 7160,
     "sourceId": 10705,
     "sourceType": "datasetVersion"
    },
    {
     "datasetId": 1176843,
     "sourceId": 1972672,
     "sourceType": "datasetVersion"
    },
    {
     "datasetId": 1752143,
     "sourceId": 2864176,
     "sourceType": "datasetVersion"
    },
    {
     "datasetId": 6172398,
     "sourceId": 10081359,
     "sourceType": "datasetVersion"
    },
    {
     "modelId": 175660,
     "modelInstanceId": 153188,
     "sourceId": 182777,
     "sourceType": "modelInstanceVersion"
    },
    {
     "isSourceIdPinned": true,
     "modelId": 182162,
     "modelInstanceId": 159790,
     "sourceId": 187431,
     "sourceType": "modelInstanceVersion"
    }
   ],
   "dockerImageVersionId": 30787,
   "isGpuEnabled": true,
   "isInternetEnabled": true,
   "language": "python",
   "sourceType": "notebook"
  },
  "kernelspec": {
   "display_name": "Python 3",
   "language": "python",
   "name": "python3"
  },
  "language_info": {
   "codemirror_mode": {
    "name": "ipython",
    "version": 3
   },
   "file_extension": ".py",
   "mimetype": "text/x-python",
   "name": "python",
   "nbconvert_exporter": "python",
   "pygments_lexer": "ipython3",
   "version": "3.10.14"
  }
 },
 "nbformat": 4,
 "nbformat_minor": 4
}
