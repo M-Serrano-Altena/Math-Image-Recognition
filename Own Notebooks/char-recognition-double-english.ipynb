{
 "cells": [
  {
   "cell_type": "markdown",
   "metadata": {},
   "source": [
    "## Character Image Recognition - Double English"
   ]
  },
  {
   "cell_type": "markdown",
   "metadata": {},
   "source": [
    "This notebook predicts different images of handwritten and typed characters ([a-z, A-Z, 0-9]) with a Neural Network. It uses two kaggle datasets. One for typed characters, and one for handwritten characters. (see the README for links)"
   ]
  },
  {
   "cell_type": "code",
   "execution_count": 1,
   "metadata": {},
   "outputs": [
    {
     "name": "stdout",
     "output_type": "stream",
     "text": [
      "start\n"
     ]
    }
   ],
   "source": [
    "print(\"start\")"
   ]
  },
  {
   "cell_type": "code",
   "execution_count": 2,
   "metadata": {
    "_cell_guid": "b1076dfc-b9ad-4769-8c92-a6c4dae69d19",
    "_uuid": "8f2839f25d086af736a60e9eeb907d3b93b6e0e5"
   },
   "outputs": [
    {
     "name": "stderr",
     "output_type": "stream",
     "text": [
      "2024-12-19 16:51:20.353050: I external/local_tsl/tsl/cuda/cudart_stub.cc:32] Could not find cuda drivers on your machine, GPU will not be used.\n",
      "2024-12-19 16:51:20.437072: I external/local_tsl/tsl/cuda/cudart_stub.cc:32] Could not find cuda drivers on your machine, GPU will not be used.\n",
      "2024-12-19 16:51:20.729251: I tensorflow/core/platform/cpu_feature_guard.cc:210] This TensorFlow binary is optimized to use available CPU instructions in performance-critical operations.\n",
      "To enable the following instructions: AVX2 FMA, in other operations, rebuild TensorFlow with the appropriate compiler flags.\n",
      "2024-12-19 16:51:21.909698: W tensorflow/compiler/tf2tensorrt/utils/py_utils.cc:38] TF-TRT Warning: Could not find TensorRT\n"
     ]
    }
   ],
   "source": [
    "import pandas as pd\n",
    "import numpy as np\n",
    "import tensorflow as tf\n",
    "from tensorflow import keras\n",
    "from tensorflow.keras import layers\n",
    "from tensorflow.keras.preprocessing import image_dataset_from_directory\n",
    "\n",
    "import matplotlib.pyplot as plt\n",
    "import os\n",
    "from sklearn.model_selection import train_test_split"
   ]
  },
  {
   "cell_type": "code",
   "execution_count": 3,
   "metadata": {},
   "outputs": [
    {
     "name": "stdout",
     "output_type": "stream",
     "text": [
      "2.16.1\n"
     ]
    }
   ],
   "source": [
    "print(tf.__version__)"
   ]
  },
  {
   "cell_type": "markdown",
   "metadata": {},
   "source": [
    "### Load Typed data as Tensorflow Dataset"
   ]
  },
  {
   "cell_type": "code",
   "execution_count": 4,
   "metadata": {},
   "outputs": [
    {
     "name": "stdout",
     "output_type": "stream",
     "text": [
      "Found 62992 files belonging to 62 classes.\n",
      "Using 50394 files for training.\n"
     ]
    },
    {
     "name": "stderr",
     "output_type": "stream",
     "text": [
      "2024-12-19 16:51:33.460452: I external/local_xla/xla/stream_executor/cuda/cuda_executor.cc:984] could not open file to read NUMA node: /sys/bus/pci/devices/0000:01:00.0/numa_node\n",
      "Your kernel may have been built without NUMA support.\n",
      "2024-12-19 16:51:33.461920: W tensorflow/core/common_runtime/gpu/gpu_device.cc:2251] Cannot dlopen some GPU libraries. Please make sure the missing libraries mentioned above are installed properly if you would like to use GPU. Follow the guide at https://www.tensorflow.org/install/gpu for how to download and setup the required libraries for your platform.\n",
      "Skipping registering GPU devices...\n"
     ]
    },
    {
     "name": "stdout",
     "output_type": "stream",
     "text": [
      "Found 62992 files belonging to 62 classes.\n",
      "Using 12598 files for validation.\n"
     ]
    }
   ],
   "source": [
    "dir_path = \"English-Font/Font/Font\"\n",
    "\n",
    "validation_frac = 0.2\n",
    "batch_size = 256\n",
    "image_shape = [128, 128]\n",
    "inverse = False\n",
    "\n",
    "ds_train = image_dataset_from_directory(\n",
    "    dir_path,\n",
    "    labels='inferred',\n",
    "    label_mode = 'categorical',\n",
    "    image_size=image_shape,\n",
    "    interpolation='nearest',\n",
    "    batch_size=batch_size,\n",
    "    shuffle=True,\n",
    "    subset=\"training\",\n",
    "    validation_split=validation_frac,\n",
    "    seed=0\n",
    ")\n",
    "\n",
    "ds_valid = image_dataset_from_directory(\n",
    "    dir_path,\n",
    "    labels='inferred',\n",
    "    label_mode = 'categorical',\n",
    "    image_size=image_shape,\n",
    "    interpolation='nearest',\n",
    "    batch_size=batch_size,\n",
    "    shuffle=True,\n",
    "    subset=\"validation\",\n",
    "    validation_split=validation_frac,\n",
    "    seed=0\n",
    ")\n",
    "\n",
    "# Data Pipeline\n",
    "def convert_to_float(image, label):\n",
    "    image = tf.image.convert_image_dtype(image, dtype=tf.float32)\n",
    "    image = tf.image.rgb_to_grayscale(image)\n",
    "    if inverse:\n",
    "        image = 1 - image\n",
    "    return image, label\n",
    "\n",
    "AUTOTUNE = tf.data.experimental.AUTOTUNE\n",
    "ds_train = (\n",
    "    ds_train\n",
    "    .map(convert_to_float)\n",
    "    .cache()\n",
    "    .prefetch(buffer_size=AUTOTUNE)\n",
    ")\n",
    "\n",
    "ds_valid = (\n",
    "    ds_valid\n",
    "    .map(convert_to_float)\n",
    "    .cache()\n",
    "    .prefetch(buffer_size=AUTOTUNE)\n",
    ")"
   ]
  },
  {
   "cell_type": "code",
   "execution_count": 5,
   "metadata": {},
   "outputs": [],
   "source": [
    "# # Initialize lists to hold the data\n",
    "# X_train = []\n",
    "# y_train = []\n",
    "\n",
    "# # Iterate through the dataset\n",
    "# for image_batch, label_batch in ds_train.as_numpy_iterator():\n",
    "#     X_train.append(image_batch)\n",
    "#     y_train.append(label_batch)\n",
    "\n",
    "# # Convert lists to NumPy arrays\n",
    "# X_train = np.concatenate(X_train, axis=0)\n",
    "# y_train = np.concatenate(y_train, axis=0)\n",
    "# y_train = np.argmax(y_train, axis=1)\n",
    "\n",
    "# print(X_train.shape, y_train.shape)\n",
    "\n"
   ]
  },
  {
   "cell_type": "code",
   "execution_count": 6,
   "metadata": {},
   "outputs": [],
   "source": [
    "# # Initialize lists to hold the data\n",
    "# X_val = []\n",
    "# y_val = []\n",
    "\n",
    "# # Iterate through the dataset\n",
    "# for image_batch, label_batch in ds_valid.as_numpy_iterator():\n",
    "#     X_val.append(image_batch)\n",
    "#     y_val.append(label_batch)\n",
    "\n",
    "# # Convert lists to NumPy arrays\n",
    "# X_val = np.concatenate(X_val, axis=0)\n",
    "# y_val = np.concatenate(y_val, axis=0)\n",
    "# y_val = np.argmax(y_val, axis=1)\n",
    "\n",
    "# print(X_val.shape, y_val.shape)"
   ]
  },
  {
   "cell_type": "code",
   "execution_count": 7,
   "metadata": {},
   "outputs": [],
   "source": [
    "def one_hot_encode(y):\n",
    "    return keras.utils.to_categorical(y, num_classes=62)"
   ]
  },
  {
   "cell_type": "markdown",
   "metadata": {},
   "source": [
    "### Load custom images in same format as train data"
   ]
  },
  {
   "cell_type": "code",
   "execution_count": 8,
   "metadata": {},
   "outputs": [],
   "source": [
    "from tensorflow.keras.preprocessing import image\n",
    "\n",
    "def load_and_preprocess_image(img_path, target_size=image_shape, inverse=False, grayscale=False):\n",
    "    \"\"\"\n",
    "    Load an image and make it a numpy array.\n",
    "    \"\"\"\n",
    "    # Load the image\n",
    "    img = image.load_img(img_path, target_size=target_size)\n",
    "    \n",
    "    # Convert to an array\n",
    "    img_array = image.img_to_array(img)\n",
    "\n",
    "    if grayscale:\n",
    "        # Convert RGB to Grayscale\n",
    "        img_array = tf.image.rgb_to_grayscale(img_array)\n",
    "\n",
    "    # normalize to [0, 1]\n",
    "    img_array = img_array / np.max(img_array)\n",
    "\n",
    "    if inverse:\n",
    "        img_array = 1 - img_array\n",
    "    \n",
    "    # Add a batch dimension (because the model expects a batch of images)\n",
    "    img_array = np.expand_dims(img_array, axis=0)\n",
    "    \n",
    "    return img_array"
   ]
  },
  {
   "cell_type": "code",
   "execution_count": 9,
   "metadata": {},
   "outputs": [],
   "source": [
    "def load_and_preprocess_images_from_dir(dir_path, target_size=image_shape, inverse=False, grayscale=False):\n",
    "    X = []\n",
    "    for img in sorted(os.listdir(dir_path)):\n",
    "        img_path = os.path.join(dir_path, img)\n",
    "        if not os.path.isfile(img_path):\n",
    "            continue\n",
    "            \n",
    "        img_array = load_and_preprocess_image(img_path, target_size=target_size, inverse=inverse, grayscale=grayscale)\n",
    "        img_array = np.squeeze(img_array, axis=0)\n",
    "        X.append(img_array)\n",
    "\n",
    "    X = np.array(X)\n",
    "    return X"
   ]
  },
  {
   "cell_type": "code",
   "execution_count": 10,
   "metadata": {},
   "outputs": [],
   "source": [
    "def load_and_preprocess_all_image_classes_from_dir(dir_path, target_size=image_shape, inverse=False, grayscale=False):\n",
    "    X = []\n",
    "    y = []\n",
    "    for img in sorted(os.listdir(dir_path)):\n",
    "        img_path = os.path.join(dir_path, img)\n",
    "        if not os.path.isfile(img_path):\n",
    "            continue\n",
    "\n",
    "        i = int(img[3:6]) - 1 # index starts at 0\n",
    "        \n",
    "        img_array = load_and_preprocess_image(img_path, target_size=target_size, inverse=inverse, grayscale=grayscale)\n",
    "        img_array = np.squeeze(img_array, axis=0)\n",
    "        X.append(img_array)\n",
    "        y.append(i)\n",
    "\n",
    "    X = np.array(X)\n",
    "    y = np.array(y)\n",
    "    return X, y"
   ]
  },
  {
   "cell_type": "markdown",
   "metadata": {},
   "source": [
    "### Load Handwritten data as Tensorflow Dataset"
   ]
  },
  {
   "cell_type": "code",
   "execution_count": 11,
   "metadata": {},
   "outputs": [],
   "source": [
    "dir2_path = \"English-handwritten/Img\"\n",
    "X2, y2 = load_and_preprocess_all_image_classes_from_dir(dir2_path, target_size=image_shape)\n",
    "y2 = one_hot_encode(y2).astype(np.float32)\n",
    "\n",
    "X2_train, X2_val, y2_train, y2_val = train_test_split(X2, y2)\n",
    "\n",
    "ds2_train = tf.data.Dataset.from_tensor_slices((X2_train, y2_train))\n",
    "ds2_train = (\n",
    "    ds2_train\n",
    "    .shuffle(buffer_size=len(X2_train))  # Shuffle the dataset\n",
    "    .batch(batch_size) \n",
    "    .map(convert_to_float)\n",
    "    .cache()\n",
    "    .prefetch(buffer_size=AUTOTUNE)\n",
    ")\n",
    "\n",
    "ds2_valid = tf.data.Dataset.from_tensor_slices((X2_val, y2_val))\n",
    "ds2_valid = (\n",
    "    ds2_valid\n",
    "    .shuffle(buffer_size=len(X2_val))  # Shuffle the dataset\n",
    "    .batch(batch_size) \n",
    "    .map(convert_to_float)\n",
    "    .cache()\n",
    "    .prefetch(buffer_size=AUTOTUNE)\n",
    ")\n",
    "\n",
    "ds_train = ds_train.concatenate(ds2_train)\n",
    "ds_valid = ds_valid.concatenate(ds2_valid)\n",
    "\n",
    "ds_train = ds_train.shuffle(buffer_size=10000)\n",
    "ds_valid = ds_valid.shuffle(buffer_size=10000)"
   ]
  },
  {
   "cell_type": "code",
   "execution_count": 12,
   "metadata": {},
   "outputs": [
    {
     "name": "stdout",
     "output_type": "stream",
     "text": [
      "(TensorSpec(shape=(None, 128, 128, 1), dtype=tf.float32, name=None), TensorSpec(shape=(None, 62), dtype=tf.float32, name=None))\n",
      "(TensorSpec(shape=(None, 128, 128, 1), dtype=tf.float32, name=None), TensorSpec(shape=(None, 62), dtype=tf.float32, name=None))\n"
     ]
    }
   ],
   "source": [
    "# free memory\n",
    "del X2_train\n",
    "del y2_train\n",
    "del X2_val\n",
    "del y2_val\n",
    "\n",
    "print(ds_valid.element_spec)\n",
    "print(ds2_valid.element_spec)"
   ]
  },
  {
   "cell_type": "markdown",
   "metadata": {},
   "source": [
    "## Train Model"
   ]
  },
  {
   "cell_type": "markdown",
   "metadata": {},
   "source": [
    "The model used is a Sequential model with multiple convolutional layers. Each layer is maxpooled, which should be better for black background images, because then the target is amplified instead of the background (black = 0, white = 1). However the model seems to work better when training and using white blackground images. \n",
    "\n",
    "The layer is finally \"flattened\" with the GlobalAveragePooling layer, and then the output is put into dense layers. The model also uses data augmentation and a dropout layer to reduce overfitting."
   ]
  },
  {
   "cell_type": "code",
   "execution_count": 13,
   "metadata": {},
   "outputs": [],
   "source": [
    "model = keras.Sequential([\n",
    "    layers.InputLayer(shape=image_shape + [1]),\n",
    "    \n",
    "    # Data Augmentation\n",
    "    layers.RandomContrast(factor=0.1),\n",
    "    layers.RandomTranslation(height_factor=0.1, width_factor=0.1),\n",
    "    layers.RandomZoom(height_factor=0.1, width_factor=0.1),\n",
    "\n",
    "    # Block One\n",
    "    layers.BatchNormalization(),\n",
    "    layers.Conv2D(filters=64, kernel_size=3, activation='relu', padding='same', kernel_regularizer='l2'),\n",
    "    layers.MaxPool2D(),\n",
    "\n",
    "    # Block Two\n",
    "    layers.BatchNormalization(),\n",
    "    layers.Conv2D(filters=128, kernel_size=3, activation='relu', padding='same', kernel_regularizer='l2'),\n",
    "    layers.MaxPool2D(),\n",
    "\n",
    "    # Block Three\n",
    "    layers.BatchNormalization(),\n",
    "    layers.Conv2D(filters=256, kernel_size=3, activation='relu', padding='same'),\n",
    "    layers.Conv2D(filters=256, kernel_size=3, activation='relu', padding='same'),\n",
    "    layers.MaxPool2D(),\n",
    "\n",
    "    layers.GlobalAveragePooling2D(),\n",
    "\n",
    "    # Head\n",
    "    layers.BatchNormalization(),\n",
    "    layers.Dropout(0.5),\n",
    "    layers.Dense(128, activation='relu', kernel_regularizer='l2'),\n",
    "    layers.Dense(62, activation='softmax'),\n",
    "])"
   ]
  },
  {
   "cell_type": "markdown",
   "metadata": {},
   "source": [
    "If train_model is True and a weights file is found, then those weights will be loaded. Otherwise the model is trained for 250 epochs, with an earlystopping callback in case the validation loss doesn't improve for 20 epochs."
   ]
  },
  {
   "cell_type": "code",
   "execution_count": 14,
   "metadata": {},
   "outputs": [],
   "source": [
    "from tensorflow.keras.callbacks import EarlyStopping\n",
    "import shutil\n",
    "\n",
    "train_model = False\n",
    "\n",
    "weights_path = \"../models/Double English/char_recog_model_double_english_v2.weights.h5\"\n",
    "if os.path.isfile(weights_path) and not train_model:\n",
    "    model.load_weights(weights_path)\n",
    "    history = None\n",
    "\n",
    "else:\n",
    "    early_stopping = EarlyStopping(min_delta=0.001, patience=20, restore_best_weights=True)\n",
    "    \n",
    "    optimizer = tf.keras.optimizers.AdamW(learning_rate=1e-3, weight_decay=1e-5)\n",
    "    model.compile(\n",
    "        optimizer=optimizer,\n",
    "        loss='categorical_crossentropy',\n",
    "        metrics=['accuracy'],\n",
    "    )\n",
    "    \n",
    "    history = model.fit(\n",
    "        ds_train,\n",
    "        validation_data=ds_valid,\n",
    "        epochs=250,\n",
    "        callbacks=[early_stopping]\n",
    "    )\n",
    "\n",
    "    model.save_weights(\"char_recog_model_double_english.weights.h5\")"
   ]
  },
  {
   "cell_type": "markdown",
   "metadata": {},
   "source": [
    "### Show Loss and Accuracy"
   ]
  },
  {
   "cell_type": "code",
   "execution_count": 15,
   "metadata": {},
   "outputs": [],
   "source": [
    "import pandas as pd\n",
    "if history is not None:\n",
    "    history_frame = pd.DataFrame(history.history)\n",
    "    history_frame.loc[:, ['loss', 'val_loss']].plot()\n",
    "    history_frame.loc[:, ['accuracy', 'val_accuracy']].plot()"
   ]
  },
  {
   "cell_type": "code",
   "execution_count": 16,
   "metadata": {},
   "outputs": [],
   "source": [
    "def plot_n_images(X, y, n=10, row_spacing=0.5):\n",
    "    plt.figure(figsize=(10, 5))\n",
    "    # Show the first n images if available, otherwise show all images\n",
    "    for i in range(min(n, X.shape[0], y.shape[0])):  \n",
    "        plt.subplot(n // 5 + 1, 5, i+1)\n",
    "        plt.imshow(X[i], cmap='gray')  # Assuming 28x28 images\n",
    "        plt.title(label_map[y[i]])\n",
    "        plt.axis('off')\n",
    "\n",
    "    plt.subplots_adjust(hspace=row_spacing)\n",
    "    plt.show()"
   ]
  },
  {
   "cell_type": "markdown",
   "metadata": {},
   "source": [
    "### Validating the data"
   ]
  },
  {
   "cell_type": "code",
   "execution_count": 17,
   "metadata": {},
   "outputs": [],
   "source": [
    "from sklearn.metrics import accuracy_score\n",
    "\n",
    "if history is not None:\n",
    "    loss, accuracy = model.evaluate(ds_valid)\n",
    "    print(loss, accuracy)"
   ]
  },
  {
   "cell_type": "code",
   "execution_count": 18,
   "metadata": {},
   "outputs": [],
   "source": [
    "from string import ascii_lowercase, ascii_uppercase\n",
    "alphabet_plus = \"0123456789\" + ascii_uppercase + ascii_lowercase\n",
    "label_map = {i: alphabet_plus[i] for i in range(len(alphabet_plus))}\n"
   ]
  },
  {
   "cell_type": "markdown",
   "metadata": {},
   "source": [
    "#### Custom data"
   ]
  },
  {
   "cell_type": "code",
   "execution_count": 19,
   "metadata": {},
   "outputs": [],
   "source": [
    "base_dir_path = \"../Images characters\"\n",
    "\n",
    "dir_path_handwritten_upper = os.path.join(base_dir_path, \"Handwritten/Uppercase\")\n",
    "dir_path_handwritten_lower = os.path.join(base_dir_path, \"Handwritten/Lowercase\")\n",
    "dir_path_handwritten_math = os.path.join(base_dir_path, \"Handwritten/Math\")\n",
    "\n",
    "dir_path_typed_upper = os.path.join(base_dir_path, \"Typed/Uppercase\")\n",
    "dir_path_typed_lower = os.path.join(base_dir_path, \"Typed/Lowercase\")\n",
    "\n",
    "img_path_zero = os.path.join(base_dir_path, \"zero.png\")\n",
    "img_path_drawn_zero = os.path.join(base_dir_path, \"drawn_zero.png\")\n",
    "img_path_drawn_M_close = os.path.join(base_dir_path, \"M_handwritten_close.png\")\n",
    "img_path_drawn_M_far = os.path.join(base_dir_path, \"M_handwritten_far.png\")"
   ]
  },
  {
   "cell_type": "code",
   "execution_count": 20,
   "metadata": {},
   "outputs": [
    {
     "name": "stdout",
     "output_type": "stream",
     "text": [
      "(17, 128, 128, 1)\n",
      "\u001b[1m1/1\u001b[0m \u001b[32m━━━━━━━━━━━━━━━━━━━━\u001b[0m\u001b[37m\u001b[0m \u001b[1m0s\u001b[0m 328ms/step\n",
      "(17, 128, 128, 1) (17,)\n"
     ]
    },
    {
     "data": {
      "image/png": "[encoded data removed]",
      "text/plain": [
       "<Figure size 1000x500 with 17 Axes>"
      ]
     },
     "metadata": {},
     "output_type": "display_data"
    }
   ],
   "source": [
    "path = dir_path_typed_upper # Change to use a different directory/image\n",
    "processed_images = load_and_preprocess_images_from_dir(path, target_size=(128, 128), grayscale=True, inverse=inverse)\n",
    "# processed_image = np.array([X_test[2]])\n",
    "\n",
    "print(processed_images.shape)\n",
    "\n",
    "# Make the prediction\n",
    "predictions = model.predict(processed_images)\n",
    "\n",
    "# For multi-class classification (e.g., 62 classes):\n",
    "# Get the index of the class with the highest probability\n",
    "predicted_classes = np.argmax(predictions, axis=1)\n",
    "\n",
    "print(processed_images.shape, predicted_classes.shape)\n",
    "plot_n_images(processed_images, predicted_classes, n=17, row_spacing=0.5)"
   ]
  },
  {
   "cell_type": "markdown",
   "metadata": {},
   "source": [
    "## Predict your own images"
   ]
  },
  {
   "cell_type": "code",
   "execution_count": 21,
   "metadata": {},
   "outputs": [
    {
     "ename": "SyntaxError",
     "evalue": "invalid syntax (3881052895.py, line 1)",
     "output_type": "error",
     "traceback": [
      "\u001b[0;36m  Cell \u001b[0;32mIn[21], line 1\u001b[0;36m\u001b[0m\n\u001b[0;31m    You can add your own images of (handwritten) characters to see how the model performs.\u001b[0m\n\u001b[0m        ^\u001b[0m\n\u001b[0;31mSyntaxError\u001b[0m\u001b[0;31m:\u001b[0m invalid syntax\n"
     ]
    }
   ],
   "source": [
    "You can add your own images of (handwritten) characters to see how the model performs. "
   ]
  },
  {
   "cell_type": "code",
   "execution_count": null,
   "metadata": {},
   "outputs": [],
   "source": [
    "# Add your own images and the path\n",
    "img_path_handwritten_S_blue = os.path.join(base_dir_path, \"handwritten_S_blue.jpg\")\n",
    "img_path_handwritten_S_black = os.path.join(base_dir_path, \"handwritten_S_black.jpg\")\n",
    "img_path_handwritten_S_far = os.path.join(base_dir_path, \"handwritten_S_far.jpg\")\n",
    "\n",
    "img_path_custom = os.path.join(base_dir_path, \"S.png\")"
   ]
  },
  {
   "cell_type": "code",
   "execution_count": null,
   "metadata": {},
   "outputs": [],
   "source": [
    "img_path = img_path_handwritten_S_black # Change the path to your image\n",
    "\n",
    "processed_image = load_and_preprocess_image(img_path, target_size=(128, 128), grayscale=True, inverse=inverse)\n",
    "prediction = model.predict(processed_image)\n",
    "predicted_label = np.argmax(prediction, axis=-1)[0]\n",
    "\n",
    "processed_image = np.squeeze(processed_image, axis=(0, -1))\n",
    "print(processed_image.shape)\n",
    "plt.imshow(processed_image, cmap='gray')\n",
    "print(f\"The model predicted the following character: {label_map[predicted_label]}\")"
   ]
  }
 ],
 "metadata": {
  "kaggle": {
   "accelerator": "gpu",
   "dataSources": [
    {
     "datasetId": 7160,
     "sourceId": 10705,
     "sourceType": "datasetVersion"
    },
    {
     "datasetId": 1176843,
     "sourceId": 1972672,
     "sourceType": "datasetVersion"
    },
    {
     "datasetId": 1752143,
     "sourceId": 2864176,
     "sourceType": "datasetVersion"
    },
    {
     "datasetId": 6172398,
     "sourceId": 10081359,
     "sourceType": "datasetVersion"
    },
    {
     "modelId": 175660,
     "modelInstanceId": 153188,
     "sourceId": 182777,
     "sourceType": "modelInstanceVersion"
    },
    {
     "isSourceIdPinned": true,
     "modelId": 182162,
     "modelInstanceId": 159790,
     "sourceId": 187431,
     "sourceType": "modelInstanceVersion"
    }
   ],
   "dockerImageVersionId": 30787,
   "isGpuEnabled": true,
   "isInternetEnabled": true,
   "language": "python",
   "sourceType": "notebook"
  },
  "kernelspec": {
   "display_name": "Python 3 (ipykernel)",
   "language": "python",
   "name": "python3"
  },
  "language_info": {
   "codemirror_mode": {
    "name": "ipython",
    "version": 3
   },
   "file_extension": ".py",
   "mimetype": "text/x-python",
   "name": "python",
   "nbconvert_exporter": "python",
   "pygments_lexer": "ipython3",
   "version": "3.10.12"
  }
 },
 "nbformat": 4,
 "nbformat_minor": 4
}
